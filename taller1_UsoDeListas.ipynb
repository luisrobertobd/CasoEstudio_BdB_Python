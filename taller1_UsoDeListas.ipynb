{
  "nbformat": 4,
  "nbformat_minor": 0,
  "metadata": {
    "colab": {
      "name": "taller1_UsoDeListas.ipynb",
      "provenance": [],
      "include_colab_link": true
    },
    "kernelspec": {
      "name": "python3",
      "display_name": "Python 3"
    },
    "language_info": {
      "name": "python"
    }
  },
  "cells": [
    {
      "cell_type": "markdown",
      "metadata": {
        "id": "view-in-github",
        "colab_type": "text"
      },
      "source": [
        "<a href=\"https://colab.research.google.com/github/luisrobertobd/CasoEstudio_BdB_Python/blob/master/taller1_UsoDeListas.ipynb\" target=\"_parent\"><img src=\"https://colab.research.google.com/assets/colab-badge.svg\" alt=\"Open In Colab\"/></a>"
      ]
    },
    {
      "cell_type": "code",
      "metadata": {
        "id": "w90u5lP69rNo"
      },
      "source": [
        "#a) Solicitar al usuario que digite las 4 notas del estudiante 1\n",
        "#b) Calcular el promedio de las notas del estudiante 1  mediante una lista"
      ],
      "execution_count": null,
      "outputs": []
    },
    {
      "cell_type": "code",
      "metadata": {
        "colab": {
          "base_uri": "https://localhost:8080/"
        },
        "id": "80jGemxYODdL",
        "outputId": "4a3385cc-dc4d-4238-e0f8-6a81e1524ef2"
      },
      "source": [
        "n1 = float (input  (\"ingrese la nota 1 del estudiante 1  \"))\n",
        "n2 = float (input  (\"ingrese la nota 2 del estudiante 1  \"))\n",
        "n3 = float (input  (\"ingrese la nota 3 del estudiante 1  \"))\n",
        "n4 = float (input  (\"ingrese la nota 4 del estudiante 1  \"))\n",
        "\n",
        "\n",
        "\n",
        "promedio_lista =  [n1,n2,n3,n4]\n",
        "\n",
        "promedio1  =  (n1 + n2+n3+n4) /4\n",
        "print (promedio1)\n",
        "print (promedio_lista)\n",
        "promedio2 = 0 \n",
        "for i in range(len(promedio_lista)):\n",
        "     promedio2 = promedio2 + promedio_lista[i] \n",
        "print(promedio2/len(promedio_lista)) \n"
      ],
      "execution_count": null,
      "outputs": [
        {
          "output_type": "stream",
          "text": [
            "ingrese la nota 1 del estudiante 1  4\n",
            "ingrese la nota 2 del estudiante 1  5\n",
            "ingrese la nota 3 del estudiante 1  6\n",
            "ingrese la nota 4 del estudiante 1  5\n",
            "5.0\n",
            "[4.0, 5.0, 6.0, 5.0]\n",
            "5.0\n"
          ],
          "name": "stdout"
        }
      ]
    },
    {
      "cell_type": "code",
      "metadata": {
        "id": "xAVLWUqj9GeB"
      },
      "source": [
        "##Cree una función llamada sumar_elementos, que reciba como parámetro una lista de números enteros y retorne la suma de todos los números de la lista \n",
        "##Ejemplo  print(sumar_elementos([10, 20, 0, 50]))\n",
        "##valor esperado: 80"
      ],
      "execution_count": null,
      "outputs": []
    },
    {
      "cell_type": "code",
      "metadata": {
        "id": "x-NokMYr97Ui"
      },
      "source": [
        "##Cree una función llamada numero_mas_pequenio, que reciba como parámetro una lista de números enteros y retorne el número más pequeño de la lista\n",
        "##Ejemplo   print(numero_mas_pequenio([10, 30, 5, 4, 8]))\n",
        "##Resultado Esperado   :  4"
      ],
      "execution_count": null,
      "outputs": []
    }
  ]
}