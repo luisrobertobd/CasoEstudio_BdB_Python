{
  "nbformat": 4,
  "nbformat_minor": 0,
  "metadata": {
    "colab": {
      "name": "taller1_UsoDeListas.ipynb",
      "provenance": [],
      "include_colab_link": true
    },
    "kernelspec": {
      "name": "python3",
      "display_name": "Python 3"
    },
    "language_info": {
      "name": "python"
    }
  },
  "cells": [
    {
      "cell_type": "markdown",
      "metadata": {
        "id": "view-in-github",
        "colab_type": "text"
      },
      "source": [
        "<a href=\"https://colab.research.google.com/github/luisrobertobd/CasoEstudio_BdB_Python/blob/master/taller1_UsoDeListas.ipynb\" target=\"_parent\"><img src=\"https://colab.research.google.com/assets/colab-badge.svg\" alt=\"Open In Colab\"/></a>"
      ]
    },
    {
      "cell_type": "code",
      "metadata": {
        "id": "w90u5lP69rNo"
      },
      "source": [
        "#a) Solicitar al usuario que digite las 4 notas del estudiante 1,\n",
        "#b) Calcular el promedio de las notas del estudiante 1  mediante una lista."
      ],
      "execution_count": null,
      "outputs": []
    },
    {
      "cell_type": "code",
      "metadata": {
        "colab": {
          "base_uri": "https://localhost:8080/"
        },
        "id": "80jGemxYODdL",
        "outputId": "fd1356ff-8107-457b-f213-af46509d15fc"
      },
      "source": [
        "n1 = float (input  (\"ingrese la nota 1 del estudiante 1  \"))\n",
        "n2 = float (input  (\"ingrese la nota 2 del estudiante 1  \"))\n",
        "n3 = float (input  (\"ingrese la nota 3 del estudiante 1  \"))\n",
        "n4 = float (input  (\"ingrese la nota 4 del estudiante 1  \"))\n",
        "\n",
        "\n",
        "\n",
        "promedio_lista =  [n1,n2,n3,n4]\n",
        "\n",
        "promedio1  =  (n1 + n2+n3+n4) /4\n",
        "print (promedio1)\n",
        "print (promedio_lista)\n",
        "promedio2 = 0 \n",
        "for i in range(len(promedio_lista)):\n",
        "    promedio2 = promedio2 + promedio_lista[i] \n",
        "print(promedio2/len(promedio_lista)) \n"
      ],
      "execution_count": 1,
      "outputs": [
        {
          "output_type": "stream",
          "text": [
            "ingrese la nota 1 del estudiante 1  2.5\n",
            "ingrese la nota 2 del estudiante 1  3.8\n",
            "ingrese la nota 3 del estudiante 1  4.2\n",
            "ingrese la nota 4 del estudiante 1  3.6\n",
            "3.525\n",
            "[2.5, 3.8, 4.2, 3.6]\n",
            "3.525\n"
          ],
          "name": "stdout"
        }
      ]
    },
    {
      "cell_type": "code",
      "metadata": {
        "id": "xAVLWUqj9GeB"
      },
      "source": [
        "##Cree una función llamada sumar_elementos, que reciba como parámetro una lista de números enteros y retorne la suma de todos los números de la lista \n",
        "##Ejemplo  print(sumar_elementos([10, 20, 0, 50]))\n",
        "##valor esperado: 80"
      ],
      "execution_count": null,
      "outputs": []
    },
    {
      "cell_type": "code",
      "metadata": {
        "id": "nsJwsCE6TOU1",
        "outputId": "f1590fb3-5e54-47bd-e618-921f47b35534",
        "colab": {
          "base_uri": "https://localhost:8080/"
        }
      },
      "source": [
        "def sumar_elementos(lista_num):\n",
        "  total = 0 \n",
        "  for i in range(len(lista_num)):\n",
        "    total = total + lista_num[i]\n",
        "  return total\n",
        "\n",
        "print(sumar_elementos([1,2,3,9]))\n",
        "    "
      ],
      "execution_count": 4,
      "outputs": [
        {
          "output_type": "stream",
          "text": [
            "15\n"
          ],
          "name": "stdout"
        }
      ]
    },
    {
      "cell_type": "code",
      "metadata": {
        "id": "x-NokMYr97Ui"
      },
      "source": [
        "##Cree una función llamada numero_mas_pequenio, que reciba como parámetro una lista de números enteros y retorne el número más pequeño de la lista\n",
        "##Ejemplo   print(numero_mas_pequenio([10, 30, 5, 4, 8]))\n",
        "##Resultado Esperado   :  4"
      ],
      "execution_count": null,
      "outputs": []
    },
    {
      "cell_type": "code",
      "metadata": {
        "colab": {
          "base_uri": "https://localhost:8080/"
        },
        "id": "PQY-wnjKZwi8",
        "outputId": "ac5d2b54-ec1f-4faf-afe3-78583f545bf3"
      },
      "source": [
        "def numero_mas_pequenio(lista_num):\n",
        "  \n",
        "  menor = lista_num[0]\n",
        "  num   = 0 \n",
        "  numsig = 0\n",
        "\n",
        "  for i in range(len(lista_num)):\n",
        "    num = lista_num[i]       \n",
        "    if (num<menor):\n",
        "      menor=num\n",
        "  return menor\n",
        "\n",
        "print(numero_mas_pequenio([10,30,5,40,3]))"
      ],
      "execution_count": 12,
      "outputs": [
        {
          "output_type": "stream",
          "text": [
            "3\n"
          ],
          "name": "stdout"
        }
      ]
    },
    {
      "cell_type": "code",
      "metadata": {
        "colab": {
          "base_uri": "https://localhost:8080/"
        },
        "id": "MW4Dvvc7aHLF",
        "outputId": "235b76c5-606e-434a-c89d-e61c101f204e"
      },
      "source": [
        "def numero_menor(listaNum):\n",
        "  listaNum.sort()\n",
        "  print(listaNum[0])\n",
        "  print(listaNum)\n",
        "numero_menor([1,5,1,6])\n"
      ],
      "execution_count": 32,
      "outputs": [
        {
          "output_type": "stream",
          "text": [
            "1\n",
            "[1, 1, 5, 6]\n"
          ],
          "name": "stdout"
        }
      ]
    }
  ]
}