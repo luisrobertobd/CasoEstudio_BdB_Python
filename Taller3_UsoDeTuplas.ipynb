{
  "nbformat": 4,
  "nbformat_minor": 0,
  "metadata": {
    "colab": {
      "name": "Taller3_UsoDeTuplas.ipynb",
      "provenance": [],
      "authorship_tag": "ABX9TyNmM2VhOBXiKttifrqWii+e",
      "include_colab_link": true
    },
    "kernelspec": {
      "name": "python3",
      "display_name": "Python 3"
    },
    "language_info": {
      "name": "python"
    }
  },
  "cells": [
    {
      "cell_type": "markdown",
      "metadata": {
        "id": "view-in-github",
        "colab_type": "text"
      },
      "source": [
        "<a href=\"https://colab.research.google.com/github/luisrobertobd/CasoEstudio_BdB_Python/blob/master/Taller3_UsoDeTuplas.ipynb\" target=\"_parent\"><img src=\"https://colab.research.google.com/assets/colab-badge.svg\" alt=\"Open In Colab\"/></a>"
      ]
    },
    {
      "cell_type": "markdown",
      "metadata": {
        "id": "cFnHeo_h2BG4"
      },
      "source": [
        "Una tupla permite almacenar una colección de datos no necesariamente del mismo tipo. Los datos de la tupla son inmutables a diferencia de las listas que son mutables.\n",
        "\n",
        "Una vez inicializada la tupla no podemos agregar, borrar o modificar sus elementos.\n",
        "\n",
        "La sintaxis para definir una tupla es indicar entre paréntesis sus valores:"
      ]
    },
    {
      "cell_type": "markdown",
      "metadata": {
        "id": "T85uO46Z1_6i"
      },
      "source": [
        ""
      ]
    },
    {
      "cell_type": "code",
      "metadata": {
        "colab": {
          "base_uri": "https://localhost:8080/"
        },
        "id": "oxehLPeV2fVQ",
        "outputId": "bbb9545d-e7d1-4f19-c342-80d1f2e1281b"
      },
      "source": [
        "def formato_fecha(fecha, vsep):\n",
        "    print(fecha[0],fecha[1],fecha[2],sep=vsep)\n",
        "\n",
        "x= 2021\n",
        "tupla1 = (x, '06', '01')\n",
        "tupla2 = ('01', '06', x)\n",
        "\n",
        "\n",
        "formato_fecha( tupla1, '/' )\n",
        "formato_fecha( tupla2,   '-')\n",
        "\n",
        "\n"
      ],
      "execution_count": 12,
      "outputs": [
        {
          "output_type": "stream",
          "name": "stdout",
          "text": [
            "2021/06/01\n",
            "01-06-2021\n"
          ]
        }
      ]
    },
    {
      "cell_type": "markdown",
      "metadata": {
        "id": "_VTI-oi487fm"
      },
      "source": [
        "Definir una tupla con tres valores enteros. \n",
        "\n",
        "*   Convertir el contenido de la tupla a tipo lista\n",
        "*   Modificar la lista \n",
        "*   convertir la lista en tupla.\n",
        "*   desagregar en 3 variables (v1 , v2 y v3 )   la tupla del punto anterior\n",
        " \n",
        "list()  --convertir a lista\n",
        "tuple()  --convertir a tupla\n",
        "\n",
        "\n"
      ]
    },
    {
      "cell_type": "code",
      "metadata": {
        "id": "k2-Se36lBpMd"
      },
      "source": [
        ""
      ],
      "execution_count": null,
      "outputs": []
    },
    {
      "cell_type": "markdown",
      "metadata": {
        "id": "65GpE4gsBpuQ"
      },
      "source": [
        ""
      ]
    }
  ]
}