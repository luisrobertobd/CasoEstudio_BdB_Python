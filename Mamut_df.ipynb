{
  "nbformat": 4,
  "nbformat_minor": 0,
  "metadata": {
    "colab": {
      "provenance": [],
      "authorship_tag": "ABX9TyNtAkMi/A+vPk0mWWkvNBus",
      "include_colab_link": true
    },
    "kernelspec": {
      "name": "python3",
      "display_name": "Python 3"
    },
    "language_info": {
      "name": "python"
    }
  },
  "cells": [
    {
      "cell_type": "markdown",
      "metadata": {
        "id": "view-in-github",
        "colab_type": "text"
      },
      "source": [
        "<a href=\"https://colab.research.google.com/github/luisrobertobd/CasoEstudio_BdB_Python/blob/main/Mamut_df.ipynb\" target=\"_parent\"><img src=\"https://colab.research.google.com/assets/colab-badge.svg\" alt=\"Open In Colab\"/></a>"
      ]
    },
    {
      "cell_type": "code",
      "source": [
        "!pip install pyspark"
      ],
      "metadata": {
        "colab": {
          "base_uri": "https://localhost:8080/"
        },
        "id": "gF4q-IhG0wBz",
        "outputId": "a6331905-5889-49dd-b650-f2361ba834d4"
      },
      "execution_count": 2,
      "outputs": [
        {
          "output_type": "stream",
          "name": "stdout",
          "text": [
            "Collecting pyspark\n",
            "  Downloading pyspark-3.4.1.tar.gz (310.8 MB)\n",
            "\u001b[2K     \u001b[90m━━━━━━━━━━━━━━━━━━━━━━━━━━━━━━━━━━━━━━━\u001b[0m \u001b[32m310.8/310.8 MB\u001b[0m \u001b[31m4.4 MB/s\u001b[0m eta \u001b[36m0:00:00\u001b[0m\n",
            "\u001b[?25h  Preparing metadata (setup.py) ... \u001b[?25l\u001b[?25hdone\n",
            "Requirement already satisfied: py4j==0.10.9.7 in /usr/local/lib/python3.10/dist-packages (from pyspark) (0.10.9.7)\n",
            "Building wheels for collected packages: pyspark\n",
            "  Building wheel for pyspark (setup.py) ... \u001b[?25l\u001b[?25hdone\n",
            "  Created wheel for pyspark: filename=pyspark-3.4.1-py2.py3-none-any.whl size=311285398 sha256=9c38c14d2ffaaa98b0acae9ddae7646fa00484d8b16c1d0c40c92ffee680fa83\n",
            "  Stored in directory: /root/.cache/pip/wheels/0d/77/a3/ff2f74cc9ab41f8f594dabf0579c2a7c6de920d584206e0834\n",
            "Successfully built pyspark\n",
            "Installing collected packages: pyspark\n",
            "Successfully installed pyspark-3.4.1\n"
          ]
        }
      ]
    },
    {
      "cell_type": "code",
      "source": [
        "\n",
        "import pyspark.sql\n",
        "\n",
        "from pyspark.sql import SparkSession\n",
        "\n",
        "spark = SparkSession.builder.appName(\"firstApp\").getOrCreate()"
      ],
      "metadata": {
        "id": "pQfvJF850wEo"
      },
      "execution_count": 3,
      "outputs": []
    },
    {
      "cell_type": "code",
      "source": [
        "from google.colab import files\n",
        "\n",
        "files.upload()\n",
        "\n",
        "df = spark.read.csv(\"GOOG.csv\", header=True, inferSchema=True)"
      ],
      "metadata": {
        "colab": {
          "base_uri": "https://localhost:8080/",
          "height": 73
        },
        "id": "RUimLjM50zFQ",
        "outputId": "6b7da69d-40c0-4161-c64e-8990cf473d65"
      },
      "execution_count": 4,
      "outputs": [
        {
          "output_type": "display_data",
          "data": {
            "text/plain": [
              "<IPython.core.display.HTML object>"
            ],
            "text/html": [
              "\n",
              "     <input type=\"file\" id=\"files-e96c2ce0-21be-4a10-a05d-d17627307837\" name=\"files[]\" multiple disabled\n",
              "        style=\"border:none\" />\n",
              "     <output id=\"result-e96c2ce0-21be-4a10-a05d-d17627307837\">\n",
              "      Upload widget is only available when the cell has been executed in the\n",
              "      current browser session. Please rerun this cell to enable.\n",
              "      </output>\n",
              "      <script>// Copyright 2017 Google LLC\n",
              "//\n",
              "// Licensed under the Apache License, Version 2.0 (the \"License\");\n",
              "// you may not use this file except in compliance with the License.\n",
              "// You may obtain a copy of the License at\n",
              "//\n",
              "//      http://www.apache.org/licenses/LICENSE-2.0\n",
              "//\n",
              "// Unless required by applicable law or agreed to in writing, software\n",
              "// distributed under the License is distributed on an \"AS IS\" BASIS,\n",
              "// WITHOUT WARRANTIES OR CONDITIONS OF ANY KIND, either express or implied.\n",
              "// See the License for the specific language governing permissions and\n",
              "// limitations under the License.\n",
              "\n",
              "/**\n",
              " * @fileoverview Helpers for google.colab Python module.\n",
              " */\n",
              "(function(scope) {\n",
              "function span(text, styleAttributes = {}) {\n",
              "  const element = document.createElement('span');\n",
              "  element.textContent = text;\n",
              "  for (const key of Object.keys(styleAttributes)) {\n",
              "    element.style[key] = styleAttributes[key];\n",
              "  }\n",
              "  return element;\n",
              "}\n",
              "\n",
              "// Max number of bytes which will be uploaded at a time.\n",
              "const MAX_PAYLOAD_SIZE = 100 * 1024;\n",
              "\n",
              "function _uploadFiles(inputId, outputId) {\n",
              "  const steps = uploadFilesStep(inputId, outputId);\n",
              "  const outputElement = document.getElementById(outputId);\n",
              "  // Cache steps on the outputElement to make it available for the next call\n",
              "  // to uploadFilesContinue from Python.\n",
              "  outputElement.steps = steps;\n",
              "\n",
              "  return _uploadFilesContinue(outputId);\n",
              "}\n",
              "\n",
              "// This is roughly an async generator (not supported in the browser yet),\n",
              "// where there are multiple asynchronous steps and the Python side is going\n",
              "// to poll for completion of each step.\n",
              "// This uses a Promise to block the python side on completion of each step,\n",
              "// then passes the result of the previous step as the input to the next step.\n",
              "function _uploadFilesContinue(outputId) {\n",
              "  const outputElement = document.getElementById(outputId);\n",
              "  const steps = outputElement.steps;\n",
              "\n",
              "  const next = steps.next(outputElement.lastPromiseValue);\n",
              "  return Promise.resolve(next.value.promise).then((value) => {\n",
              "    // Cache the last promise value to make it available to the next\n",
              "    // step of the generator.\n",
              "    outputElement.lastPromiseValue = value;\n",
              "    return next.value.response;\n",
              "  });\n",
              "}\n",
              "\n",
              "/**\n",
              " * Generator function which is called between each async step of the upload\n",
              " * process.\n",
              " * @param {string} inputId Element ID of the input file picker element.\n",
              " * @param {string} outputId Element ID of the output display.\n",
              " * @return {!Iterable<!Object>} Iterable of next steps.\n",
              " */\n",
              "function* uploadFilesStep(inputId, outputId) {\n",
              "  const inputElement = document.getElementById(inputId);\n",
              "  inputElement.disabled = false;\n",
              "\n",
              "  const outputElement = document.getElementById(outputId);\n",
              "  outputElement.innerHTML = '';\n",
              "\n",
              "  const pickedPromise = new Promise((resolve) => {\n",
              "    inputElement.addEventListener('change', (e) => {\n",
              "      resolve(e.target.files);\n",
              "    });\n",
              "  });\n",
              "\n",
              "  const cancel = document.createElement('button');\n",
              "  inputElement.parentElement.appendChild(cancel);\n",
              "  cancel.textContent = 'Cancel upload';\n",
              "  const cancelPromise = new Promise((resolve) => {\n",
              "    cancel.onclick = () => {\n",
              "      resolve(null);\n",
              "    };\n",
              "  });\n",
              "\n",
              "  // Wait for the user to pick the files.\n",
              "  const files = yield {\n",
              "    promise: Promise.race([pickedPromise, cancelPromise]),\n",
              "    response: {\n",
              "      action: 'starting',\n",
              "    }\n",
              "  };\n",
              "\n",
              "  cancel.remove();\n",
              "\n",
              "  // Disable the input element since further picks are not allowed.\n",
              "  inputElement.disabled = true;\n",
              "\n",
              "  if (!files) {\n",
              "    return {\n",
              "      response: {\n",
              "        action: 'complete',\n",
              "      }\n",
              "    };\n",
              "  }\n",
              "\n",
              "  for (const file of files) {\n",
              "    const li = document.createElement('li');\n",
              "    li.append(span(file.name, {fontWeight: 'bold'}));\n",
              "    li.append(span(\n",
              "        `(${file.type || 'n/a'}) - ${file.size} bytes, ` +\n",
              "        `last modified: ${\n",
              "            file.lastModifiedDate ? file.lastModifiedDate.toLocaleDateString() :\n",
              "                                    'n/a'} - `));\n",
              "    const percent = span('0% done');\n",
              "    li.appendChild(percent);\n",
              "\n",
              "    outputElement.appendChild(li);\n",
              "\n",
              "    const fileDataPromise = new Promise((resolve) => {\n",
              "      const reader = new FileReader();\n",
              "      reader.onload = (e) => {\n",
              "        resolve(e.target.result);\n",
              "      };\n",
              "      reader.readAsArrayBuffer(file);\n",
              "    });\n",
              "    // Wait for the data to be ready.\n",
              "    let fileData = yield {\n",
              "      promise: fileDataPromise,\n",
              "      response: {\n",
              "        action: 'continue',\n",
              "      }\n",
              "    };\n",
              "\n",
              "    // Use a chunked sending to avoid message size limits. See b/62115660.\n",
              "    let position = 0;\n",
              "    do {\n",
              "      const length = Math.min(fileData.byteLength - position, MAX_PAYLOAD_SIZE);\n",
              "      const chunk = new Uint8Array(fileData, position, length);\n",
              "      position += length;\n",
              "\n",
              "      const base64 = btoa(String.fromCharCode.apply(null, chunk));\n",
              "      yield {\n",
              "        response: {\n",
              "          action: 'append',\n",
              "          file: file.name,\n",
              "          data: base64,\n",
              "        },\n",
              "      };\n",
              "\n",
              "      let percentDone = fileData.byteLength === 0 ?\n",
              "          100 :\n",
              "          Math.round((position / fileData.byteLength) * 100);\n",
              "      percent.textContent = `${percentDone}% done`;\n",
              "\n",
              "    } while (position < fileData.byteLength);\n",
              "  }\n",
              "\n",
              "  // All done.\n",
              "  yield {\n",
              "    response: {\n",
              "      action: 'complete',\n",
              "    }\n",
              "  };\n",
              "}\n",
              "\n",
              "scope.google = scope.google || {};\n",
              "scope.google.colab = scope.google.colab || {};\n",
              "scope.google.colab._files = {\n",
              "  _uploadFiles,\n",
              "  _uploadFilesContinue,\n",
              "};\n",
              "})(self);\n",
              "</script> "
            ]
          },
          "metadata": {}
        },
        {
          "output_type": "stream",
          "name": "stdout",
          "text": [
            "Saving GOOG.csv to GOOG.csv\n"
          ]
        }
      ]
    },
    {
      "cell_type": "code",
      "source": [
        "df.head()"
      ],
      "metadata": {
        "colab": {
          "base_uri": "https://localhost:8080/"
        },
        "id": "Lu7P-oBF2PE_",
        "outputId": "157fcb92-763b-4097-c0c7-35b462509e4b"
      },
      "execution_count": 7,
      "outputs": [
        {
          "output_type": "execute_result",
          "data": {
            "text/plain": [
              "Row(Date=datetime.date(2016, 2, 10), Open=686.859985, High=701.309998, Low=682.130005, Close=684.119995, Adj Close=684.119995, Volume=2638000)"
            ]
          },
          "metadata": {},
          "execution_count": 7
        }
      ]
    },
    {
      "cell_type": "code",
      "source": [
        "df.show()"
      ],
      "metadata": {
        "colab": {
          "base_uri": "https://localhost:8080/"
        },
        "id": "NS36BcXR2prk",
        "outputId": "266dc668-120a-4756-9f5d-c29e6f732e6d"
      },
      "execution_count": 9,
      "outputs": [
        {
          "output_type": "stream",
          "name": "stdout",
          "text": [
            "+----------+----------+----------+----------+----------+----------+-------+\n",
            "|      Date|      Open|      High|       Low|     Close| Adj Close| Volume|\n",
            "+----------+----------+----------+----------+----------+----------+-------+\n",
            "|2016-02-10|686.859985|701.309998|682.130005|684.119995|684.119995|2638000|\n",
            "|2016-02-11|     675.0|689.349976|668.867981|683.109985|683.109985|3024000|\n",
            "|2016-02-12| 690.26001|    693.75|678.599976|682.400024|682.400024|2141400|\n",
            "|2016-02-16| 692.97998|     698.0|685.049988|     691.0|     691.0|2520000|\n",
            "|2016-02-17|698.090027|    709.75|691.380005|708.400024|708.400024|2492600|\n",
            "|2016-02-18|     710.0|712.349976|696.030029|697.349976|697.349976|1883200|\n",
            "|2016-02-19|695.030029|703.080994|694.049988|700.909973|700.909973|1589300|\n",
            "|2016-02-22|707.450012| 713.23999| 702.51001|706.460022|706.460022|1949800|\n",
            "|2016-02-23|701.450012|708.400024|693.580017|695.849976|695.849976|2009300|\n",
            "|2016-02-24|688.919983|     700.0|680.780029|699.559998|699.559998|1963600|\n",
            "|2016-02-25| 700.01001| 705.97998|690.585022|    705.75|    705.75|1642200|\n",
            "|2016-02-26|708.580017|713.429993|700.859985|705.070007|705.070007|2243500|\n",
            "|2016-02-29|700.320007|710.890015|697.679993| 697.77002| 697.77002|2481100|\n",
            "|2016-03-01|703.619995|718.809998| 699.77002|718.809998|718.809998|2151400|\n",
            "|2016-03-02|     719.0|     720.0|     712.0|718.849976|718.849976|1629000|\n",
            "|2016-03-03|718.679993|719.450012| 706.02002|712.419983|712.419983|1958000|\n",
            "|2016-03-04| 714.98999| 716.48999| 706.02002|710.890015|710.890015|1972100|\n",
            "|2016-03-07|706.900024|708.091003|686.900024|695.159973|695.159973|2985100|\n",
            "|2016-03-08|688.590027|703.789978|685.340027|693.969971|693.969971|2076300|\n",
            "|2016-03-09|698.469971|705.679993|     694.0| 705.23999| 705.23999|1421500|\n",
            "+----------+----------+----------+----------+----------+----------+-------+\n",
            "only showing top 20 rows\n",
            "\n"
          ]
        }
      ]
    },
    {
      "cell_type": "code",
      "source": [
        "df.columns\n"
      ],
      "metadata": {
        "colab": {
          "base_uri": "https://localhost:8080/"
        },
        "id": "eESbUsZS3QSj",
        "outputId": "17dd8856-d965-4571-db18-63cd2c48cc25"
      },
      "execution_count": 10,
      "outputs": [
        {
          "output_type": "execute_result",
          "data": {
            "text/plain": [
              "['Date', 'Open', 'High', 'Low', 'Close', 'Adj Close', 'Volume']"
            ]
          },
          "metadata": {},
          "execution_count": 10
        }
      ]
    },
    {
      "cell_type": "code",
      "source": [
        "\n",
        "df.printSchema()\n",
        "\n"
      ],
      "metadata": {
        "colab": {
          "base_uri": "https://localhost:8080/"
        },
        "id": "A49FVqvn3VkF",
        "outputId": "0a099fc1-4b3a-43ce-b15d-b2eecc4f0ba8"
      },
      "execution_count": 11,
      "outputs": [
        {
          "output_type": "stream",
          "name": "stdout",
          "text": [
            "root\n",
            " |-- Date: date (nullable = true)\n",
            " |-- Open: double (nullable = true)\n",
            " |-- High: double (nullable = true)\n",
            " |-- Low: double (nullable = true)\n",
            " |-- Close: double (nullable = true)\n",
            " |-- Adj Close: double (nullable = true)\n",
            " |-- Volume: integer (nullable = true)\n",
            "\n"
          ]
        }
      ]
    },
    {
      "cell_type": "code",
      "source": [
        "for row in df.head(10):\n",
        "  print(row)\n"
      ],
      "metadata": {
        "colab": {
          "base_uri": "https://localhost:8080/"
        },
        "id": "DYEg8LB33cgM",
        "outputId": "4c62c037-c5e6-4cf6-da19-bef70fb58d26"
      },
      "execution_count": 13,
      "outputs": [
        {
          "output_type": "stream",
          "name": "stdout",
          "text": [
            "Row(Date=datetime.date(2016, 2, 10), Open=686.859985, High=701.309998, Low=682.130005, Close=684.119995, Adj Close=684.119995, Volume=2638000)\n",
            "Row(Date=datetime.date(2016, 2, 11), Open=675.0, High=689.349976, Low=668.867981, Close=683.109985, Adj Close=683.109985, Volume=3024000)\n",
            "Row(Date=datetime.date(2016, 2, 12), Open=690.26001, High=693.75, Low=678.599976, Close=682.400024, Adj Close=682.400024, Volume=2141400)\n",
            "Row(Date=datetime.date(2016, 2, 16), Open=692.97998, High=698.0, Low=685.049988, Close=691.0, Adj Close=691.0, Volume=2520000)\n",
            "Row(Date=datetime.date(2016, 2, 17), Open=698.090027, High=709.75, Low=691.380005, Close=708.400024, Adj Close=708.400024, Volume=2492600)\n",
            "Row(Date=datetime.date(2016, 2, 18), Open=710.0, High=712.349976, Low=696.030029, Close=697.349976, Adj Close=697.349976, Volume=1883200)\n",
            "Row(Date=datetime.date(2016, 2, 19), Open=695.030029, High=703.080994, Low=694.049988, Close=700.909973, Adj Close=700.909973, Volume=1589300)\n",
            "Row(Date=datetime.date(2016, 2, 22), Open=707.450012, High=713.23999, Low=702.51001, Close=706.460022, Adj Close=706.460022, Volume=1949800)\n",
            "Row(Date=datetime.date(2016, 2, 23), Open=701.450012, High=708.400024, Low=693.580017, Close=695.849976, Adj Close=695.849976, Volume=2009300)\n",
            "Row(Date=datetime.date(2016, 2, 24), Open=688.919983, High=700.0, Low=680.780029, Close=699.559998, Adj Close=699.559998, Volume=1963600)\n"
          ]
        }
      ]
    },
    {
      "cell_type": "code",
      "source": [
        "\n",
        "df.describe().show()"
      ],
      "metadata": {
        "colab": {
          "base_uri": "https://localhost:8080/"
        },
        "id": "aY2mCnCM30Ad",
        "outputId": "f374c64d-b42b-4266-a1de-5ebb9db90c4c"
      },
      "execution_count": 14,
      "outputs": [
        {
          "output_type": "stream",
          "name": "stdout",
          "text": [
            "+-------+------------------+------------------+-----------------+------------------+------------------+------------------+\n",
            "|summary|              Open|              High|              Low|             Close|         Adj Close|            Volume|\n",
            "+-------+------------------+------------------+-----------------+------------------+------------------+------------------+\n",
            "|  count|              1259|              1259|             1259|              1259|              1259|              1259|\n",
            "|   mean| 1112.989609864178|1124.0457621517075|1102.754016008736|1113.8704716179489|1113.8704716179489|1643123.8284352662|\n",
            "| stddev|285.34002649314095| 290.1879419457562|281.6793683055016| 286.0235834955097| 286.0235834955097| 717178.2982402145|\n",
            "|    min|             671.0|        672.299988|       663.283997|         668.26001|         668.26001|            346800|\n",
            "|    max|       2105.909912|       2123.547119|      2078.540039|            2098.0|            2098.0|           6207000|\n",
            "+-------+------------------+------------------+-----------------+------------------+------------------+------------------+\n",
            "\n"
          ]
        }
      ]
    },
    {
      "cell_type": "code",
      "source": [
        "from pyspark.sql.functions import format_number\n",
        "\n",
        "description = df.describe()\n",
        "\n",
        "description.select(description[\"summary\"],\n",
        "                   format_number(description[\"Open\"].cast(\"float\"), 2).alias(\"Open\"),\n",
        "                   format_number(description[\"High\"].cast(\"float\"), 2).alias(\"High\"),\n",
        "                   format_number(description[\"Low\"].cast(\"float\"), 2).alias(\"Low\"),\n",
        "                   format_number(description[\"Close\"].cast(\"float\"), 2).alias(\"Close\"),\n",
        "                   description[\"Volume\"].cast(\"int\").alias(\"Volume\")\n",
        "                   ).show()"
      ],
      "metadata": {
        "id": "B_n6benyI9rF"
      },
      "execution_count": null,
      "outputs": []
    }
  ]
}