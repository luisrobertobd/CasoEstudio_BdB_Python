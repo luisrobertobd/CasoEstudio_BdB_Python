{
  "nbformat": 4,
  "nbformat_minor": 5,
  "metadata": {
    "kernelspec": {
      "display_name": "Python 3 (ipykernel)",
      "language": "python",
      "name": "python3"
    },
    "language_info": {
      "codemirror_mode": {
        "name": "ipython",
        "version": 3
      },
      "file_extension": ".py",
      "mimetype": "text/x-python",
      "name": "python",
      "nbconvert_exporter": "python",
      "pygments_lexer": "ipython3",
      "version": "3.9.1"
    },
    "colab": {
      "name": "Ejercicios_estructuras_1.ipynb",
      "provenance": [],
      "include_colab_link": true
    }
  },
  "cells": [
    {
      "cell_type": "markdown",
      "metadata": {
        "id": "view-in-github",
        "colab_type": "text"
      },
      "source": [
        "<a href=\"https://colab.research.google.com/github/luisrobertobd/CasoEstudio_BdB_Python/blob/master/Ejercicios_estructuras_1.ipynb\" target=\"_parent\"><img src=\"https://colab.research.google.com/assets/colab-badge.svg\" alt=\"Open In Colab\"/></a>"
      ]
    },
    {
      "cell_type": "code",
      "metadata": {
        "id": "86ef211d",
        "outputId": "8a10495b-931d-4f9f-c7bc-6d36bd0b1da7"
      },
      "source": [
        "1==2 or  4==5"
      ],
      "id": "86ef211d",
      "execution_count": null,
      "outputs": [
        {
          "data": {
            "text/plain": [
              "False"
            ]
          },
          "execution_count": 1,
          "metadata": {},
          "output_type": "execute_result"
        }
      ]
    },
    {
      "cell_type": "code",
      "metadata": {
        "id": "df326a66",
        "outputId": "776e3fab-8ac0-4323-e18b-c7a904eb6194"
      },
      "source": [
        "1!= 4  "
      ],
      "id": "df326a66",
      "execution_count": null,
      "outputs": [
        {
          "data": {
            "text/plain": [
              "True"
            ]
          },
          "execution_count": 2,
          "metadata": {},
          "output_type": "execute_result"
        }
      ]
    },
    {
      "cell_type": "code",
      "metadata": {
        "id": "8a64d052",
        "outputId": "cdc77c4e-9e70-452c-b4a7-c14bcfdec035"
      },
      "source": [
        "0==1"
      ],
      "id": "8a64d052",
      "execution_count": null,
      "outputs": [
        {
          "data": {
            "text/plain": [
              "False"
            ]
          },
          "execution_count": 4,
          "metadata": {},
          "output_type": "execute_result"
        }
      ]
    },
    {
      "cell_type": "code",
      "metadata": {
        "id": "48e3d9b7",
        "outputId": "24e0f18f-d7a1-457e-fbd7-621a37b53e2d"
      },
      "source": [
        "listap = [2,4,6,8,10]\n",
        "for i  in listap :  \n",
        "    print (i)\n",
        "    "
      ],
      "id": "48e3d9b7",
      "execution_count": null,
      "outputs": [
        {
          "name": "stdout",
          "output_type": "stream",
          "text": [
            "2\n",
            "4\n",
            "6\n",
            "8\n",
            "10\n"
          ]
        }
      ]
    },
    {
      "cell_type": "code",
      "metadata": {
        "id": "58a8493e",
        "outputId": "3155c437-74c6-4b4e-9df0-11b23ad00cf7"
      },
      "source": [
        "[  indx**2  for indx in listap]"
      ],
      "id": "58a8493e",
      "execution_count": null,
      "outputs": [
        {
          "data": {
            "text/plain": [
              "[4, 16, 36, 64, 100]"
            ]
          },
          "execution_count": 6,
          "metadata": {},
          "output_type": "execute_result"
        }
      ]
    },
    {
      "cell_type": "code",
      "metadata": {
        "id": "71877e37"
      },
      "source": [
        ""
      ],
      "id": "71877e37",
      "execution_count": null,
      "outputs": []
    }
  ]
}