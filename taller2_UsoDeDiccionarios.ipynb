{
  "nbformat": 4,
  "nbformat_minor": 0,
  "metadata": {
    "colab": {
      "name": "taller2_UsoDeDiccionarios.ipynb",
      "provenance": [],
      "authorship_tag": "ABX9TyP4q83tjzzAXfinahp+Eziw",
      "include_colab_link": true
    },
    "kernelspec": {
      "name": "python3",
      "display_name": "Python 3"
    },
    "language_info": {
      "name": "python"
    }
  },
  "cells": [
    {
      "cell_type": "markdown",
      "metadata": {
        "id": "view-in-github",
        "colab_type": "text"
      },
      "source": [
        "<a href=\"https://colab.research.google.com/github/luisrobertobd/CasoEstudio_BdB_Python/blob/master/taller2_UsoDeDiccionarios.ipynb\" target=\"_parent\"><img src=\"https://colab.research.google.com/assets/colab-badge.svg\" alt=\"Open In Colab\"/></a>"
      ]
    },
    {
      "cell_type": "markdown",
      "metadata": {
        "id": "VAKtr6ANvpmw"
      },
      "source": [
        "**Imprimir 'hello'  dado las estructuras**\n",
        "\n",
        "\n",
        "1.   lst = [1,2,[3,4],[5,[100,200,['hello']],23,11],1,7]\n",
        "2.   d1 = {'target':[1,2,3,'hello']}\n",
        "3.   d2 = ['oh','man','inception',{'target':[1,2,3,'hello']}]\n",
        "4.   d3 = {'k1':[1,2,3,{'tricky':['oh','man','inception',{'target':[1,2,3,'hello']}]}]}\n",
        "\n",
        "\n",
        "\n"
      ]
    },
    {
      "cell_type": "markdown",
      "metadata": {
        "id": "IswKOjtkvx3i"
      },
      "source": [
        "   **Crear una  funcion  llamada   frecuencia_caracteres  que llene  un diccionario con   el numero de apariciones de cada caracter de una cadena**\n",
        "     Ejemplo    frecuencia_caracteres('Munddo')    \n",
        "     Resultado esperado    {'M': 1, 'u': 1, 'n': 1, 'd': 2, 'o': 1}"
      ]
    },
    {
      "cell_type": "code",
      "metadata": {
        "id": "5DbQ1Ds1whM5"
      },
      "source": [
        ""
      ],
      "execution_count": null,
      "outputs": []
    },
    {
      "cell_type": "markdown",
      "metadata": {
        "id": "Y8Okhe8AvsxN"
      },
      "source": [
        ""
      ]
    }
  ]
}