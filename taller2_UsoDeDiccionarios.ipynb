{
  "nbformat": 4,
  "nbformat_minor": 0,
  "metadata": {
    "colab": {
      "name": "taller2_UsoDeDiccionarios.ipynb",
      "provenance": [],
      "include_colab_link": true
    },
    "kernelspec": {
      "name": "python3",
      "display_name": "Python 3"
    },
    "language_info": {
      "name": "python"
    }
  },
  "cells": [
    {
      "cell_type": "markdown",
      "metadata": {
        "id": "view-in-github",
        "colab_type": "text"
      },
      "source": [
        "<a href=\"https://colab.research.google.com/github/luisrobertobd/CasoEstudio_BdB_Python/blob/master/taller2_UsoDeDiccionarios.ipynb\" target=\"_parent\"><img src=\"https://colab.research.google.com/assets/colab-badge.svg\" alt=\"Open In Colab\"/></a>"
      ]
    },
    {
      "cell_type": "markdown",
      "metadata": {
        "id": "VAKtr6ANvpmw"
      },
      "source": [
        "**Imprimir 'hello'  dado las estructuras**\n",
        "\n",
        "\n",
        "1.   lst = [1,2,[3,4],[5,[100,200,['hello']],23,11],1,7]\n",
        "2.   d1 = {'target':[1,2,3,'hello']}\n",
        "3.   d2 = ['oh','man','inception',{'target':[1,2,3,'hello']}]\n",
        "4.   d3 = {'k1':[1,2,3,{'tricky':['oh','man','inception',{'target':[1,2,3,'hello']}]}]}\n",
        "\n",
        "\n",
        "\n"
      ]
    },
    {
      "cell_type": "code",
      "metadata": {
        "colab": {
          "base_uri": "https://localhost:8080/"
        },
        "id": "4X2WaTlGWBmj",
        "outputId": "d436098c-86d2-49a5-fd20-d21270234bcf"
      },
      "source": [
        "lst = [1,2,[3,4],[5,[100,200,['hello']],23,11],1,7]\n",
        "lst[3][1][2]"
      ],
      "execution_count": null,
      "outputs": [
        {
          "output_type": "execute_result",
          "data": {
            "text/plain": [
              "['hello']"
            ]
          },
          "metadata": {},
          "execution_count": 9
        }
      ]
    },
    {
      "cell_type": "code",
      "metadata": {
        "id": "XXytd7ghYlKE",
        "outputId": "92d86bf5-7251-401c-af43-0fc0b1c89ac5",
        "colab": {
          "base_uri": "https://localhost:8080/",
          "height": 35
        }
      },
      "source": [
        "d1 = {'target':[1,2,3,'hello']}\n",
        "\n",
        "d1['target'][3]"
      ],
      "execution_count": 3,
      "outputs": [
        {
          "output_type": "execute_result",
          "data": {
            "application/vnd.google.colaboratory.intrinsic+json": {
              "type": "string"
            },
            "text/plain": [
              "'hello'"
            ]
          },
          "metadata": {},
          "execution_count": 3
        }
      ]
    },
    {
      "cell_type": "code",
      "metadata": {
        "id": "X06vkBXCabYK",
        "outputId": "0fbdfc1a-9a46-4842-d239-38e083556a39",
        "colab": {
          "base_uri": "https://localhost:8080/",
          "height": 35
        }
      },
      "source": [
        "d2 = ['oh','man','inception',{'target':[1,2,3,'hello']}]\n",
        "d2[3]['target'][3]"
      ],
      "execution_count": 8,
      "outputs": [
        {
          "output_type": "execute_result",
          "data": {
            "application/vnd.google.colaboratory.intrinsic+json": {
              "type": "string"
            },
            "text/plain": [
              "'hello'"
            ]
          },
          "metadata": {},
          "execution_count": 8
        }
      ]
    },
    {
      "cell_type": "code",
      "metadata": {
        "id": "KqpSnL3EbM1g",
        "outputId": "07feb29e-eb40-41ca-b7a7-37eef86ef36f",
        "colab": {
          "base_uri": "https://localhost:8080/",
          "height": 35
        }
      },
      "source": [
        "d3 = {'k1':[1,2,3,{'tricky':['oh','man','inception',{'target':[1,2,3,'hello']}]}]}\n",
        "d3['k1'][3]['tricky'][3]['target'][3]"
      ],
      "execution_count": 21,
      "outputs": [
        {
          "output_type": "execute_result",
          "data": {
            "application/vnd.google.colaboratory.intrinsic+json": {
              "type": "string"
            },
            "text/plain": [
              "'hello'"
            ]
          },
          "metadata": {},
          "execution_count": 21
        }
      ]
    },
    {
      "cell_type": "markdown",
      "metadata": {
        "id": "IswKOjtkvx3i"
      },
      "source": [
        "   **Crear una  funcion  llamada   frecuencia_caracteres  que llene  un diccionario con   el numero de apariciones de cada caracter de una cadena**\n",
        "     Ejemplo    frecuencia_caracteres('Munddo')    \n",
        "     Resultado esperado    {'M': 1, 'u': 1, 'n': 1, 'd': 2, 'o': 1}"
      ]
    },
    {
      "cell_type": "code",
      "metadata": {
        "colab": {
          "base_uri": "https://localhost:8080/"
        },
        "id": "vBLnriGRc4I1",
        "outputId": "9600f95e-af41-4896-f5f9-bc647a9d5cca"
      },
      "source": [
        "def  frecuencia_caracteres(palabra):\n",
        "##palabra = \"Mundo\"\n",
        "    conteo = {}\n",
        "    ##print (len(palabra))\n",
        "    for indice in range(len(palabra)):\n",
        "        caracter = palabra[indice]\n",
        "        conteo [caracter] = 1  + conteo.get( caracter, 0)\n",
        "   ## print(conteo.items())\n",
        "    return conteo\n",
        "        \n",
        "print (frecuencia_caracteres('MMUUUNNNNDDDDDOOOOOO'))\n",
        "\n",
        "dic = frecuencia_caracteres('MMUUUNNNNDDDDDOOOOOO')\n",
        "dic ['M']+1\n",
        "dic\n"
      ],
      "execution_count": 52,
      "outputs": [
        {
          "output_type": "stream",
          "name": "stdout",
          "text": [
            "{'M': 2, 'U': 3, 'N': 4, 'D': 5, 'O': 6}\n"
          ]
        },
        {
          "output_type": "execute_result",
          "data": {
            "text/plain": [
              "{'D': 5, 'M': 2, 'N': 4, 'O': 6, 'U': 3}"
            ]
          },
          "metadata": {},
          "execution_count": 52
        }
      ]
    },
    {
      "cell_type": "markdown",
      "metadata": {
        "id": "eNbjnJIkVY4n"
      },
      "source": [
        "**Adicionar un nuevo piloto  al diccionario diccionario**\n",
        "- modificarlo\n",
        "- buscarlo por llave \n",
        "- buscarlo por valor\n",
        "- usar el metodo pop  para borrarlo \n",
        "- usar el instruccion del   para borrarlo \n",
        "\n",
        "diccionario = {'Piloto 1':'Fernando Alonso', 'Piloto 2':'Kimi Raikkonen', 'Piloto 3':'Felipe Massa'}"
      ]
    },
    {
      "cell_type": "markdown",
      "metadata": {
        "id": "Y8Okhe8AvsxN"
      },
      "source": [
        ""
      ]
    }
  ]
}