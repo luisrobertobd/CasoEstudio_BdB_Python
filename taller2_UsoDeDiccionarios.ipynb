{
  "nbformat": 4,
  "nbformat_minor": 0,
  "metadata": {
    "colab": {
      "name": "taller2_UsoDeDiccionarios.ipynb",
      "provenance": [],
      "authorship_tag": "ABX9TyM/S6m4N3+f0KTo2NzZeoHV",
      "include_colab_link": true
    },
    "kernelspec": {
      "name": "python3",
      "display_name": "Python 3"
    },
    "language_info": {
      "name": "python"
    }
  },
  "cells": [
    {
      "cell_type": "markdown",
      "metadata": {
        "id": "view-in-github",
        "colab_type": "text"
      },
      "source": [
        "<a href=\"https://colab.research.google.com/github/luisrobertobd/CasoEstudio_BdB_Python/blob/master/taller2_UsoDeDiccionarios.ipynb\" target=\"_parent\"><img src=\"https://colab.research.google.com/assets/colab-badge.svg\" alt=\"Open In Colab\"/></a>"
      ]
    },
    {
      "cell_type": "code",
      "metadata": {
        "id": "cjH1A3IXsjnT"
      },
      "source": [
        "####   Crear una  funcion  llamada   frecuencia_caracteres  que llene  un diccionario con   el numero de apariciones de cada caracter de una cadena\n",
        "####  Ejemplo    frecuencia_caracteres('Munddo')    \n",
        "####  Resultado esperado    {'M': 1, 'u': 1, 'n': 1, 'd': 2, 'o': 1}\n",
        "\n",
        "\n",
        "\n",
        " "
      ],
      "execution_count": null,
      "outputs": []
    }
  ]
}