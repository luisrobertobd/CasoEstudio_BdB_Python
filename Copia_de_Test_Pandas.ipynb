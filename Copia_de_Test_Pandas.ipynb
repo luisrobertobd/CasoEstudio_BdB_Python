{
  "nbformat": 4,
  "nbformat_minor": 0,
  "metadata": {
    "colab": {
      "name": "Copia de Test Pandas.ipynb",
      "provenance": [],
      "collapsed_sections": [],
      "toc_visible": true,
      "include_colab_link": true
    },
    "kernelspec": {
      "display_name": "Python 3",
      "language": "python",
      "name": "python3"
    }
  },
  "cells": [
    {
      "cell_type": "markdown",
      "metadata": {
        "id": "view-in-github",
        "colab_type": "text"
      },
      "source": [
        "<a href=\"https://colab.research.google.com/github/luisrobertobd/CasoEstudio_BdB_Python/blob/master/Copia_de_Test_Pandas.ipynb\" target=\"_parent\"><img src=\"https://colab.research.google.com/assets/colab-badge.svg\" alt=\"Open In Colab\"/></a>"
      ]
    },
    {
      "cell_type": "markdown",
      "metadata": {
        "id": "jqaDgCiNXk_x"
      },
      "source": [
        "___\n",
        "\n",
        "\n",
        "La mayoría de las tareas se pueden resolver de diferentes maneras. El nivel de dificultad es incremental.\n",
        "\n",
        "Por favor tener en cuenta que todas estas preguntas se pueden responder con una línea de código.\n",
        "____\n",
        "**A continuacion encontrara enunciados que debe resolver de acuerdo a los conceptos vistos en clase, debe tener presente que existen casillas con el resultado experado, en lo posible No se debe borrar estos campos**\n",
        "____\n"
      ]
    },
    {
      "cell_type": "markdown",
      "metadata": {
        "id": "96WAN2t6uykD"
      },
      "source": [
        "**Importe Pandas y Numpy, a continuacion lea en el archivo de comercio electrónico llamado (Ecommerce.csv) y almacénelo en un dataframe llamado df_ecommerce.**"
      ]
    },
    {
      "cell_type": "code",
      "metadata": {
        "id": "2HVU2oYywEjz",
        "colab": {
          "resources": {
            "http://localhost:8080/nbextensions/google.colab/files.js": {
              "data": "Ly8gQ29weXJpZ2h0IDIwMTcgR29vZ2xlIExMQwovLwovLyBMaWNlbnNlZCB1bmRlciB0aGUgQXBhY2hlIExpY2Vuc2UsIFZlcnNpb24gMi4wICh0aGUgIkxpY2Vuc2UiKTsKLy8geW91IG1heSBub3QgdXNlIHRoaXMgZmlsZSBleGNlcHQgaW4gY29tcGxpYW5jZSB3aXRoIHRoZSBMaWNlbnNlLgovLyBZb3UgbWF5IG9idGFpbiBhIGNvcHkgb2YgdGhlIExpY2Vuc2UgYXQKLy8KLy8gICAgICBodHRwOi8vd3d3LmFwYWNoZS5vcmcvbGljZW5zZXMvTElDRU5TRS0yLjAKLy8KLy8gVW5sZXNzIHJlcXVpcmVkIGJ5IGFwcGxpY2FibGUgbGF3IG9yIGFncmVlZCB0byBpbiB3cml0aW5nLCBzb2Z0d2FyZQovLyBkaXN0cmlidXRlZCB1bmRlciB0aGUgTGljZW5zZSBpcyBkaXN0cmlidXRlZCBvbiBhbiAiQVMgSVMiIEJBU0lTLAovLyBXSVRIT1VUIFdBUlJBTlRJRVMgT1IgQ09ORElUSU9OUyBPRiBBTlkgS0lORCwgZWl0aGVyIGV4cHJlc3Mgb3IgaW1wbGllZC4KLy8gU2VlIHRoZSBMaWNlbnNlIGZvciB0aGUgc3BlY2lmaWMgbGFuZ3VhZ2UgZ292ZXJuaW5nIHBlcm1pc3Npb25zIGFuZAovLyBsaW1pdGF0aW9ucyB1bmRlciB0aGUgTGljZW5zZS4KCi8qKgogKiBAZmlsZW92ZXJ2aWV3IEhlbHBlcnMgZm9yIGdvb2dsZS5jb2xhYiBQeXRob24gbW9kdWxlLgogKi8KKGZ1bmN0aW9uKHNjb3BlKSB7CmZ1bmN0aW9uIHNwYW4odGV4dCwgc3R5bGVBdHRyaWJ1dGVzID0ge30pIHsKICBjb25zdCBlbGVtZW50ID0gZG9jdW1lbnQuY3JlYXRlRWxlbWVudCgnc3BhbicpOwogIGVsZW1lbnQudGV4dENvbnRlbnQgPSB0ZXh0OwogIGZvciAoY29uc3Qga2V5IG9mIE9iamVjdC5rZXlzKHN0eWxlQXR0cmlidXRlcykpIHsKICAgIGVsZW1lbnQuc3R5bGVba2V5XSA9IHN0eWxlQXR0cmlidXRlc1trZXldOwogIH0KICByZXR1cm4gZWxlbWVudDsKfQoKLy8gTWF4IG51bWJlciBvZiBieXRlcyB3aGljaCB3aWxsIGJlIHVwbG9hZGVkIGF0IGEgdGltZS4KY29uc3QgTUFYX1BBWUxPQURfU0laRSA9IDEwMCAqIDEwMjQ7CgpmdW5jdGlvbiBfdXBsb2FkRmlsZXMoaW5wdXRJZCwgb3V0cHV0SWQpIHsKICBjb25zdCBzdGVwcyA9IHVwbG9hZEZpbGVzU3RlcChpbnB1dElkLCBvdXRwdXRJZCk7CiAgY29uc3Qgb3V0cHV0RWxlbWVudCA9IGRvY3VtZW50LmdldEVsZW1lbnRCeUlkKG91dHB1dElkKTsKICAvLyBDYWNoZSBzdGVwcyBvbiB0aGUgb3V0cHV0RWxlbWVudCB0byBtYWtlIGl0IGF2YWlsYWJsZSBmb3IgdGhlIG5leHQgY2FsbAogIC8vIHRvIHVwbG9hZEZpbGVzQ29udGludWUgZnJvbSBQeXRob24uCiAgb3V0cHV0RWxlbWVudC5zdGVwcyA9IHN0ZXBzOwoKICByZXR1cm4gX3VwbG9hZEZpbGVzQ29udGludWUob3V0cHV0SWQpOwp9CgovLyBUaGlzIGlzIHJvdWdobHkgYW4gYXN5bmMgZ2VuZXJhdG9yIChub3Qgc3VwcG9ydGVkIGluIHRoZSBicm93c2VyIHlldCksCi8vIHdoZXJlIHRoZXJlIGFyZSBtdWx0aXBsZSBhc3luY2hyb25vdXMgc3RlcHMgYW5kIHRoZSBQeXRob24gc2lkZSBpcyBnb2luZwovLyB0byBwb2xsIGZvciBjb21wbGV0aW9uIG9mIGVhY2ggc3RlcC4KLy8gVGhpcyB1c2VzIGEgUHJvbWlzZSB0byBibG9jayB0aGUgcHl0aG9uIHNpZGUgb24gY29tcGxldGlvbiBvZiBlYWNoIHN0ZXAsCi8vIHRoZW4gcGFzc2VzIHRoZSByZXN1bHQgb2YgdGhlIHByZXZpb3VzIHN0ZXAgYXMgdGhlIGlucHV0IHRvIHRoZSBuZXh0IHN0ZXAuCmZ1bmN0aW9uIF91cGxvYWRGaWxlc0NvbnRpbnVlKG91dHB1dElkKSB7CiAgY29uc3Qgb3V0cHV0RWxlbWVudCA9IGRvY3VtZW50LmdldEVsZW1lbnRCeUlkKG91dHB1dElkKTsKICBjb25zdCBzdGVwcyA9IG91dHB1dEVsZW1lbnQuc3RlcHM7CgogIGNvbnN0IG5leHQgPSBzdGVwcy5uZXh0KG91dHB1dEVsZW1lbnQubGFzdFByb21pc2VWYWx1ZSk7CiAgcmV0dXJuIFByb21pc2UucmVzb2x2ZShuZXh0LnZhbHVlLnByb21pc2UpLnRoZW4oKHZhbHVlKSA9PiB7CiAgICAvLyBDYWNoZSB0aGUgbGFzdCBwcm9taXNlIHZhbHVlIHRvIG1ha2UgaXQgYXZhaWxhYmxlIHRvIHRoZSBuZXh0CiAgICAvLyBzdGVwIG9mIHRoZSBnZW5lcmF0b3IuCiAgICBvdXRwdXRFbGVtZW50Lmxhc3RQcm9taXNlVmFsdWUgPSB2YWx1ZTsKICAgIHJldHVybiBuZXh0LnZhbHVlLnJlc3BvbnNlOwogIH0pOwp9CgovKioKICogR2VuZXJhdG9yIGZ1bmN0aW9uIHdoaWNoIGlzIGNhbGxlZCBiZXR3ZWVuIGVhY2ggYXN5bmMgc3RlcCBvZiB0aGUgdXBsb2FkCiAqIHByb2Nlc3MuCiAqIEBwYXJhbSB7c3RyaW5nfSBpbnB1dElkIEVsZW1lbnQgSUQgb2YgdGhlIGlucHV0IGZpbGUgcGlja2VyIGVsZW1lbnQuCiAqIEBwYXJhbSB7c3RyaW5nfSBvdXRwdXRJZCBFbGVtZW50IElEIG9mIHRoZSBvdXRwdXQgZGlzcGxheS4KICogQHJldHVybiB7IUl0ZXJhYmxlPCFPYmplY3Q+fSBJdGVyYWJsZSBvZiBuZXh0IHN0ZXBzLgogKi8KZnVuY3Rpb24qIHVwbG9hZEZpbGVzU3RlcChpbnB1dElkLCBvdXRwdXRJZCkgewogIGNvbnN0IGlucHV0RWxlbWVudCA9IGRvY3VtZW50LmdldEVsZW1lbnRCeUlkKGlucHV0SWQpOwogIGlucHV0RWxlbWVudC5kaXNhYmxlZCA9IGZhbHNlOwoKICBjb25zdCBvdXRwdXRFbGVtZW50ID0gZG9jdW1lbnQuZ2V0RWxlbWVudEJ5SWQob3V0cHV0SWQpOwogIG91dHB1dEVsZW1lbnQuaW5uZXJIVE1MID0gJyc7CgogIGNvbnN0IHBpY2tlZFByb21pc2UgPSBuZXcgUHJvbWlzZSgocmVzb2x2ZSkgPT4gewogICAgaW5wdXRFbGVtZW50LmFkZEV2ZW50TGlzdGVuZXIoJ2NoYW5nZScsIChlKSA9PiB7CiAgICAgIHJlc29sdmUoZS50YXJnZXQuZmlsZXMpOwogICAgfSk7CiAgfSk7CgogIGNvbnN0IGNhbmNlbCA9IGRvY3VtZW50LmNyZWF0ZUVsZW1lbnQoJ2J1dHRvbicpOwogIGlucHV0RWxlbWVudC5wYXJlbnRFbGVtZW50LmFwcGVuZENoaWxkKGNhbmNlbCk7CiAgY2FuY2VsLnRleHRDb250ZW50ID0gJ0NhbmNlbCB1cGxvYWQnOwogIGNvbnN0IGNhbmNlbFByb21pc2UgPSBuZXcgUHJvbWlzZSgocmVzb2x2ZSkgPT4gewogICAgY2FuY2VsLm9uY2xpY2sgPSAoKSA9PiB7CiAgICAgIHJlc29sdmUobnVsbCk7CiAgICB9OwogIH0pOwoKICAvLyBXYWl0IGZvciB0aGUgdXNlciB0byBwaWNrIHRoZSBmaWxlcy4KICBjb25zdCBmaWxlcyA9IHlpZWxkIHsKICAgIHByb21pc2U6IFByb21pc2UucmFjZShbcGlja2VkUHJvbWlzZSwgY2FuY2VsUHJvbWlzZV0pLAogICAgcmVzcG9uc2U6IHsKICAgICAgYWN0aW9uOiAnc3RhcnRpbmcnLAogICAgfQogIH07CgogIGNhbmNlbC5yZW1vdmUoKTsKCiAgLy8gRGlzYWJsZSB0aGUgaW5wdXQgZWxlbWVudCBzaW5jZSBmdXJ0aGVyIHBpY2tzIGFyZSBub3QgYWxsb3dlZC4KICBpbnB1dEVsZW1lbnQuZGlzYWJsZWQgPSB0cnVlOwoKICBpZiAoIWZpbGVzKSB7CiAgICByZXR1cm4gewogICAgICByZXNwb25zZTogewogICAgICAgIGFjdGlvbjogJ2NvbXBsZXRlJywKICAgICAgfQogICAgfTsKICB9CgogIGZvciAoY29uc3QgZmlsZSBvZiBmaWxlcykgewogICAgY29uc3QgbGkgPSBkb2N1bWVudC5jcmVhdGVFbGVtZW50KCdsaScpOwogICAgbGkuYXBwZW5kKHNwYW4oZmlsZS5uYW1lLCB7Zm9udFdlaWdodDogJ2JvbGQnfSkpOwogICAgbGkuYXBwZW5kKHNwYW4oCiAgICAgICAgYCgke2ZpbGUudHlwZSB8fCAnbi9hJ30pIC0gJHtmaWxlLnNpemV9IGJ5dGVzLCBgICsKICAgICAgICBgbGFzdCBtb2RpZmllZDogJHsKICAgICAgICAgICAgZmlsZS5sYXN0TW9kaWZpZWREYXRlID8gZmlsZS5sYXN0TW9kaWZpZWREYXRlLnRvTG9jYWxlRGF0ZVN0cmluZygpIDoKICAgICAgICAgICAgICAgICAgICAgICAgICAgICAgICAgICAgJ24vYSd9IC0gYCkpOwogICAgY29uc3QgcGVyY2VudCA9IHNwYW4oJzAlIGRvbmUnKTsKICAgIGxpLmFwcGVuZENoaWxkKHBlcmNlbnQpOwoKICAgIG91dHB1dEVsZW1lbnQuYXBwZW5kQ2hpbGQobGkpOwoKICAgIGNvbnN0IGZpbGVEYXRhUHJvbWlzZSA9IG5ldyBQcm9taXNlKChyZXNvbHZlKSA9PiB7CiAgICAgIGNvbnN0IHJlYWRlciA9IG5ldyBGaWxlUmVhZGVyKCk7CiAgICAgIHJlYWRlci5vbmxvYWQgPSAoZSkgPT4gewogICAgICAgIHJlc29sdmUoZS50YXJnZXQucmVzdWx0KTsKICAgICAgfTsKICAgICAgcmVhZGVyLnJlYWRBc0FycmF5QnVmZmVyKGZpbGUpOwogICAgfSk7CiAgICAvLyBXYWl0IGZvciB0aGUgZGF0YSB0byBiZSByZWFkeS4KICAgIGxldCBmaWxlRGF0YSA9IHlpZWxkIHsKICAgICAgcHJvbWlzZTogZmlsZURhdGFQcm9taXNlLAogICAgICByZXNwb25zZTogewogICAgICAgIGFjdGlvbjogJ2NvbnRpbnVlJywKICAgICAgfQogICAgfTsKCiAgICAvLyBVc2UgYSBjaHVua2VkIHNlbmRpbmcgdG8gYXZvaWQgbWVzc2FnZSBzaXplIGxpbWl0cy4gU2VlIGIvNjIxMTU2NjAuCiAgICBsZXQgcG9zaXRpb24gPSAwOwogICAgZG8gewogICAgICBjb25zdCBsZW5ndGggPSBNYXRoLm1pbihmaWxlRGF0YS5ieXRlTGVuZ3RoIC0gcG9zaXRpb24sIE1BWF9QQVlMT0FEX1NJWkUpOwogICAgICBjb25zdCBjaHVuayA9IG5ldyBVaW50OEFycmF5KGZpbGVEYXRhLCBwb3NpdGlvbiwgbGVuZ3RoKTsKICAgICAgcG9zaXRpb24gKz0gbGVuZ3RoOwoKICAgICAgY29uc3QgYmFzZTY0ID0gYnRvYShTdHJpbmcuZnJvbUNoYXJDb2RlLmFwcGx5KG51bGwsIGNodW5rKSk7CiAgICAgIHlpZWxkIHsKICAgICAgICByZXNwb25zZTogewogICAgICAgICAgYWN0aW9uOiAnYXBwZW5kJywKICAgICAgICAgIGZpbGU6IGZpbGUubmFtZSwKICAgICAgICAgIGRhdGE6IGJhc2U2NCwKICAgICAgICB9LAogICAgICB9OwoKICAgICAgbGV0IHBlcmNlbnREb25lID0gZmlsZURhdGEuYnl0ZUxlbmd0aCA9PT0gMCA/CiAgICAgICAgICAxMDAgOgogICAgICAgICAgTWF0aC5yb3VuZCgocG9zaXRpb24gLyBmaWxlRGF0YS5ieXRlTGVuZ3RoKSAqIDEwMCk7CiAgICAgIHBlcmNlbnQudGV4dENvbnRlbnQgPSBgJHtwZXJjZW50RG9uZX0lIGRvbmVgOwoKICAgIH0gd2hpbGUgKHBvc2l0aW9uIDwgZmlsZURhdGEuYnl0ZUxlbmd0aCk7CiAgfQoKICAvLyBBbGwgZG9uZS4KICB5aWVsZCB7CiAgICByZXNwb25zZTogewogICAgICBhY3Rpb246ICdjb21wbGV0ZScsCiAgICB9CiAgfTsKfQoKc2NvcGUuZ29vZ2xlID0gc2NvcGUuZ29vZ2xlIHx8IHt9OwpzY29wZS5nb29nbGUuY29sYWIgPSBzY29wZS5nb29nbGUuY29sYWIgfHwge307CnNjb3BlLmdvb2dsZS5jb2xhYi5fZmlsZXMgPSB7CiAgX3VwbG9hZEZpbGVzLAogIF91cGxvYWRGaWxlc0NvbnRpbnVlLAp9Owp9KShzZWxmKTsK",
              "ok": true,
              "headers": [
                [
                  "content-type",
                  "application/javascript"
                ]
              ],
              "status": 200,
              "status_text": ""
            }
          },
          "base_uri": "https://localhost:8080/",
          "height": 72
        },
        "outputId": "d4d5744d-c9ec-4dd4-f865-805e820bcfd6"
      },
      "source": [
        "# ESCRIBA SU CODIGO AQUI \n",
        "import pandas as  pd\n",
        "import numpy as np\n",
        "from google.colab import files\n",
        "uploaded = files.upload()\n"
      ],
      "execution_count": 1,
      "outputs": [
        {
          "output_type": "display_data",
          "data": {
            "text/html": [
              "\n",
              "     <input type=\"file\" id=\"files-6b794437-85be-4480-90d9-27e6187a5a67\" name=\"files[]\" multiple disabled\n",
              "        style=\"border:none\" />\n",
              "     <output id=\"result-6b794437-85be-4480-90d9-27e6187a5a67\">\n",
              "      Upload widget is only available when the cell has been executed in the\n",
              "      current browser session. Please rerun this cell to enable.\n",
              "      </output>\n",
              "      <script src=\"/nbextensions/google.colab/files.js\"></script> "
            ],
            "text/plain": [
              "<IPython.core.display.HTML object>"
            ]
          },
          "metadata": {}
        },
        {
          "output_type": "stream",
          "name": "stdout",
          "text": [
            "Saving Copia de Ecommerce.csv to Copia de Ecommerce.csv\n"
          ]
        }
      ]
    },
    {
      "cell_type": "markdown",
      "metadata": {
        "id": "yUkgMsPjwH7u"
      },
      "source": [
        "Importe la libreria de google para el cargue del archivo"
      ]
    },
    {
      "cell_type": "code",
      "metadata": {
        "colab": {
          "base_uri": "https://localhost:8080/"
        },
        "id": "tzwMqyv5wMgd",
        "outputId": "c1440bae-0b1e-46d0-d3d1-1ace9c5d336a"
      },
      "source": [
        "# ESCRIBA SU CODIGO AQUI\n"
      ],
      "execution_count": null,
      "outputs": [
        {
          "output_type": "stream",
          "text": [
            "Drive already mounted at /content/drive; to attempt to forcibly remount, call drive.mount(\"/content/drive\", force_remount=True).\n"
          ],
          "name": "stdout"
        }
      ]
    },
    {
      "cell_type": "markdown",
      "metadata": {
        "id": "LkL7GM45wvzS"
      },
      "source": [
        "Importe el archivo en el dataframe, **Se debe usar la codificacion latin-1**"
      ]
    },
    {
      "cell_type": "code",
      "metadata": {
        "id": "_TJpY9aeXk_-"
      },
      "source": [
        "df_ecommerce= pd.read_csv('Copia de Ecommerce.csv', encoding='latin-1')\n",
        "\n"
      ],
      "execution_count": 6,
      "outputs": []
    },
    {
      "cell_type": "markdown",
      "metadata": {
        "id": "ZomLAAIMXlAX"
      },
      "source": [
        "**Muestre las primeras 5 filas del DataFrame para verificar que leyó los datos correctamente.**"
      ]
    },
    {
      "cell_type": "code",
      "metadata": {
        "id": "yLrzRnylXlAZ",
        "colab": {
          "base_uri": "https://localhost:8080/"
        },
        "outputId": "cf1831f8-4d73-4fe2-c9a4-771f6d9e69bb"
      },
      "source": [
        "# ESCRIBA SU CODIGO AQUI PARA NO BORRAR EL RESULTADO ESPERADO\n",
        "print ( df_ecommerce.head(5))"
      ],
      "execution_count": 9,
      "outputs": [
        {
          "output_type": "stream",
          "name": "stdout",
          "text": [
            "    _unit_id  ...                                product_description\n",
            "0  711158459  ...  The PlayStation 4 system opens the door to an ...\n",
            "1  711158460  ...  The PlayStation 4 system opens the door to an ...\n",
            "2  711158461  ...  The PlayStation 4 system opens the door to an ...\n",
            "3  711158462  ...                                                NaN\n",
            "4  711158463  ...  The PlayStation 4 system opens the door to an ...\n",
            "\n",
            "[5 rows x 12 columns]\n"
          ]
        }
      ]
    },
    {
      "cell_type": "code",
      "metadata": {
        "id": "vDsFVhA-XlAe",
        "colab": {
          "base_uri": "https://localhost:8080/",
          "height": 445
        },
        "outputId": "a50358f3-5b6f-4805-87ef-951dc191fe82"
      },
      "source": [
        "# NO USAR ESTA CELDA\n"
      ],
      "execution_count": null,
      "outputs": [
        {
          "output_type": "execute_result",
          "data": {
            "text/html": [
              "<div>\n",
              "<style scoped>\n",
              "    .dataframe tbody tr th:only-of-type {\n",
              "        vertical-align: middle;\n",
              "    }\n",
              "\n",
              "    .dataframe tbody tr th {\n",
              "        vertical-align: top;\n",
              "    }\n",
              "\n",
              "    .dataframe thead th {\n",
              "        text-align: right;\n",
              "    }\n",
              "</style>\n",
              "<table border=\"1\" class=\"dataframe\">\n",
              "  <thead>\n",
              "    <tr style=\"text-align: right;\">\n",
              "      <th></th>\n",
              "      <th>_unit_id</th>\n",
              "      <th>relevance</th>\n",
              "      <th>relevance:variance</th>\n",
              "      <th>product_image</th>\n",
              "      <th>product_link</th>\n",
              "      <th>product_price</th>\n",
              "      <th>product_title</th>\n",
              "      <th>query</th>\n",
              "      <th>rank</th>\n",
              "      <th>source</th>\n",
              "      <th>url</th>\n",
              "      <th>Unnamed: 11</th>\n",
              "      <th>Unnamed: 12</th>\n",
              "      <th>Unnamed: 13</th>\n",
              "      <th>Unnamed: 14</th>\n",
              "      <th>Unnamed: 15</th>\n",
              "      <th>Unnamed: 16</th>\n",
              "      <th>Unnamed: 17</th>\n",
              "      <th>Unnamed: 18</th>\n",
              "      <th>Unnamed: 19</th>\n",
              "      <th>Unnamed: 20</th>\n",
              "      <th>Unnamed: 21</th>\n",
              "      <th>Unnamed: 22</th>\n",
              "      <th>Unnamed: 23</th>\n",
              "      <th>Unnamed: 24</th>\n",
              "      <th>Unnamed: 25</th>\n",
              "      <th>Unnamed: 26</th>\n",
              "      <th>Unnamed: 27</th>\n",
              "      <th>Unnamed: 28</th>\n",
              "      <th>Unnamed: 29</th>\n",
              "      <th>Unnamed: 30</th>\n",
              "    </tr>\n",
              "  </thead>\n",
              "  <tbody>\n",
              "    <tr>\n",
              "      <th>0</th>\n",
              "      <td>711158459</td>\n",
              "      <td>3.67</td>\n",
              "      <td>471.0</td>\n",
              "      <td>http://thumbs2.ebaystatic.com/d/l225/m/mzvzEUI...</td>\n",
              "      <td>http://www.ebay.com/itm/Sony-PlayStation-4-PS4...</td>\n",
              "      <td>329.98</td>\n",
              "      <td>Sony PlayStation 4 (PS4) (Latest Model)- 500 G...</td>\n",
              "      <td>playstation 4</td>\n",
              "      <td>1</td>\n",
              "      <td>eBay</td>\n",
              "      <td>http://www.ebay.com/sch/i.html?_from=R40&amp;_trks...</td>\n",
              "      <td>NaN</td>\n",
              "      <td>NaN</td>\n",
              "      <td>NaN</td>\n",
              "      <td>NaN</td>\n",
              "      <td>NaN</td>\n",
              "      <td>NaN</td>\n",
              "      <td>NaN</td>\n",
              "      <td>NaN</td>\n",
              "      <td>NaN</td>\n",
              "      <td>NaN</td>\n",
              "      <td>NaN</td>\n",
              "      <td>NaN</td>\n",
              "      <td>NaN</td>\n",
              "      <td>NaN</td>\n",
              "      <td>NaN</td>\n",
              "      <td>NaN</td>\n",
              "      <td>NaN</td>\n",
              "      <td>NaN</td>\n",
              "      <td>NaN</td>\n",
              "      <td>NaN</td>\n",
              "    </tr>\n",
              "    <tr>\n",
              "      <th>1</th>\n",
              "      <td>711158460</td>\n",
              "      <td>4.00</td>\n",
              "      <td>0.0</td>\n",
              "      <td>http://thumbs3.ebaystatic.com/d/l225/m/mJNDmSy...</td>\n",
              "      <td>http://www.ebay.com/itm/Sony-PlayStation-4-Lat...</td>\n",
              "      <td>324.84</td>\n",
              "      <td>Sony PlayStation 4 (Latest Model)- 500 GB Jet ...</td>\n",
              "      <td>playstation 4</td>\n",
              "      <td>2</td>\n",
              "      <td>eBay</td>\n",
              "      <td>http://www.ebay.com/sch/i.html?_from=R40&amp;_trks...</td>\n",
              "      <td>NaN</td>\n",
              "      <td>NaN</td>\n",
              "      <td>NaN</td>\n",
              "      <td>NaN</td>\n",
              "      <td>NaN</td>\n",
              "      <td>NaN</td>\n",
              "      <td>NaN</td>\n",
              "      <td>NaN</td>\n",
              "      <td>NaN</td>\n",
              "      <td>NaN</td>\n",
              "      <td>NaN</td>\n",
              "      <td>NaN</td>\n",
              "      <td>NaN</td>\n",
              "      <td>NaN</td>\n",
              "      <td>NaN</td>\n",
              "      <td>NaN</td>\n",
              "      <td>NaN</td>\n",
              "      <td>NaN</td>\n",
              "      <td>NaN</td>\n",
              "      <td>NaN</td>\n",
              "    </tr>\n",
              "    <tr>\n",
              "      <th>2</th>\n",
              "      <td>711158461</td>\n",
              "      <td>4.00</td>\n",
              "      <td>0.0</td>\n",
              "      <td>http://thumbs4.ebaystatic.com/d/l225/m/m10NZXA...</td>\n",
              "      <td>http://www.ebay.com/itm/Sony-PlayStation-4-PS4...</td>\n",
              "      <td>324.83</td>\n",
              "      <td>Sony PlayStation 4 PS4 500 GB Jet Black Console</td>\n",
              "      <td>playstation 4</td>\n",
              "      <td>3</td>\n",
              "      <td>eBay</td>\n",
              "      <td>http://www.ebay.com/sch/i.html?_from=R40&amp;_trks...</td>\n",
              "      <td>NaN</td>\n",
              "      <td>NaN</td>\n",
              "      <td>NaN</td>\n",
              "      <td>NaN</td>\n",
              "      <td>NaN</td>\n",
              "      <td>NaN</td>\n",
              "      <td>NaN</td>\n",
              "      <td>NaN</td>\n",
              "      <td>NaN</td>\n",
              "      <td>NaN</td>\n",
              "      <td>NaN</td>\n",
              "      <td>NaN</td>\n",
              "      <td>NaN</td>\n",
              "      <td>NaN</td>\n",
              "      <td>NaN</td>\n",
              "      <td>NaN</td>\n",
              "      <td>NaN</td>\n",
              "      <td>NaN</td>\n",
              "      <td>NaN</td>\n",
              "      <td>NaN</td>\n",
              "    </tr>\n",
              "    <tr>\n",
              "      <th>3</th>\n",
              "      <td>711158462</td>\n",
              "      <td>3.67</td>\n",
              "      <td>471.0</td>\n",
              "      <td>http://thumbs2.ebaystatic.com/d/l225/m/mZZXTmA...</td>\n",
              "      <td>http://www.ebay.com/itm/Sony-PlayStation-4-500...</td>\n",
              "      <td>350.00</td>\n",
              "      <td>Sony - PlayStation 4 500GB The Last of Us Rema...</td>\n",
              "      <td>playstation 4</td>\n",
              "      <td>4</td>\n",
              "      <td>eBay</td>\n",
              "      <td>http://www.ebay.com/sch/i.html?_from=R40&amp;_trks...</td>\n",
              "      <td>NaN</td>\n",
              "      <td>NaN</td>\n",
              "      <td>NaN</td>\n",
              "      <td>NaN</td>\n",
              "      <td>NaN</td>\n",
              "      <td>NaN</td>\n",
              "      <td>NaN</td>\n",
              "      <td>NaN</td>\n",
              "      <td>NaN</td>\n",
              "      <td>NaN</td>\n",
              "      <td>NaN</td>\n",
              "      <td>NaN</td>\n",
              "      <td>NaN</td>\n",
              "      <td>NaN</td>\n",
              "      <td>NaN</td>\n",
              "      <td>NaN</td>\n",
              "      <td>NaN</td>\n",
              "      <td>NaN</td>\n",
              "      <td>NaN</td>\n",
              "      <td>NaN</td>\n",
              "    </tr>\n",
              "    <tr>\n",
              "      <th>4</th>\n",
              "      <td>711158463</td>\n",
              "      <td>3.33</td>\n",
              "      <td>471.0</td>\n",
              "      <td>http://thumbs3.ebaystatic.com/d/l225/m/mzvzEUI...</td>\n",
              "      <td>http://www.ebay.com/itm/Sony-PlayStation-4-PS4...</td>\n",
              "      <td>308.00</td>\n",
              "      <td>Sony PlayStation 4 (PS4) (Latest Model)- 500 G...</td>\n",
              "      <td>playstation 4</td>\n",
              "      <td>5</td>\n",
              "      <td>eBay</td>\n",
              "      <td>http://www.ebay.com/sch/i.html?_from=R40&amp;_trks...</td>\n",
              "      <td>NaN</td>\n",
              "      <td>NaN</td>\n",
              "      <td>NaN</td>\n",
              "      <td>NaN</td>\n",
              "      <td>NaN</td>\n",
              "      <td>NaN</td>\n",
              "      <td>NaN</td>\n",
              "      <td>NaN</td>\n",
              "      <td>NaN</td>\n",
              "      <td>NaN</td>\n",
              "      <td>NaN</td>\n",
              "      <td>NaN</td>\n",
              "      <td>NaN</td>\n",
              "      <td>NaN</td>\n",
              "      <td>NaN</td>\n",
              "      <td>NaN</td>\n",
              "      <td>NaN</td>\n",
              "      <td>NaN</td>\n",
              "      <td>NaN</td>\n",
              "      <td>NaN</td>\n",
              "    </tr>\n",
              "  </tbody>\n",
              "</table>\n",
              "</div>"
            ],
            "text/plain": [
              "    _unit_id  relevance  relevance:variance  ... Unnamed: 28 Unnamed: 29 Unnamed: 30\n",
              "0  711158459       3.67               471.0  ...         NaN         NaN         NaN\n",
              "1  711158460       4.00                 0.0  ...         NaN         NaN         NaN\n",
              "2  711158461       4.00                 0.0  ...         NaN         NaN         NaN\n",
              "3  711158462       3.67               471.0  ...         NaN         NaN         NaN\n",
              "4  711158463       3.33               471.0  ...         NaN         NaN         NaN\n",
              "\n",
              "[5 rows x 31 columns]"
            ]
          },
          "metadata": {
            "tags": []
          },
          "execution_count": 91
        }
      ]
    },
    {
      "cell_type": "markdown",
      "metadata": {
        "id": "KyMXQjgrXlAl"
      },
      "source": [
        "**¿Cuántas filas y columnas hay?**"
      ]
    },
    {
      "cell_type": "code",
      "metadata": {
        "id": "_sFcifgBXlAl",
        "colab": {
          "base_uri": "https://localhost:8080/"
        },
        "outputId": "66a85104-ffbe-4f02-f723-2016729b1739"
      },
      "source": [
        "# ESCRIBA SU CODIGO AQUI PARA NO BORRAR EL RESULTADO ESPERADO\n",
        "df_ecommerce.shape"
      ],
      "execution_count": 11,
      "outputs": [
        {
          "output_type": "execute_result",
          "data": {
            "text/plain": [
              "(32671, 12)"
            ]
          },
          "metadata": {},
          "execution_count": 11
        }
      ]
    },
    {
      "cell_type": "code",
      "metadata": {
        "id": "WBNweu3lXlAo",
        "colab": {
          "base_uri": "https://localhost:8080/"
        },
        "outputId": "968ad9d1-745c-46a4-85af-4985f7e8de43"
      },
      "source": [
        "# NO USAR ESTA CELDA\n"
      ],
      "execution_count": null,
      "outputs": [
        {
          "output_type": "stream",
          "text": [
            "<class 'pandas.core.frame.DataFrame'>\n",
            "RangeIndex: 32671 entries, 0 to 32670\n",
            "Data columns (total 31 columns):\n",
            " #   Column              Non-Null Count  Dtype  \n",
            "---  ------              --------------  -----  \n",
            " 0   _unit_id            32671 non-null  int64  \n",
            " 1   relevance           20571 non-null  float64\n",
            " 2   relevance:variance  20571 non-null  float64\n",
            " 3   product_image       32671 non-null  object \n",
            " 4   product_link        32671 non-null  object \n",
            " 5   product_price       32671 non-null  object \n",
            " 6   product_title       32671 non-null  object \n",
            " 7   query               32671 non-null  object \n",
            " 8   rank                32671 non-null  object \n",
            " 9   source              32671 non-null  object \n",
            " 10  url                 32671 non-null  object \n",
            " 11  Unnamed: 11         177 non-null    object \n",
            " 12  Unnamed: 12         90 non-null     object \n",
            " 13  Unnamed: 13         62 non-null     object \n",
            " 14  Unnamed: 14         32 non-null     object \n",
            " 15  Unnamed: 15         19 non-null     object \n",
            " 16  Unnamed: 16         10 non-null     object \n",
            " 17  Unnamed: 17         7 non-null      object \n",
            " 18  Unnamed: 18         6 non-null      object \n",
            " 19  Unnamed: 19         5 non-null      object \n",
            " 20  Unnamed: 20         4 non-null      object \n",
            " 21  Unnamed: 21         3 non-null      object \n",
            " 22  Unnamed: 22         3 non-null      object \n",
            " 23  Unnamed: 23         2 non-null      object \n",
            " 24  Unnamed: 24         2 non-null      object \n",
            " 25  Unnamed: 25         2 non-null      object \n",
            " 26  Unnamed: 26         1 non-null      object \n",
            " 27  Unnamed: 27         1 non-null      object \n",
            " 28  Unnamed: 28         1 non-null      object \n",
            " 29  Unnamed: 29         1 non-null      object \n",
            " 30  Unnamed: 30         1 non-null      object \n",
            "dtypes: float64(2), int64(1), object(28)\n",
            "memory usage: 7.7+ MB\n"
          ],
          "name": "stdout"
        }
      ]
    },
    {
      "cell_type": "markdown",
      "metadata": {
        "id": "yP8uRAUdcTzC"
      },
      "source": [
        "Listamos las columnas del dataframe"
      ]
    },
    {
      "cell_type": "code",
      "metadata": {
        "id": "V9rV5_2NcaFJ",
        "colab": {
          "base_uri": "https://localhost:8080/"
        },
        "outputId": "e746d49a-9173-4877-cc40-860948384837"
      },
      "source": [
        "# ESCRIBA SU CODIGO AQUI PARA NO BORRAR EL RESULTADO ESPERADO\n",
        "print (df_ecommerce.columns)\n"
      ],
      "execution_count": 13,
      "outputs": [
        {
          "output_type": "stream",
          "name": "stdout",
          "text": [
            "Index(['_unit_id', 'relevance', 'relevance:variance', 'product_image',\n",
            "       'product_link', 'product_price', 'product_title', 'query', 'rank',\n",
            "       'source', 'url', 'product_description'],\n",
            "      dtype='object')\n"
          ]
        }
      ]
    },
    {
      "cell_type": "code",
      "metadata": {
        "colab": {
          "base_uri": "https://localhost:8080/"
        },
        "id": "OKuY-6K4ce2V",
        "outputId": "bd2257ea-8b86-4319-8aa6-967a3c90dadd"
      },
      "source": [
        "# NO USAR ESTA CELDA\n"
      ],
      "execution_count": null,
      "outputs": [
        {
          "output_type": "execute_result",
          "data": {
            "text/plain": [
              "Index(['_unit_id', 'relevance', 'relevance:variance', 'product_image',\n",
              "       'product_link', 'product_price', 'product_title', 'query', 'rank',\n",
              "       'source', 'url', 'Unnamed: 11', 'Unnamed: 12', 'Unnamed: 13',\n",
              "       'Unnamed: 14', 'Unnamed: 15', 'Unnamed: 16', 'Unnamed: 17',\n",
              "       'Unnamed: 18', 'Unnamed: 19', 'Unnamed: 20', 'Unnamed: 21',\n",
              "       'Unnamed: 22', 'Unnamed: 23', 'Unnamed: 24', 'Unnamed: 25',\n",
              "       'Unnamed: 26', 'Unnamed: 27', 'Unnamed: 28', 'Unnamed: 29',\n",
              "       'Unnamed: 30'],\n",
              "      dtype='object')"
            ]
          },
          "metadata": {
            "tags": []
          },
          "execution_count": 139
        }
      ]
    },
    {
      "cell_type": "markdown",
      "metadata": {
        "id": "B6ji3JFHa2qo"
      },
      "source": [
        "Eliminar las columnas **basura** es decir de la **11 a la 30**"
      ]
    },
    {
      "cell_type": "code",
      "metadata": {
        "id": "7QTGgyUmbRmV",
        "colab": {
          "base_uri": "https://localhost:8080/"
        },
        "outputId": "8e25470d-0299-4789-c23d-fee7fe7e03b9"
      },
      "source": [
        "# ESCRIBA SU CODIGO AQUI PARA NO BORRAR EL RESULTADO ESPERADO\n",
        "df1 =  df_ecommerce.drop( 'product_description' , axis= 1)\n",
        "df1.columns\n"
      ],
      "execution_count": 22,
      "outputs": [
        {
          "output_type": "execute_result",
          "data": {
            "text/plain": [
              "Index(['_unit_id', 'relevance', 'relevance:variance', 'product_image',\n",
              "       'product_link', 'product_price', 'product_title', 'query', 'rank',\n",
              "       'source', 'url'],\n",
              "      dtype='object')"
            ]
          },
          "metadata": {},
          "execution_count": 22
        }
      ]
    },
    {
      "cell_type": "code",
      "metadata": {
        "colab": {
          "base_uri": "https://localhost:8080/"
        },
        "id": "B84e9GzRbUQ9",
        "outputId": "4a8e2eba-c5c4-4e32-f436-b972709f21fb"
      },
      "source": [
        "# NO USAR ESTA CELDA (Validamos las columnas resultantes)\n"
      ],
      "execution_count": null,
      "outputs": [
        {
          "output_type": "execute_result",
          "data": {
            "text/plain": [
              "Index(['_unit_id', 'relevance', 'relevance:variance', 'product_image',\n",
              "       'product_link', 'product_price', 'product_title', 'query', 'rank',\n",
              "       'source', 'url'],\n",
              "      dtype='object')"
            ]
          },
          "metadata": {
            "tags": []
          },
          "execution_count": 177
        }
      ]
    },
    {
      "cell_type": "markdown",
      "metadata": {
        "id": "uOs_YNzwNW6s"
      },
      "source": [
        "Se debe quitar las **,(coma)** de la columna precio (Product_price)"
      ]
    },
    {
      "cell_type": "code",
      "metadata": {
        "colab": {
          "base_uri": "https://localhost:8080/"
        },
        "id": "9wdZOJr0OIRd",
        "outputId": "0ec058c8-29c5-4df0-f268-0c4758392412"
      },
      "source": [
        "# Validamos que no es posible realizar el casting  de los valores. \n",
        "print (df1['product_price'].str.replace(',',''))\n",
        " "
      ],
      "execution_count": 37,
      "outputs": [
        {
          "output_type": "stream",
          "name": "stdout",
          "text": [
            "0                             $329.98 \n",
            "1                             $324.84 \n",
            "2                             $324.83 \n",
            "3                             $350.00 \n",
            "4        $308.00\\nTrending at\\n$319.99\n",
            "                     ...              \n",
            "32666               $109.99Sale $74.95\n",
            "32667                         $175.00 \n",
            "32668              $175.00Sale $119.95\n",
            "32669                         $169.00 \n",
            "32670                $59.99Sale $39.95\n",
            "Name: product_price, Length: 32671, dtype: object\n"
          ]
        }
      ]
    },
    {
      "cell_type": "code",
      "metadata": {
        "id": "ULWzDNw1Nras"
      },
      "source": [
        "# ESCRIBA SU CODIGO AQUI PARA NO BORRAR EL RESULTADO ESPERADO\n"
      ],
      "execution_count": null,
      "outputs": []
    },
    {
      "cell_type": "code",
      "metadata": {
        "colab": {
          "base_uri": "https://localhost:8080/"
        },
        "id": "7Uw6P_O9N8wS",
        "outputId": "8ef54f19-48a2-43e8-cede-186ba151cbd1"
      },
      "source": [
        "# Validamos que Ya posible realizar el casting  de los valores. \n"
      ],
      "execution_count": null,
      "outputs": [
        {
          "output_type": "execute_result",
          "data": {
            "text/plain": [
              "0        329.98\n",
              "1        324.84\n",
              "2        324.83\n",
              "3        350.00\n",
              "4        308.00\n",
              "          ...  \n",
              "32666    189.99\n",
              "32667    175.00\n",
              "32668    189.99\n",
              "32669    169.00\n",
              "32670    189.99\n",
              "Name: product_price, Length: 32671, dtype: float64"
            ]
          },
          "metadata": {
            "tags": []
          },
          "execution_count": 179
        }
      ]
    },
    {
      "cell_type": "markdown",
      "metadata": {
        "id": "q7kMq40uOiEe"
      },
      "source": [
        "Convertimos la columna precio (**product_price**) en **float**"
      ]
    },
    {
      "cell_type": "code",
      "metadata": {
        "id": "whNrtkUqOtdp"
      },
      "source": [
        "# ESCRIBA SU CODIGO AQUI PARA NO BORRAR EL RESULTADO ESPERADO\n"
      ],
      "execution_count": null,
      "outputs": []
    },
    {
      "cell_type": "code",
      "metadata": {
        "colab": {
          "base_uri": "https://localhost:8080/"
        },
        "id": "W6dYzArOO_9S",
        "outputId": "485d09e5-2aaa-4234-ea66-457c866f9e72"
      },
      "source": [
        "# NO USAR ESTA CELDA\n"
      ],
      "execution_count": null,
      "outputs": [
        {
          "output_type": "stream",
          "text": [
            "<class 'pandas.core.frame.DataFrame'>\n",
            "RangeIndex: 32671 entries, 0 to 32670\n",
            "Data columns (total 11 columns):\n",
            " #   Column              Non-Null Count  Dtype  \n",
            "---  ------              --------------  -----  \n",
            " 0   _unit_id            32671 non-null  int64  \n",
            " 1   relevance           20571 non-null  float64\n",
            " 2   relevance:variance  20571 non-null  float64\n",
            " 3   product_image       32671 non-null  object \n",
            " 4   product_link        32671 non-null  object \n",
            " 5   product_price       32671 non-null  float64\n",
            " 6   product_title       32671 non-null  object \n",
            " 7   query               32671 non-null  object \n",
            " 8   rank                32671 non-null  object \n",
            " 9   source              32671 non-null  object \n",
            " 10  url                 32671 non-null  object \n",
            "dtypes: float64(3), int64(1), object(7)\n",
            "memory usage: 2.7+ MB\n"
          ],
          "name": "stdout"
        }
      ]
    },
    {
      "cell_type": "markdown",
      "metadata": {
        "id": "-7kGJk4hWJzN"
      },
      "source": [
        "Contamos cuantos **registros** tenemos en el dataframe"
      ]
    },
    {
      "cell_type": "code",
      "metadata": {
        "id": "vXZUH3pnWTJA",
        "colab": {
          "base_uri": "https://localhost:8080/"
        },
        "outputId": "18100ab3-62cb-495d-dee7-cb7121b21e41"
      },
      "source": [
        "# ESCRIBA SU CODIGO AQUI PARA NO BORRAR EL RESULTADO ESPERADO\n",
        "df1.count(axis=0)\n"
      ],
      "execution_count": 36,
      "outputs": [
        {
          "output_type": "execute_result",
          "data": {
            "text/plain": [
              "_unit_id              32671\n",
              "relevance             20571\n",
              "relevance:variance    20571\n",
              "product_image         32671\n",
              "product_link          32671\n",
              "product_price         32671\n",
              "product_title         32671\n",
              "query                 32671\n",
              "rank                  32671\n",
              "source                32671\n",
              "url                   32671\n",
              "dtype: int64"
            ]
          },
          "metadata": {},
          "execution_count": 36
        }
      ]
    },
    {
      "cell_type": "code",
      "metadata": {
        "colab": {
          "base_uri": "https://localhost:8080/"
        },
        "id": "Tl_9oH7XWe9l",
        "outputId": "b959f376-06ba-428d-a3d3-2eaba1153017"
      },
      "source": [
        "# NO USAR ESTA CELDA\n"
      ],
      "execution_count": null,
      "outputs": [
        {
          "output_type": "execute_result",
          "data": {
            "text/plain": [
              "_unit_id              32671\n",
              "relevance             20571\n",
              "relevance:variance    20571\n",
              "product_image         32671\n",
              "product_link          32671\n",
              "product_price         32671\n",
              "product_title         32671\n",
              "query                 32671\n",
              "rank                  32671\n",
              "source                32671\n",
              "url                   32671\n",
              "dtype: int64"
            ]
          },
          "metadata": {
            "tags": []
          },
          "execution_count": 182
        }
      ]
    },
    {
      "cell_type": "markdown",
      "metadata": {
        "id": "FaVqBMnxWjZL"
      },
      "source": [
        "Contamos cuantas tiendas (**source**) tenemos en el dataframe"
      ]
    },
    {
      "cell_type": "code",
      "metadata": {
        "id": "qi86zHI2WvrX",
        "colab": {
          "base_uri": "https://localhost:8080/"
        },
        "outputId": "2044cfd4-984b-4672-b295-9c808f24a84f"
      },
      "source": [
        "# ESCRIBA SU CODIGO AQUI PARA NO BORRAR EL RESULTADO ESPERADO\n",
        "\n",
        "\n",
        " \n",
        "print(    df1.groupby(['source'])  ['source'].count() )\n",
        " \n"
      ],
      "execution_count": 46,
      "outputs": [
        {
          "output_type": "stream",
          "name": "stdout",
          "text": [
            "source\n",
            "Overstock     7536\n",
            "Shop.com     13093\n",
            "Target        3023\n",
            "eBay          4179\n",
            "walmart       4840\n",
            "Name: source, dtype: int64\n"
          ]
        }
      ]
    },
    {
      "cell_type": "code",
      "metadata": {
        "colab": {
          "base_uri": "https://localhost:8080/"
        },
        "id": "JrGp9thRW193",
        "outputId": "4e059882-d18a-46f5-b939-6b12d9802521"
      },
      "source": [
        "# NO USAR ESTA CELDA\n"
      ],
      "execution_count": null,
      "outputs": [
        {
          "output_type": "execute_result",
          "data": {
            "text/plain": [
              "32671"
            ]
          },
          "metadata": {
            "tags": []
          },
          "execution_count": 183
        }
      ]
    },
    {
      "cell_type": "markdown",
      "metadata": {
        "id": "zIgMB5DTT9V9"
      },
      "source": [
        "Listar la tiendas **(source)** diferentes a : ***Shop.com,  Overstock,  walmart , eBay , eBay , Target***"
      ]
    },
    {
      "cell_type": "code",
      "metadata": {
        "id": "3BY2rcduQMLS",
        "colab": {
          "base_uri": "https://localhost:8080/"
        },
        "outputId": "87ab2ac7-045b-4108-81b5-461a39f1b143"
      },
      "source": [
        "# ESCRIBA SU CODIGO AQUI PARA NO BORRAR EL RESULTADO ESPERADO\n",
        "\n",
        "##print( df1  [ ('source'  )]  [df1[\"source\"]==\"Shop.com\" ]  \n",
        "\n",
        "df1 ['source'] [df1[\"source\"]!='eBay'] \n",
        "\n",
        "\n"
      ],
      "execution_count": 88,
      "outputs": [
        {
          "output_type": "execute_result",
          "data": {
            "text/plain": [
              "2353     Overstock\n",
              "2354     Overstock\n",
              "2355     Overstock\n",
              "2356     Overstock\n",
              "2357     Overstock\n",
              "           ...    \n",
              "32666     Shop.com\n",
              "32667     Shop.com\n",
              "32668     Shop.com\n",
              "32669     Shop.com\n",
              "32670     Shop.com\n",
              "Name: source, Length: 28492, dtype: object"
            ]
          },
          "metadata": {},
          "execution_count": 88
        }
      ]
    },
    {
      "cell_type": "code",
      "metadata": {
        "colab": {
          "base_uri": "https://localhost:8080/"
        },
        "id": "g0snv-RLUe92",
        "outputId": "7796bff3-f85e-4e64-80ff-92a27d59bb1c"
      },
      "source": [
        "# NO USAR ESTA CELDA\n"
      ],
      "execution_count": null,
      "outputs": [
        {
          "output_type": "execute_result",
          "data": {
            "text/plain": [
              "array(['16', 'King', '20', '21', '25', '12', '24', '3', '14', '15', '19',\n",
              "       '6', '23', 'glitter vials', '18', 'XL', '17', '2', '10', '11', '9',\n",
              "       '4', '5', '7', '8', '13', ' 2851 Routers', '51', '57', '34', '35',\n",
              "       'queen comforter sets', '41', '45', '49', '36', '38', '43', '50',\n",
              "       '52', '29', '54', '28', '30', '31', '32', '33', '37', '44', '55',\n",
              "       '56', '27', ' a Soldier of the Revolution (Paperback)',\n",
              "       'flea and tick control for dogs', '58', '26'], dtype=object)"
            ]
          },
          "metadata": {
            "tags": []
          },
          "execution_count": 185
        }
      ]
    },
    {
      "cell_type": "markdown",
      "metadata": {
        "id": "hbeTrnteVkTU"
      },
      "source": [
        "Contar las tiendas **(source)** diferentes a : ***Shop.com,  Overstock,  walmart , eBay , eBay , Target***"
      ]
    },
    {
      "cell_type": "code",
      "metadata": {
        "id": "w4jr77StVpSy",
        "colab": {
          "base_uri": "https://localhost:8080/",
          "height": 129
        },
        "outputId": "a2baf13d-f8ca-4239-d694-da0a79bb3f82"
      },
      "source": [
        "# ESCRIBA SU CODIGO AQUI PARA NO BORRAR EL RESULTADO ESPERADO\n",
        "df1 [ ('source'  )] [df1[\"source\"]=='eBay'\n"
      ],
      "execution_count": 87,
      "outputs": [
        {
          "output_type": "error",
          "ename": "SyntaxError",
          "evalue": "ignored",
          "traceback": [
            "\u001b[0;36m  File \u001b[0;32m\"<ipython-input-87-fb94a75b6aa3>\"\u001b[0;36m, line \u001b[0;32m2\u001b[0m\n\u001b[0;31m    df1 [ ('source'  )] [df1[\"source\"]=='eBay'\u001b[0m\n\u001b[0m                                              ^\u001b[0m\n\u001b[0;31mSyntaxError\u001b[0m\u001b[0;31m:\u001b[0m unexpected EOF while parsing\n"
          ]
        }
      ]
    },
    {
      "cell_type": "code",
      "metadata": {
        "colab": {
          "base_uri": "https://localhost:8080/"
        },
        "id": "mlhICLuoVspt",
        "outputId": "9b408114-2031-413c-c055-14aee2082c85"
      },
      "source": [
        "# NO USAR ESTA CELDA\n"
      ],
      "execution_count": null,
      "outputs": [
        {
          "output_type": "execute_result",
          "data": {
            "text/plain": [
              "95"
            ]
          },
          "metadata": {
            "tags": []
          },
          "execution_count": 186
        }
      ]
    },
    {
      "cell_type": "markdown",
      "metadata": {
        "id": "rPcUfn1QUw60"
      },
      "source": [
        "Borrar las tiendas **(source)** diferentes a : ***Shop.com,  Overstock,  walmart , eBay , eBay , Target***"
      ]
    },
    {
      "cell_type": "code",
      "metadata": {
        "id": "Coo2fUq4Qwrz"
      },
      "source": [
        "# ESCRIBA SU CODIGO AQUI PARA NO BORRAR EL RESULTADO ESPERADO\n"
      ],
      "execution_count": null,
      "outputs": []
    },
    {
      "cell_type": "code",
      "metadata": {
        "colab": {
          "base_uri": "https://localhost:8080/"
        },
        "id": "xNyoGESMYLbx",
        "outputId": "8cca878d-38da-4165-a200-93dd7ff36abc"
      },
      "source": [
        "#NO USAR ESTA CELDA (Contamos la cantidad de tiendas despues de la eliminacion)\n"
      ],
      "execution_count": null,
      "outputs": [
        {
          "output_type": "execute_result",
          "data": {
            "text/plain": [
              "32576"
            ]
          },
          "metadata": {
            "tags": []
          },
          "execution_count": 189
        }
      ]
    },
    {
      "cell_type": "markdown",
      "metadata": {
        "id": "Eh60Ivf-Ysh1"
      },
      "source": [
        "Listar cantidad de productos por tienda (**source**) "
      ]
    },
    {
      "cell_type": "code",
      "metadata": {
        "id": "tXGW6OMeZLRt"
      },
      "source": [
        "# ESCRIBA SU CODIGO AQUI PARA NO BORRAR EL RESULTADO ESPERADO\n"
      ],
      "execution_count": null,
      "outputs": []
    },
    {
      "cell_type": "code",
      "metadata": {
        "colab": {
          "base_uri": "https://localhost:8080/"
        },
        "id": "UIvbVtT0ZYao",
        "outputId": "dc424296-6b0f-44d9-f916-5570553cc6b6"
      },
      "source": [
        "# NO USAR ESTA CELDA\n"
      ],
      "execution_count": null,
      "outputs": [
        {
          "output_type": "execute_result",
          "data": {
            "text/plain": [
              "Shop.com     13015\n",
              "Overstock     7536\n",
              "walmart       4824\n",
              "eBay          4179\n",
              "Target        3022\n",
              "Name: source, dtype: int64"
            ]
          },
          "metadata": {
            "tags": []
          },
          "execution_count": 190
        }
      ]
    },
    {
      "cell_type": "markdown",
      "metadata": {
        "id": "I-M6WaCOXlAu"
      },
      "source": [
        "Calcular el precio promedio de los precios de los elementos (**product_price**)"
      ]
    },
    {
      "cell_type": "code",
      "metadata": {
        "id": "tolkk6_oXlAv"
      },
      "source": [
        "# ESCRIBA SU CODIGO AQUI PARA NO BORRAR EL RESULTADO ESPERADO\n"
      ],
      "execution_count": null,
      "outputs": []
    },
    {
      "cell_type": "code",
      "metadata": {
        "colab": {
          "base_uri": "https://localhost:8080/"
        },
        "id": "SZybM4d1apCM",
        "outputId": "3610a349-0b7f-45d5-b3d9-2635d0b49420"
      },
      "source": [
        "# NO USAR ESTA CELDA\n"
      ],
      "execution_count": null,
      "outputs": [
        {
          "output_type": "execute_result",
          "data": {
            "text/plain": [
              "101.03392037086485"
            ]
          },
          "metadata": {
            "tags": []
          },
          "execution_count": 156
        }
      ]
    },
    {
      "cell_type": "markdown",
      "metadata": {
        "id": "AVPA9wBkXlA9"
      },
      "source": [
        "¿Cuál es el precio de compra (**product_price**) máximo?"
      ]
    },
    {
      "cell_type": "code",
      "metadata": {
        "id": "ZujUjouSXlA9"
      },
      "source": [
        "# ESCRIBA SU CODIGO AQUI PARA NO BORRAR EL RESULTADO ESPERADO\n"
      ],
      "execution_count": null,
      "outputs": []
    },
    {
      "cell_type": "code",
      "metadata": {
        "id": "vc6EV4QzXlA_",
        "colab": {
          "base_uri": "https://localhost:8080/"
        },
        "outputId": "1d01b9d6-50e4-4d27-cdc1-83ff1b8453dc"
      },
      "source": [
        "# NO USAR ESTA CELDA\n"
      ],
      "execution_count": null,
      "outputs": [
        {
          "output_type": "execute_result",
          "data": {
            "text/plain": [
              "18900.0"
            ]
          },
          "metadata": {
            "tags": []
          },
          "execution_count": 158
        }
      ]
    },
    {
      "cell_type": "markdown",
      "metadata": {
        "id": "UoSlZPJSeciZ"
      },
      "source": [
        "¿Cuál es el precio de compra (**product_price**) minimo?"
      ]
    },
    {
      "cell_type": "code",
      "metadata": {
        "id": "HKnRWUzpXlBD"
      },
      "source": [
        "# ESCRIBA SU CODIGO AQUI PARA NO BORRAR EL RESULTADO ESPERADO\n"
      ],
      "execution_count": null,
      "outputs": []
    },
    {
      "cell_type": "code",
      "metadata": {
        "id": "k6BIAn9_XlBE",
        "colab": {
          "base_uri": "https://localhost:8080/"
        },
        "outputId": "5fe56471-a338-42e1-c48c-81ddb98438f3"
      },
      "source": [
        "# NO USAR ESTA CELDA\n"
      ],
      "execution_count": null,
      "outputs": [
        {
          "output_type": "execute_result",
          "data": {
            "text/plain": [
              "0.01"
            ]
          },
          "metadata": {
            "tags": []
          },
          "execution_count": 160
        }
      ]
    },
    {
      "cell_type": "markdown",
      "metadata": {
        "id": "FEOezCdjfnDV"
      },
      "source": [
        "Listar los productos **unicos** columna (**query**)"
      ]
    },
    {
      "cell_type": "code",
      "metadata": {
        "id": "nnpXPL4Kf8lH"
      },
      "source": [
        "# ESCRIBA SU CODIGO AQUI PARA NO BORRAR EL RESULTADO ESPERADO\n"
      ],
      "execution_count": null,
      "outputs": []
    },
    {
      "cell_type": "code",
      "metadata": {
        "colab": {
          "base_uri": "https://localhost:8080/"
        },
        "id": "oreLdi9Tf9-0",
        "outputId": "963be2bb-945c-41f4-9ca3-4d49edbf37a2"
      },
      "source": [
        "# NO USAR ESTA CELDA\n"
      ],
      "execution_count": null,
      "outputs": [
        {
          "output_type": "execute_result",
          "data": {
            "text/plain": [
              "array(['playstation 4', 'eye cream', 'routers', 'shaver panasonic',\n",
              "       'coffee grinder', 'high chairs', 'face cream',\n",
              "       'Brett Favre NY Titans jersey blue', 'aroma diffuser',\n",
              "       'Bluray Hobbit extended', 'white plain dinner set',\n",
              "       'double stroller', 'Vanilla Scented Perfumes', 'wireless mouse',\n",
              "       'spiderman', 'bedspreads', 'kitchen rugs', 'LED monitor',\n",
              "       'PS2 controller USB', 'extenal hardisk 500 gb', 'laptop lenovo',\n",
              "       'microwave', 'wall clocks', 'yankee candle', 'cleaning robot',\n",
              "       'cuisinart coffee maker', 'kobo e-reader', 'videogames ps4',\n",
              "       'wii microphone', 'storage ottoman', 'Wii Gamepad',\n",
              "       'Seagate 2TB hard disk', 'wine rack', 'fitbit charge',\n",
              "       'acoustic guitar clamp', 'pressure cooker',\n",
              "       'teenage mutant ninja turtles', 'Bird seed feeder',\n",
              "       'zippo hand warmer', 'coffee for nespresso', 'stick vacuum',\n",
              "       '16 gb memory card', 'samsung galaxy phone case',\n",
              "       'Wired Xbox 360 controller', 'pots and pans set',\n",
              "       'screen protector samsung', 'keurig coffee maker',\n",
              "       'electric griddle', 'bluetooth speaker',\n",
              "       'Single serve coffee maker', 'digital camera', 'Wireless Mouse',\n",
              "       'Phillips coffee maker', 'cast iron skillet', 'Assassinss Creed',\n",
              "       'playstation vita system', 'aveeno shampoo', 'road bicycle',\n",
              "       'iphone 5', 'notebook paper', 'an extremely goofy movie',\n",
              "       'shotgun shell pouch', 'thomas the train',\n",
              "       'ps3 wireless controller', 'full tang knife',\n",
              "       'gucci guilty intense women', 'rubbermaid turntables',\n",
              "       'dean guitar', 'wreck it ralph', 'speck iphone 5 case', 'zippo',\n",
              "       'steel necklace', 'micro usb to hdmi', 'galaxy note 3',\n",
              "       'seiko monster', 'lego star wars', 'kitchenaid glass bowl',\n",
              "       'projector', 'candle lantern', 'polaroid camera', 'wii',\n",
              "       'plantronics corded headset', 'cross strap backpack',\n",
              "       'polar heart rate monitor', 'dual headset splitter',\n",
              "       'flea and tick control for dogs', 'candle chandelier',\n",
              "       'hello kitty', 'tv', 'duck dynasty', 'batman', 'soda stream',\n",
              "       'rice cooker', 'toaster oven', 'kitchenaid mixer', 'gold dress',\n",
              "       'tote bag', 'crocs', 'yellow dress', 'Levis',\n",
              "       'Rechargable batteries', 'gold toe socks', 'pittsburgh pirates',\n",
              "       'nike womens', 'toddler sandals', 'Dc shoes black', 'rain boot',\n",
              "       'drawer organizer', 'headphones earbuds', 'cowboy boots',\n",
              "       'memory foam mattress topper', 'workout clothes for women',\n",
              "       'nike shoes', 'ecco shoes', 'portable hard drive', 'bike lock',\n",
              "       'martial art headgear', 'hawaiian shirt', 'mens dress shirts',\n",
              "       'Watch women fossil', 'silver jeans', 'queen comforter sets',\n",
              "       'green bay packers', 'table runner', 'skechers womens shoes',\n",
              "       'khaki pants', 'duffle bag', 'memory foam pillow', 'yoga pants',\n",
              "       'sleeping bags', 'silver necklace', 'white jeans',\n",
              "       'reusable straws', 'patio umbrellas', 'wall mirrors',\n",
              "       'solar battery charger', 'yoga mat', 'candle holders',\n",
              "       'rachel ray cookware', 'converse high tops',\n",
              "       'Sunglasses polarized', 'green laser pointer', 'electric blanket',\n",
              "       'baseball cleats', 'button down shirt', 'high heels shoes',\n",
              "       'chocolate molds', 'white dress', 'Power surge protector',\n",
              "       'flannel sheets', 'bike for children', 'macbook case 13 case',\n",
              "       'macbook case 13 case\"', 'toy trucks', 'Cocoa Butter', 'blendtec',\n",
              "       'levis 505', 'hair accessories', 'k cups', 'sports bra',\n",
              "       'light bulb', 'dress shirts', 'yankees', 'cat grass',\n",
              "       'patio tables', 'cargo shorts', 'boyfriend jeans', 'rain jacket',\n",
              "       'dish towels', 'table clock', 'nutri system',\n",
              "       'baseball photo frame', 'gym gloves', 'knife victorinox',\n",
              "       'business badge holder', 'car window sticker', 'blue mini fridge',\n",
              "       'harley-davidson', 'hat rack', \"leather men's briefcase\",\n",
              "       'anime necklace', 'glitter vials', 'long prom dress',\n",
              "       'multiple phone charger', 'girls halloween costumes',\n",
              "       'ipad 2 heavy duty case', 'ps3 memory card', 'mens leather shirt',\n",
              "       'apple iphone 32 gb otterbox', 'iphone 4 case', 'kitchen faucet',\n",
              "       'ray ban sunglasses', 'dollhouse bathtub', 'car jump starter',\n",
              "       'silicone toe separators', 'coffee cup', 'solar charger',\n",
              "       'men earrings diamond squared', 'tablet accessories',\n",
              "       'flower bulbs', 'metal lathe', 'storage drawers',\n",
              "       'three wheeled bike', 'bridal shower decorations', 'aqua shoes',\n",
              "       'golf clubs', '8 ounce mason jars', 'punch bowls',\n",
              "       'mac book air cover', 'led christmas lights', 'neck pillow',\n",
              "       'outdoor table cover', 'barbie', 'legos', 'pyrex',\n",
              "       'infinity scarf', 'robe', 'waffle maker', 'blender',\n",
              "       'sweater dress', 'snow boots', 'samsonite', 'samsonite\"',\n",
              "       'dresses for women', 'decorative pillows', 'ice cream maker',\n",
              "       'san francisco 49ers', 'adidas pants', 'lc lauren conrad dresses',\n",
              "       'silver ring', 'fifa 15', 'adidas fragance', 'vanity fair bras',\n",
              "       'Nike Shox', 'minecraft diamond sword', 'nike flip flops',\n",
              "       'Refrigirator', 'beats headphones', 'volcom short',\n",
              "       'bluesky gel nail polish', 'longboard pads', 'werewolf costume',\n",
              "       'polo bear sweater', 'small brass bow', 'oakley radar',\n",
              "       'skeleton poster', 'dr who lanyard',\n",
              "       'hallmark wedding couple figurine', 'fuji bike shirt',\n",
              "       'ninja turtle socks', 'hollister polo', 'beer stein', 'golf shoes',\n",
              "       'over the knee snow boots', 'vans backpack', 'converse low top',\n",
              "       'oakley polarized radar', 'glass marbles', 'pencil skirt',\n",
              "       'Donut Shoppe K Cups', 'deep fryers',\n",
              "       'tupperware water bottle lime', \"victoria's secret lace gown\",\n",
              "       'victoria secret pink shorts'], dtype=object)"
            ]
          },
          "metadata": {
            "tags": []
          },
          "execution_count": 174
        }
      ]
    },
    {
      "cell_type": "markdown",
      "metadata": {
        "id": "p-2Py8qPXlBG"
      },
      "source": [
        "¿Cunatos productos son **bike lock** ?"
      ]
    },
    {
      "cell_type": "code",
      "metadata": {
        "id": "upsNjAZ3XlBH"
      },
      "source": [
        "# ESCRIBA SU CODIGO AQUI PARA NO BORRAR EL RESULTADO ESPERADO\n"
      ],
      "execution_count": null,
      "outputs": []
    },
    {
      "cell_type": "code",
      "metadata": {
        "id": "vV1YiTETXlBK",
        "colab": {
          "base_uri": "https://localhost:8080/"
        },
        "outputId": "36982949-00df-48e0-b3b2-6b9fc9e643b9"
      },
      "source": [
        "# NO USAR ESTA CELDA\n"
      ],
      "execution_count": null,
      "outputs": [
        {
          "output_type": "execute_result",
          "data": {
            "text/plain": [
              "298"
            ]
          },
          "metadata": {
            "tags": []
          },
          "execution_count": 198
        }
      ]
    },
    {
      "cell_type": "markdown",
      "metadata": {
        "id": "SKtis81HXlBN"
      },
      "source": [
        "¿Cuantos productos tienen el rango **'1'**  columna(**rank**)\n"
      ]
    },
    {
      "cell_type": "code",
      "metadata": {
        "id": "Cjinh8V0XlBN"
      },
      "source": [
        "# ESCRIBA SU CODIGO AQUI PARA NO BORRAR EL RESULTADO ESPERADO\n"
      ],
      "execution_count": null,
      "outputs": []
    },
    {
      "cell_type": "code",
      "metadata": {
        "id": "2xOWH8xEXlBP",
        "colab": {
          "base_uri": "https://localhost:8080/"
        },
        "outputId": "68cf6648-501b-41d4-bbe8-f41faabbb2f4"
      },
      "source": [
        "# NO USAR ESTA CELDA\n"
      ],
      "execution_count": null,
      "outputs": [
        {
          "output_type": "stream",
          "text": [
            "<class 'pandas.core.frame.DataFrame'>\n",
            "Int64Index: 1025 entries, 0 to 20552\n",
            "Data columns (total 11 columns):\n",
            " #   Column              Non-Null Count  Dtype  \n",
            "---  ------              --------------  -----  \n",
            " 0   _unit_id            1025 non-null   int64  \n",
            " 1   relevance           1025 non-null   float64\n",
            " 2   relevance:variance  1025 non-null   float64\n",
            " 3   product_image       1025 non-null   object \n",
            " 4   product_link        1025 non-null   object \n",
            " 5   product_price       1025 non-null   float64\n",
            " 6   product_title       1025 non-null   object \n",
            " 7   query               1025 non-null   object \n",
            " 8   rank                1025 non-null   object \n",
            " 9   source              1025 non-null   object \n",
            " 10  url                 1025 non-null   object \n",
            "dtypes: float64(3), int64(1), object(7)\n",
            "memory usage: 96.1+ KB\n"
          ],
          "name": "stdout"
        }
      ]
    },
    {
      "cell_type": "markdown",
      "metadata": {
        "id": "ZGS9iZlzXlBW"
      },
      "source": [
        "¿Cuáles son los 5 productos (**product_title**) más comunes?"
      ]
    },
    {
      "cell_type": "code",
      "metadata": {
        "id": "m_urfNE_XlBW"
      },
      "source": [
        "# ESCRIBA SU CODIGO AQUI PARA NO BORRAR EL RESULTADO ESPERADO\n"
      ],
      "execution_count": null,
      "outputs": []
    },
    {
      "cell_type": "code",
      "metadata": {
        "id": "gAijdU5qXlBm",
        "colab": {
          "base_uri": "https://localhost:8080/"
        },
        "outputId": "a08fe680-880a-47e0-f3e9-7c5768b222bf"
      },
      "source": [
        "# NO USAR ESTA CELDA\n"
      ],
      "execution_count": null,
      "outputs": [
        {
          "output_type": "execute_result",
          "data": {
            "text/plain": [
              "Logitech Wireless Mouse M325                                  20\n",
              "Wreck-It Ralph (Blu-ray/DVD, 2013, 2-Disc Set)                16\n",
              "Wintergreen Lighting Christmas LED Light Bulb (Pack of 25)    15\n",
              "Personalized Black Chevron Parchment Jute Tote Bag            15\n",
              "Divatex Flannel Sheets                                        12\n",
              "Name: product_title, dtype: int64"
            ]
          },
          "metadata": {
            "tags": []
          },
          "execution_count": 218
        }
      ]
    },
    {
      "cell_type": "markdown",
      "metadata": {
        "id": "hBeEj3PXXlBn"
      },
      "source": [
        "Cual es el precio (**product_price**) mas alto para el articulo (**query**) \"fifa 15\""
      ]
    },
    {
      "cell_type": "code",
      "metadata": {
        "id": "vjeeuu0oXlBp"
      },
      "source": [
        "# ESCRIBA SU CODIGO AQUI PARA NO BORRAR EL RESULTADO ESPERADO\n"
      ],
      "execution_count": null,
      "outputs": []
    },
    {
      "cell_type": "code",
      "metadata": {
        "id": "tBGUiRYoXlBq",
        "colab": {
          "base_uri": "https://localhost:8080/"
        },
        "outputId": "e1b4cd38-631b-4812-b574-3efca497e964"
      },
      "source": [
        "# NO USAR ESTA CELDA\n"
      ],
      "execution_count": null,
      "outputs": [
        {
          "output_type": "execute_result",
          "data": {
            "text/plain": [
              "950.0"
            ]
          },
          "metadata": {
            "tags": []
          },
          "execution_count": 225
        }
      ]
    },
    {
      "cell_type": "markdown",
      "metadata": {
        "id": "OJNwrxyBXlBr"
      },
      "source": [
        "¿Cuál es el nombre (**Product_title**) del producto identificado con el id (**_unit_id**) : ***713196633***?"
      ]
    },
    {
      "cell_type": "code",
      "metadata": {
        "id": "01pl4hv7XlBu"
      },
      "source": [
        "# ESCRIBA SU CODIGO AQUI PARA NO BORRAR EL RESULTADO ESPERADO\n"
      ],
      "execution_count": null,
      "outputs": []
    },
    {
      "cell_type": "code",
      "metadata": {
        "id": "sKnavt6UXlBv",
        "colab": {
          "base_uri": "https://localhost:8080/"
        },
        "outputId": "7e897472-2f20-4450-d226-e8ace6d83707"
      },
      "source": [
        "# NO USAR ESTA CELDA\n"
      ],
      "execution_count": null,
      "outputs": [
        {
          "output_type": "execute_result",
          "data": {
            "text/plain": [
              "32666    Kamik Gamma2 Snow Boots (For Women)\n",
              "Name: product_title, dtype: object"
            ]
          },
          "metadata": {
            "tags": []
          },
          "execution_count": 233
        }
      ]
    },
    {
      "cell_type": "markdown",
      "metadata": {
        "id": "wE1xrVGdXlB0"
      },
      "source": [
        "Listar los productos  de la tienda (**source**) *eBay* donde el precio (**product_price**) sea mayor a $700 (Recuperar solo las columnas: ***source , product_title ,product_price***)"
      ]
    },
    {
      "cell_type": "code",
      "metadata": {
        "id": "7V_jkcm-XlB0"
      },
      "source": [
        "# ESCRIBA SU CODIGO AQUI PARA NO BORRAR EL RESULTADO ESPERADO\n"
      ],
      "execution_count": null,
      "outputs": []
    },
    {
      "cell_type": "code",
      "metadata": {
        "id": "15Ic1x_BXlB2",
        "colab": {
          "base_uri": "https://localhost:8080/",
          "height": 607
        },
        "outputId": "8652bf71-e06e-4eee-ca41-77453134e0b4"
      },
      "source": [
        "# NO USAR ESTA CELDA\n"
      ],
      "execution_count": null,
      "outputs": [
        {
          "output_type": "execute_result",
          "data": {
            "text/html": [
              "<div>\n",
              "<style scoped>\n",
              "    .dataframe tbody tr th:only-of-type {\n",
              "        vertical-align: middle;\n",
              "    }\n",
              "\n",
              "    .dataframe tbody tr th {\n",
              "        vertical-align: top;\n",
              "    }\n",
              "\n",
              "    .dataframe thead th {\n",
              "        text-align: right;\n",
              "    }\n",
              "</style>\n",
              "<table border=\"1\" class=\"dataframe\">\n",
              "  <thead>\n",
              "    <tr style=\"text-align: right;\">\n",
              "      <th></th>\n",
              "      <th>source</th>\n",
              "      <th>product_title</th>\n",
              "      <th>product_price</th>\n",
              "    </tr>\n",
              "  </thead>\n",
              "  <tbody>\n",
              "    <tr>\n",
              "      <th>6</th>\n",
              "      <td>eBay</td>\n",
              "      <td>BRAND NEW Sony PlayStation 4 BUNDLE 500gb</td>\n",
              "      <td>910.00</td>\n",
              "    </tr>\n",
              "    <tr>\n",
              "      <th>501</th>\n",
              "      <td>eBay</td>\n",
              "      <td>Lenovo Y50 Touch 15.6 1080p i7-4700HQ 2gb 860M...</td>\n",
              "      <td>750.50</td>\n",
              "    </tr>\n",
              "    <tr>\n",
              "      <th>504</th>\n",
              "      <td>eBay</td>\n",
              "      <td>Lenovo Thinkpad T450S 8GB Memory-256SSD HD, i5...</td>\n",
              "      <td>880.00</td>\n",
              "    </tr>\n",
              "    <tr>\n",
              "      <th>507</th>\n",
              "      <td>eBay</td>\n",
              "      <td>Lenovo Y50 Touch Gaming Laptop i7-4700HQ 2.4/3...</td>\n",
              "      <td>789.95</td>\n",
              "    </tr>\n",
              "    <tr>\n",
              "      <th>1240</th>\n",
              "      <td>eBay</td>\n",
              "      <td>Nikon D D750 24.3 MP Digital SLR Camera - Blac...</td>\n",
              "      <td>1500.00</td>\n",
              "    </tr>\n",
              "    <tr>\n",
              "      <th>1420</th>\n",
              "      <td>eBay</td>\n",
              "      <td>2012 Felt Z5 51cm Carbon Road Bike - Shimano 1...</td>\n",
              "      <td>1495.00</td>\n",
              "    </tr>\n",
              "    <tr>\n",
              "      <th>1427</th>\n",
              "      <td>eBay</td>\n",
              "      <td>2014  Specialized Venge Pro 56cm Carbon Fiber ...</td>\n",
              "      <td>3395.00</td>\n",
              "    </tr>\n",
              "    <tr>\n",
              "      <th>1429</th>\n",
              "      <td>eBay</td>\n",
              "      <td>Specialized Transition Comp Tri Bike 54cm Road...</td>\n",
              "      <td>953.90</td>\n",
              "    </tr>\n",
              "    <tr>\n",
              "      <th>1664</th>\n",
              "      <td>eBay</td>\n",
              "      <td>DEAN MAB Rocket electric GUITAR new w/ CASE - ...</td>\n",
              "      <td>749.00</td>\n",
              "    </tr>\n",
              "    <tr>\n",
              "      <th>1873</th>\n",
              "      <td>eBay</td>\n",
              "      <td>Lego Star Wars Ultimate Collector's Millennium...</td>\n",
              "      <td>2400.00</td>\n",
              "    </tr>\n",
              "    <tr>\n",
              "      <th>20779</th>\n",
              "      <td>eBay</td>\n",
              "      <td>Orbit Baby Double Travel Syatem Stroller</td>\n",
              "      <td>700.00</td>\n",
              "    </tr>\n",
              "    <tr>\n",
              "      <th>21483</th>\n",
              "      <td>eBay</td>\n",
              "      <td>Nikon D3s 12.1 MP Digital SLR Camera - Black (...</td>\n",
              "      <td>2500.00</td>\n",
              "    </tr>\n",
              "    <tr>\n",
              "      <th>21521</th>\n",
              "      <td>eBay</td>\n",
              "      <td>Saeco Exprelia Stainless Steel Espresso Machin...</td>\n",
              "      <td>1100.00</td>\n",
              "    </tr>\n",
              "    <tr>\n",
              "      <th>21524</th>\n",
              "      <td>eBay</td>\n",
              "      <td>Saeco Royal One Touch Espresso Machine, Double...</td>\n",
              "      <td>1499.00</td>\n",
              "    </tr>\n",
              "    <tr>\n",
              "      <th>21529</th>\n",
              "      <td>eBay</td>\n",
              "      <td>Philips Saeco 8753/11 Intelia One Touch Cappuc...</td>\n",
              "      <td>845.00</td>\n",
              "    </tr>\n",
              "    <tr>\n",
              "      <th>21830</th>\n",
              "      <td>eBay</td>\n",
              "      <td>Dean Dave Mustaine V VMNT Rust In Peace Electr...</td>\n",
              "      <td>794.95</td>\n",
              "    </tr>\n",
              "    <tr>\n",
              "      <th>21832</th>\n",
              "      <td>eBay</td>\n",
              "      <td>Dean MAB Rocket Metallic Silver Michael Angelo...</td>\n",
              "      <td>749.00</td>\n",
              "    </tr>\n",
              "    <tr>\n",
              "      <th>21835</th>\n",
              "      <td>eBay</td>\n",
              "      <td>DEAN Michael Schenker Custom Flames V GUITAR w...</td>\n",
              "      <td>749.00</td>\n",
              "    </tr>\n",
              "  </tbody>\n",
              "</table>\n",
              "</div>"
            ],
            "text/plain": [
              "      source                                      product_title  product_price\n",
              "6       eBay          BRAND NEW Sony PlayStation 4 BUNDLE 500gb         910.00\n",
              "501     eBay  Lenovo Y50 Touch 15.6 1080p i7-4700HQ 2gb 860M...         750.50\n",
              "504     eBay  Lenovo Thinkpad T450S 8GB Memory-256SSD HD, i5...         880.00\n",
              "507     eBay  Lenovo Y50 Touch Gaming Laptop i7-4700HQ 2.4/3...         789.95\n",
              "1240    eBay  Nikon D D750 24.3 MP Digital SLR Camera - Blac...        1500.00\n",
              "1420    eBay  2012 Felt Z5 51cm Carbon Road Bike - Shimano 1...        1495.00\n",
              "1427    eBay  2014  Specialized Venge Pro 56cm Carbon Fiber ...        3395.00\n",
              "1429    eBay  Specialized Transition Comp Tri Bike 54cm Road...         953.90\n",
              "1664    eBay  DEAN MAB Rocket electric GUITAR new w/ CASE - ...         749.00\n",
              "1873    eBay  Lego Star Wars Ultimate Collector's Millennium...        2400.00\n",
              "20779   eBay           Orbit Baby Double Travel Syatem Stroller         700.00\n",
              "21483   eBay  Nikon D3s 12.1 MP Digital SLR Camera - Black (...        2500.00\n",
              "21521   eBay  Saeco Exprelia Stainless Steel Espresso Machin...        1100.00\n",
              "21524   eBay  Saeco Royal One Touch Espresso Machine, Double...        1499.00\n",
              "21529   eBay  Philips Saeco 8753/11 Intelia One Touch Cappuc...         845.00\n",
              "21830   eBay  Dean Dave Mustaine V VMNT Rust In Peace Electr...         794.95\n",
              "21832   eBay  Dean MAB Rocket Metallic Silver Michael Angelo...         749.00\n",
              "21835   eBay  DEAN Michael Schenker Custom Flames V GUITAR w...         749.00"
            ]
          },
          "metadata": {
            "tags": []
          },
          "execution_count": 258
        }
      ]
    },
    {
      "cell_type": "markdown",
      "metadata": {
        "id": "ky_EgbrzXlB7"
      },
      "source": [
        "¿Cuantos productos (**product_title**) tienen la plabra \"***Sony PlayStation 4***\" en su titulo?"
      ]
    },
    {
      "cell_type": "code",
      "metadata": {
        "id": "PNRxqNLPot7z"
      },
      "source": [
        "# ESCRIBA SU CODIGO AQUI PARA NO BORRAR EL RESULTADO ESPERADO\n"
      ],
      "execution_count": null,
      "outputs": []
    },
    {
      "cell_type": "code",
      "metadata": {
        "id": "5-5uXrtgXlB9",
        "colab": {
          "base_uri": "https://localhost:8080/"
        },
        "outputId": "5f15a8f9-e5c4-47f5-cc3f-fd6dec988238"
      },
      "source": [
        "# NO USAR ESTA CELDA\n"
      ],
      "execution_count": null,
      "outputs": [
        {
          "output_type": "execute_result",
          "data": {
            "text/plain": [
              "68"
            ]
          },
          "metadata": {
            "tags": []
          },
          "execution_count": 264
        }
      ]
    },
    {
      "cell_type": "markdown",
      "metadata": {
        "id": "yYMYvj91XlCN"
      },
      "source": [
        "¿Cuáles son los 4 sitios web más comunes de acuerdo a su url (**url**)? (e.g: www.shop.com  ,  www.ebay.com , etc...)"
      ]
    },
    {
      "cell_type": "code",
      "metadata": {
        "id": "S3-H8P03XlCN"
      },
      "source": [
        "# ESCRIBA SU CODIGO AQUI PARA NO BORRAR EL RESULTADO ESPERADO\n"
      ],
      "execution_count": null,
      "outputs": []
    },
    {
      "cell_type": "code",
      "metadata": {
        "id": "LyJnEUn3XlCO",
        "colab": {
          "base_uri": "https://localhost:8080/"
        },
        "outputId": "a671c026-f453-4442-ae5e-63b6aec07954"
      },
      "source": [
        "# NO USAR ESTA CELDA\n"
      ],
      "execution_count": null,
      "outputs": [
        {
          "output_type": "execute_result",
          "data": {
            "text/plain": [
              "www.shop.com         13015\n",
              "www.overstock.com     7536\n",
              "www.walmart.com       4824\n",
              "www.ebay.com          4179\n",
              "Name: 2, dtype: int64"
            ]
          },
          "metadata": {
            "tags": []
          },
          "execution_count": 274
        }
      ]
    },
    {
      "cell_type": "markdown",
      "metadata": {
        "id": "JGkbKkonXlCQ"
      },
      "source": [
        "¿Cree dos nuevos dataframes del dataframe df_ecommerce ('**product_price**', '**source**') y realice la concatenación en un nuevo dataframe"
      ]
    },
    {
      "cell_type": "code",
      "metadata": {
        "id": "-NRLAnePXlCQ"
      },
      "source": [
        "# ESCRIBA SU CODIGO AQUI PARA NO BORRAR EL RESULTADO ESPERADO\n"
      ],
      "execution_count": null,
      "outputs": []
    },
    {
      "cell_type": "code",
      "metadata": {
        "id": "hRwDPcaYXlCR",
        "colab": {
          "base_uri": "https://localhost:8080/",
          "height": 419
        },
        "outputId": "b4882d68-dfaf-4feb-b70b-23d62a8a7561"
      },
      "source": [
        "# NO USAR ESTA CELDA\n"
      ],
      "execution_count": null,
      "outputs": [
        {
          "output_type": "execute_result",
          "data": {
            "text/html": [
              "<div>\n",
              "<style scoped>\n",
              "    .dataframe tbody tr th:only-of-type {\n",
              "        vertical-align: middle;\n",
              "    }\n",
              "\n",
              "    .dataframe tbody tr th {\n",
              "        vertical-align: top;\n",
              "    }\n",
              "\n",
              "    .dataframe thead th {\n",
              "        text-align: right;\n",
              "    }\n",
              "</style>\n",
              "<table border=\"1\" class=\"dataframe\">\n",
              "  <thead>\n",
              "    <tr style=\"text-align: right;\">\n",
              "      <th></th>\n",
              "      <th>product_price</th>\n",
              "      <th>source</th>\n",
              "    </tr>\n",
              "  </thead>\n",
              "  <tbody>\n",
              "    <tr>\n",
              "      <th>0</th>\n",
              "      <td>329.98</td>\n",
              "      <td>eBay</td>\n",
              "    </tr>\n",
              "    <tr>\n",
              "      <th>1</th>\n",
              "      <td>324.84</td>\n",
              "      <td>eBay</td>\n",
              "    </tr>\n",
              "    <tr>\n",
              "      <th>2</th>\n",
              "      <td>324.83</td>\n",
              "      <td>eBay</td>\n",
              "    </tr>\n",
              "    <tr>\n",
              "      <th>3</th>\n",
              "      <td>350.00</td>\n",
              "      <td>eBay</td>\n",
              "    </tr>\n",
              "    <tr>\n",
              "      <th>4</th>\n",
              "      <td>308.00</td>\n",
              "      <td>eBay</td>\n",
              "    </tr>\n",
              "    <tr>\n",
              "      <th>...</th>\n",
              "      <td>...</td>\n",
              "      <td>...</td>\n",
              "    </tr>\n",
              "    <tr>\n",
              "      <th>32666</th>\n",
              "      <td>189.99</td>\n",
              "      <td>Shop.com</td>\n",
              "    </tr>\n",
              "    <tr>\n",
              "      <th>32667</th>\n",
              "      <td>175.00</td>\n",
              "      <td>Shop.com</td>\n",
              "    </tr>\n",
              "    <tr>\n",
              "      <th>32668</th>\n",
              "      <td>189.99</td>\n",
              "      <td>Shop.com</td>\n",
              "    </tr>\n",
              "    <tr>\n",
              "      <th>32669</th>\n",
              "      <td>169.00</td>\n",
              "      <td>Shop.com</td>\n",
              "    </tr>\n",
              "    <tr>\n",
              "      <th>32670</th>\n",
              "      <td>189.99</td>\n",
              "      <td>Shop.com</td>\n",
              "    </tr>\n",
              "  </tbody>\n",
              "</table>\n",
              "<p>32576 rows × 2 columns</p>\n",
              "</div>"
            ],
            "text/plain": [
              "       product_price    source\n",
              "0             329.98      eBay\n",
              "1             324.84      eBay\n",
              "2             324.83      eBay\n",
              "3             350.00      eBay\n",
              "4             308.00      eBay\n",
              "...              ...       ...\n",
              "32666         189.99  Shop.com\n",
              "32667         175.00  Shop.com\n",
              "32668         189.99  Shop.com\n",
              "32669         169.00  Shop.com\n",
              "32670         189.99  Shop.com\n",
              "\n",
              "[32576 rows x 2 columns]"
            ]
          },
          "metadata": {
            "tags": []
          },
          "execution_count": 276
        }
      ]
    },
    {
      "cell_type": "markdown",
      "metadata": {
        "id": "BUP9FaEpXlCS"
      },
      "source": [
        "Ordene el nuevo dataframe generado por la columna ('**product_price**') de manera descendiente "
      ]
    },
    {
      "cell_type": "code",
      "metadata": {
        "id": "voe3PgBRXlCS"
      },
      "source": [
        "# ESCRIBA SU CODIGO AQUI PARA NO BORRAR EL RESULTADO ESPERADO\n"
      ],
      "execution_count": null,
      "outputs": []
    },
    {
      "cell_type": "code",
      "metadata": {
        "scrolled": true,
        "id": "w-5cw6umXlCT",
        "colab": {
          "base_uri": "https://localhost:8080/",
          "height": 419
        },
        "outputId": "e8f3d375-a92b-46f5-f287-6fd08e31b47b"
      },
      "source": [
        "# NO USAR ESTA CELDA\n"
      ],
      "execution_count": null,
      "outputs": [
        {
          "output_type": "execute_result",
          "data": {
            "text/html": [
              "<div>\n",
              "<style scoped>\n",
              "    .dataframe tbody tr th:only-of-type {\n",
              "        vertical-align: middle;\n",
              "    }\n",
              "\n",
              "    .dataframe tbody tr th {\n",
              "        vertical-align: top;\n",
              "    }\n",
              "\n",
              "    .dataframe thead th {\n",
              "        text-align: right;\n",
              "    }\n",
              "</style>\n",
              "<table border=\"1\" class=\"dataframe\">\n",
              "  <thead>\n",
              "    <tr style=\"text-align: right;\">\n",
              "      <th></th>\n",
              "      <th>product_price</th>\n",
              "      <th>source</th>\n",
              "    </tr>\n",
              "  </thead>\n",
              "  <tbody>\n",
              "    <tr>\n",
              "      <th>7128</th>\n",
              "      <td>18900.00</td>\n",
              "      <td>Shop.com</td>\n",
              "    </tr>\n",
              "    <tr>\n",
              "      <th>7130</th>\n",
              "      <td>13100.00</td>\n",
              "      <td>Shop.com</td>\n",
              "    </tr>\n",
              "    <tr>\n",
              "      <th>25687</th>\n",
              "      <td>12717.49</td>\n",
              "      <td>Shop.com</td>\n",
              "    </tr>\n",
              "    <tr>\n",
              "      <th>25595</th>\n",
              "      <td>10924.99</td>\n",
              "      <td>Shop.com</td>\n",
              "    </tr>\n",
              "    <tr>\n",
              "      <th>4642</th>\n",
              "      <td>9616.49</td>\n",
              "      <td>Overstock</td>\n",
              "    </tr>\n",
              "    <tr>\n",
              "      <th>...</th>\n",
              "      <td>...</td>\n",
              "      <td>...</td>\n",
              "    </tr>\n",
              "    <tr>\n",
              "      <th>1533</th>\n",
              "      <td>0.05</td>\n",
              "      <td>eBay</td>\n",
              "    </tr>\n",
              "    <tr>\n",
              "      <th>1598</th>\n",
              "      <td>0.01</td>\n",
              "      <td>eBay</td>\n",
              "    </tr>\n",
              "    <tr>\n",
              "      <th>2177</th>\n",
              "      <td>0.01</td>\n",
              "      <td>eBay</td>\n",
              "    </tr>\n",
              "    <tr>\n",
              "      <th>21758</th>\n",
              "      <td>0.01</td>\n",
              "      <td>eBay</td>\n",
              "    </tr>\n",
              "    <tr>\n",
              "      <th>21766</th>\n",
              "      <td>0.01</td>\n",
              "      <td>eBay</td>\n",
              "    </tr>\n",
              "  </tbody>\n",
              "</table>\n",
              "<p>32576 rows × 2 columns</p>\n",
              "</div>"
            ],
            "text/plain": [
              "       product_price     source\n",
              "7128        18900.00   Shop.com\n",
              "7130        13100.00   Shop.com\n",
              "25687       12717.49   Shop.com\n",
              "25595       10924.99   Shop.com\n",
              "4642         9616.49  Overstock\n",
              "...              ...        ...\n",
              "1533            0.05       eBay\n",
              "1598            0.01       eBay\n",
              "2177            0.01       eBay\n",
              "21758           0.01       eBay\n",
              "21766           0.01       eBay\n",
              "\n",
              "[32576 rows x 2 columns]"
            ]
          },
          "metadata": {
            "tags": []
          },
          "execution_count": 279
        }
      ]
    },
    {
      "cell_type": "markdown",
      "metadata": {
        "id": "jbjAyjrZXlCV"
      },
      "source": [
        "Ordene el nuevo dataframe generado por la columna (**source**)"
      ]
    },
    {
      "cell_type": "code",
      "metadata": {
        "id": "o4BY3kOzXlCW"
      },
      "source": [
        "# ESCRIBA SU CODIGO AQUI PARA NO BORRAR EL RESULTADO ESPERADO\n"
      ],
      "execution_count": null,
      "outputs": []
    },
    {
      "cell_type": "code",
      "metadata": {
        "id": "u9vnA1yvXlCX",
        "colab": {
          "base_uri": "https://localhost:8080/",
          "height": 419
        },
        "outputId": "99aa0317-f565-4d86-952d-82a5c9922ace"
      },
      "source": [
        "# NO USAR ESTA CELDA\n"
      ],
      "execution_count": null,
      "outputs": [
        {
          "output_type": "execute_result",
          "data": {
            "text/html": [
              "<div>\n",
              "<style scoped>\n",
              "    .dataframe tbody tr th:only-of-type {\n",
              "        vertical-align: middle;\n",
              "    }\n",
              "\n",
              "    .dataframe tbody tr th {\n",
              "        vertical-align: top;\n",
              "    }\n",
              "\n",
              "    .dataframe thead th {\n",
              "        text-align: right;\n",
              "    }\n",
              "</style>\n",
              "<table border=\"1\" class=\"dataframe\">\n",
              "  <thead>\n",
              "    <tr style=\"text-align: right;\">\n",
              "      <th></th>\n",
              "      <th>product_price</th>\n",
              "      <th>source</th>\n",
              "    </tr>\n",
              "  </thead>\n",
              "  <tbody>\n",
              "    <tr>\n",
              "      <th>23622</th>\n",
              "      <td>99.99</td>\n",
              "      <td>Overstock</td>\n",
              "    </tr>\n",
              "    <tr>\n",
              "      <th>5031</th>\n",
              "      <td>49.99</td>\n",
              "      <td>Overstock</td>\n",
              "    </tr>\n",
              "    <tr>\n",
              "      <th>5030</th>\n",
              "      <td>31.99</td>\n",
              "      <td>Overstock</td>\n",
              "    </tr>\n",
              "    <tr>\n",
              "      <th>5029</th>\n",
              "      <td>283.99</td>\n",
              "      <td>Overstock</td>\n",
              "    </tr>\n",
              "    <tr>\n",
              "      <th>5028</th>\n",
              "      <td>299.99</td>\n",
              "      <td>Overstock</td>\n",
              "    </tr>\n",
              "    <tr>\n",
              "      <th>...</th>\n",
              "      <td>...</td>\n",
              "      <td>...</td>\n",
              "    </tr>\n",
              "    <tr>\n",
              "      <th>18169</th>\n",
              "      <td>28.66</td>\n",
              "      <td>walmart</td>\n",
              "    </tr>\n",
              "    <tr>\n",
              "      <th>18170</th>\n",
              "      <td>89.00</td>\n",
              "      <td>walmart</td>\n",
              "    </tr>\n",
              "    <tr>\n",
              "      <th>18171</th>\n",
              "      <td>39.92</td>\n",
              "      <td>walmart</td>\n",
              "    </tr>\n",
              "    <tr>\n",
              "      <th>18313</th>\n",
              "      <td>13.99</td>\n",
              "      <td>walmart</td>\n",
              "    </tr>\n",
              "    <tr>\n",
              "      <th>16321</th>\n",
              "      <td>3.47</td>\n",
              "      <td>walmart</td>\n",
              "    </tr>\n",
              "  </tbody>\n",
              "</table>\n",
              "<p>32576 rows × 2 columns</p>\n",
              "</div>"
            ],
            "text/plain": [
              "       product_price     source\n",
              "23622          99.99  Overstock\n",
              "5031           49.99  Overstock\n",
              "5030           31.99  Overstock\n",
              "5029          283.99  Overstock\n",
              "5028          299.99  Overstock\n",
              "...              ...        ...\n",
              "18169          28.66    walmart\n",
              "18170          89.00    walmart\n",
              "18171          39.92    walmart\n",
              "18313          13.99    walmart\n",
              "16321           3.47    walmart\n",
              "\n",
              "[32576 rows x 2 columns]"
            ]
          },
          "metadata": {
            "tags": []
          },
          "execution_count": 281
        }
      ]
    },
    {
      "cell_type": "markdown",
      "metadata": {
        "id": "4nkfE2bPXlCY"
      },
      "source": [
        "Realice la concatenación de '**relevance**' y '**product_price**' usando *.join*"
      ]
    },
    {
      "cell_type": "code",
      "metadata": {
        "id": "Z1BI_OiiXlCa"
      },
      "source": [
        "# ESCRIBA SU CODIGO AQUI PARA NO BORRAR EL RESULTADO ESPERADO\n"
      ],
      "execution_count": null,
      "outputs": []
    },
    {
      "cell_type": "code",
      "metadata": {
        "id": "PmwbNIzzXlCg",
        "colab": {
          "base_uri": "https://localhost:8080/",
          "height": 419
        },
        "outputId": "0973229d-2e13-4208-d2cd-5778f5ab3107"
      },
      "source": [
        "# NO USAR ESTA CELDA\n"
      ],
      "execution_count": null,
      "outputs": [
        {
          "output_type": "execute_result",
          "data": {
            "text/html": [
              "<div>\n",
              "<style scoped>\n",
              "    .dataframe tbody tr th:only-of-type {\n",
              "        vertical-align: middle;\n",
              "    }\n",
              "\n",
              "    .dataframe tbody tr th {\n",
              "        vertical-align: top;\n",
              "    }\n",
              "\n",
              "    .dataframe thead th {\n",
              "        text-align: right;\n",
              "    }\n",
              "</style>\n",
              "<table border=\"1\" class=\"dataframe\">\n",
              "  <thead>\n",
              "    <tr style=\"text-align: right;\">\n",
              "      <th></th>\n",
              "      <th>relevance</th>\n",
              "      <th>product_price</th>\n",
              "    </tr>\n",
              "  </thead>\n",
              "  <tbody>\n",
              "    <tr>\n",
              "      <th>0</th>\n",
              "      <td>3.67</td>\n",
              "      <td>329.98</td>\n",
              "    </tr>\n",
              "    <tr>\n",
              "      <th>1</th>\n",
              "      <td>4.00</td>\n",
              "      <td>324.84</td>\n",
              "    </tr>\n",
              "    <tr>\n",
              "      <th>2</th>\n",
              "      <td>4.00</td>\n",
              "      <td>324.83</td>\n",
              "    </tr>\n",
              "    <tr>\n",
              "      <th>3</th>\n",
              "      <td>3.67</td>\n",
              "      <td>350.00</td>\n",
              "    </tr>\n",
              "    <tr>\n",
              "      <th>4</th>\n",
              "      <td>3.33</td>\n",
              "      <td>308.00</td>\n",
              "    </tr>\n",
              "    <tr>\n",
              "      <th>...</th>\n",
              "      <td>...</td>\n",
              "      <td>...</td>\n",
              "    </tr>\n",
              "    <tr>\n",
              "      <th>32666</th>\n",
              "      <td>NaN</td>\n",
              "      <td>189.99</td>\n",
              "    </tr>\n",
              "    <tr>\n",
              "      <th>32667</th>\n",
              "      <td>NaN</td>\n",
              "      <td>175.00</td>\n",
              "    </tr>\n",
              "    <tr>\n",
              "      <th>32668</th>\n",
              "      <td>NaN</td>\n",
              "      <td>189.99</td>\n",
              "    </tr>\n",
              "    <tr>\n",
              "      <th>32669</th>\n",
              "      <td>NaN</td>\n",
              "      <td>169.00</td>\n",
              "    </tr>\n",
              "    <tr>\n",
              "      <th>32670</th>\n",
              "      <td>NaN</td>\n",
              "      <td>189.99</td>\n",
              "    </tr>\n",
              "  </tbody>\n",
              "</table>\n",
              "<p>32576 rows × 2 columns</p>\n",
              "</div>"
            ],
            "text/plain": [
              "       relevance  product_price\n",
              "0           3.67         329.98\n",
              "1           4.00         324.84\n",
              "2           4.00         324.83\n",
              "3           3.67         350.00\n",
              "4           3.33         308.00\n",
              "...          ...            ...\n",
              "32666        NaN         189.99\n",
              "32667        NaN         175.00\n",
              "32668        NaN         189.99\n",
              "32669        NaN         169.00\n",
              "32670        NaN         189.99\n",
              "\n",
              "[32576 rows x 2 columns]"
            ]
          },
          "metadata": {
            "tags": []
          },
          "execution_count": 285
        }
      ]
    },
    {
      "cell_type": "markdown",
      "metadata": {
        "id": "YMm43bGw30Ni"
      },
      "source": [
        "Cree un nuevo dataframe con la agrupacion de los datos por la columna **source**"
      ]
    },
    {
      "cell_type": "code",
      "metadata": {
        "id": "7XymJQeE2eRK"
      },
      "source": [
        "# ESCRIBA SU CODIGO AQUI PARA NO BORRAR EL RESULTADO ESPERADO\n"
      ],
      "execution_count": null,
      "outputs": []
    },
    {
      "cell_type": "code",
      "metadata": {
        "colab": {
          "base_uri": "https://localhost:8080/"
        },
        "id": "5dsHoX4g3-rl",
        "outputId": "db04b95f-ce44-4ab9-a406-07d4a563f3e2"
      },
      "source": [
        "# NO USAR ESTA CELDA (Validamos el tipo de objecto)\n"
      ],
      "execution_count": null,
      "outputs": [
        {
          "output_type": "execute_result",
          "data": {
            "text/plain": [
              "<pandas.core.groupby.generic.DataFrameGroupBy object at 0x7f006fb506d0>"
            ]
          },
          "metadata": {
            "tags": []
          },
          "execution_count": 298
        }
      ]
    },
    {
      "cell_type": "markdown",
      "metadata": {
        "id": "Xu1-AYxO4WGn"
      },
      "source": [
        "Calcule la **media**  de los precios de los productos (**product_price**) por tienda (**source**)"
      ]
    },
    {
      "cell_type": "code",
      "metadata": {
        "id": "Lap2qrA64tBR"
      },
      "source": [
        "# ESCRIBA SU CODIGO AQUI PARA NO BORRAR EL RESULTADO ESPERADO\n"
      ],
      "execution_count": null,
      "outputs": []
    },
    {
      "cell_type": "code",
      "metadata": {
        "colab": {
          "base_uri": "https://localhost:8080/"
        },
        "id": "nPOaCz6v4_gD",
        "outputId": "9d4e1e91-0a63-4e0a-e604-a83be4ea1174"
      },
      "source": [
        "# NO USAR ESTA CELDA\n"
      ],
      "execution_count": null,
      "outputs": [
        {
          "output_type": "execute_result",
          "data": {
            "text/plain": [
              "source\n",
              "Overstock    109.601561\n",
              "Shop.com     134.567945\n",
              "Target        58.206446\n",
              "eBay          66.068770\n",
              "walmart       54.295305\n",
              "Name: product_price, dtype: float64"
            ]
          },
          "metadata": {
            "tags": []
          },
          "execution_count": 301
        }
      ]
    },
    {
      "cell_type": "markdown",
      "metadata": {
        "id": "v7jsPiR25EP0"
      },
      "source": [
        "Calcule la **desviacion estandar**  de las columnas que sea posible de acuerdo a la agrupacion de tienda (**source**) "
      ]
    },
    {
      "cell_type": "code",
      "metadata": {
        "id": "_4E-9MW92tMG"
      },
      "source": [
        "# ESCRIBA SU CODIGO AQUI PARA NO BORRAR EL RESULTADO ESPERADO\n"
      ],
      "execution_count": null,
      "outputs": []
    },
    {
      "cell_type": "code",
      "metadata": {
        "colab": {
          "base_uri": "https://localhost:8080/",
          "height": 235
        },
        "id": "rt3dm89B5i4K",
        "outputId": "404dc129-0474-4e93-9f79-13103508dbcf"
      },
      "source": [
        "# NO USAR ESTA CELDA\n"
      ],
      "execution_count": null,
      "outputs": [
        {
          "output_type": "execute_result",
          "data": {
            "text/html": [
              "<div>\n",
              "<style scoped>\n",
              "    .dataframe tbody tr th:only-of-type {\n",
              "        vertical-align: middle;\n",
              "    }\n",
              "\n",
              "    .dataframe tbody tr th {\n",
              "        vertical-align: top;\n",
              "    }\n",
              "\n",
              "    .dataframe thead th {\n",
              "        text-align: right;\n",
              "    }\n",
              "</style>\n",
              "<table border=\"1\" class=\"dataframe\">\n",
              "  <thead>\n",
              "    <tr style=\"text-align: right;\">\n",
              "      <th></th>\n",
              "      <th>_unit_id</th>\n",
              "      <th>relevance</th>\n",
              "      <th>relevance:variance</th>\n",
              "      <th>product_price</th>\n",
              "    </tr>\n",
              "    <tr>\n",
              "      <th>source</th>\n",
              "      <th></th>\n",
              "      <th></th>\n",
              "      <th></th>\n",
              "      <th></th>\n",
              "    </tr>\n",
              "  </thead>\n",
              "  <tbody>\n",
              "    <tr>\n",
              "      <th>Overstock</th>\n",
              "      <td>9.989559e+05</td>\n",
              "      <td>0.871501</td>\n",
              "      <td>382.240637</td>\n",
              "      <td>322.550280</td>\n",
              "    </tr>\n",
              "    <tr>\n",
              "      <th>Shop.com</th>\n",
              "      <td>1.008612e+06</td>\n",
              "      <td>0.815212</td>\n",
              "      <td>393.410736</td>\n",
              "      <td>337.233789</td>\n",
              "    </tr>\n",
              "    <tr>\n",
              "      <th>Target</th>\n",
              "      <td>8.746861e+02</td>\n",
              "      <td>0.957533</td>\n",
              "      <td>380.439236</td>\n",
              "      <td>114.610054</td>\n",
              "    </tr>\n",
              "    <tr>\n",
              "      <th>eBay</th>\n",
              "      <td>1.004940e+06</td>\n",
              "      <td>0.550937</td>\n",
              "      <td>356.011023</td>\n",
              "      <td>132.280012</td>\n",
              "    </tr>\n",
              "    <tr>\n",
              "      <th>walmart</th>\n",
              "      <td>1.402544e+03</td>\n",
              "      <td>0.918197</td>\n",
              "      <td>371.279199</td>\n",
              "      <td>103.731263</td>\n",
              "    </tr>\n",
              "  </tbody>\n",
              "</table>\n",
              "</div>"
            ],
            "text/plain": [
              "               _unit_id  relevance  relevance:variance  product_price\n",
              "source                                                               \n",
              "Overstock  9.989559e+05   0.871501          382.240637     322.550280\n",
              "Shop.com   1.008612e+06   0.815212          393.410736     337.233789\n",
              "Target     8.746861e+02   0.957533          380.439236     114.610054\n",
              "eBay       1.004940e+06   0.550937          356.011023     132.280012\n",
              "walmart    1.402544e+03   0.918197          371.279199     103.731263"
            ]
          },
          "metadata": {
            "tags": []
          },
          "execution_count": 303
        }
      ]
    },
    {
      "cell_type": "markdown",
      "metadata": {
        "id": "U3bBsVAE5piD"
      },
      "source": [
        "Calcule el valor minimo de cada columna del dataframe agrupado por tienda (**source**)"
      ]
    },
    {
      "cell_type": "code",
      "metadata": {
        "id": "N5gULgCB25p-"
      },
      "source": [
        "# ESCRIBA SU CODIGO AQUI PARA NO BORRAR EL RESULTADO ESPERADO\n"
      ],
      "execution_count": null,
      "outputs": []
    },
    {
      "cell_type": "code",
      "metadata": {
        "colab": {
          "base_uri": "https://localhost:8080/",
          "height": 476
        },
        "id": "Jc1pS_QF58U9",
        "outputId": "aedcfbd6-a3ec-4f96-d7eb-a815158117c5"
      },
      "source": [
        "# NO USAR ESTA CELDA\n"
      ],
      "execution_count": null,
      "outputs": [
        {
          "output_type": "execute_result",
          "data": {
            "text/html": [
              "<div>\n",
              "<style scoped>\n",
              "    .dataframe tbody tr th:only-of-type {\n",
              "        vertical-align: middle;\n",
              "    }\n",
              "\n",
              "    .dataframe tbody tr th {\n",
              "        vertical-align: top;\n",
              "    }\n",
              "\n",
              "    .dataframe thead th {\n",
              "        text-align: right;\n",
              "    }\n",
              "</style>\n",
              "<table border=\"1\" class=\"dataframe\">\n",
              "  <thead>\n",
              "    <tr style=\"text-align: right;\">\n",
              "      <th></th>\n",
              "      <th>_unit_id</th>\n",
              "      <th>relevance</th>\n",
              "      <th>relevance:variance</th>\n",
              "      <th>product_image</th>\n",
              "      <th>product_link</th>\n",
              "      <th>product_price</th>\n",
              "      <th>product_title</th>\n",
              "      <th>query</th>\n",
              "      <th>rank</th>\n",
              "      <th>url</th>\n",
              "    </tr>\n",
              "    <tr>\n",
              "      <th>source</th>\n",
              "      <th></th>\n",
              "      <th></th>\n",
              "      <th></th>\n",
              "      <th></th>\n",
              "      <th></th>\n",
              "      <th></th>\n",
              "      <th></th>\n",
              "      <th></th>\n",
              "      <th></th>\n",
              "      <th></th>\n",
              "    </tr>\n",
              "  </thead>\n",
              "  <tbody>\n",
              "    <tr>\n",
              "      <th>Overstock</th>\n",
              "      <td>711160815</td>\n",
              "      <td>1.0</td>\n",
              "      <td>0.0</td>\n",
              "      <td>http://ak1.ostkcdn.com/images/products//bmmg/b...</td>\n",
              "      <td>,http://www.overstock.com/Electronics/Case-Log...</td>\n",
              "      <td>1.49</td>\n",
              "      <td>'Alexandria Whitewash Extra Large 41 x 29-inch...</td>\n",
              "      <td>16 gb memory card</td>\n",
              "      <td>1</td>\n",
              "      <td>,http://www.overstock.com/search?keywords=macb...</td>\n",
              "    </tr>\n",
              "    <tr>\n",
              "      <th>Shop.com</th>\n",
              "      <td>711165202</td>\n",
              "      <td>1.0</td>\n",
              "      <td>0.0</td>\n",
              "      <td>http://edge.shop.com/ccimg.shop.com/210000/213...</td>\n",
              "      <td>http://www.shop.com/0+5+Cu+Ft+Convection+Toast...</td>\n",
              "      <td>0.27</td>\n",
              "      <td>'47 Brand Men's Green Bay Packers Logo Scrum T...</td>\n",
              "      <td>16 gb memory card</td>\n",
              "      <td>1</td>\n",
              "      <td>http://www.shop.com/search/16 gb memory card?k...</td>\n",
              "    </tr>\n",
              "    <tr>\n",
              "      <th>Target</th>\n",
              "      <td>711171190</td>\n",
              "      <td>1.0</td>\n",
              "      <td>0.0</td>\n",
              "      <td>http://scene7.targetimg1.com/is/image/Target/1...</td>\n",
              "      <td>http://www.target.com/p/0-04-ct-t-w-diamond-an...</td>\n",
              "      <td>0.39</td>\n",
              "      <td>&amp; Accent Pillow - Beige</td>\n",
              "      <td>16 gb memory card</td>\n",
              "      <td>1</td>\n",
              "      <td>http://www.target.com/s?searchTerm=16%20gb%20m...</td>\n",
              "    </tr>\n",
              "    <tr>\n",
              "      <th>eBay</th>\n",
              "      <td>711158459</td>\n",
              "      <td>1.0</td>\n",
              "      <td>0.0</td>\n",
              "      <td>http://ir.ebaystatic.com/pictures/aw/pics/s_1x...</td>\n",
              "      <td>http://www.ebay.com/itm/1-5L-Ultrasonic-Home-A...</td>\n",
              "      <td>0.01</td>\n",
              "      <td>! Power Cooker Digital Pressure Cooker 6 Quart</td>\n",
              "      <td>16 gb memory card</td>\n",
              "      <td>1</td>\n",
              "      <td>http://www.ebay.com/sch/i.html?_from=R40&amp;_trks...</td>\n",
              "    </tr>\n",
              "    <tr>\n",
              "      <th>walmart</th>\n",
              "      <td>711174219</td>\n",
              "      <td>1.0</td>\n",
              "      <td>0.0</td>\n",
              "      <td>http://i.walmartimages.com/i/mp/00/00/00/00/10...</td>\n",
              "      <td>http://www.walmart.com/ip/.30-06-Bow-Release-S...</td>\n",
              "      <td>0.79</td>\n",
              "      <td>(2) COLEMAN Aluminum Camping Mess Kit Cookware...</td>\n",
              "      <td>16 gb memory card</td>\n",
              "      <td>1</td>\n",
              "      <td>http://www.walmart.com/search/?query=16%20gb%2...</td>\n",
              "    </tr>\n",
              "  </tbody>\n",
              "</table>\n",
              "</div>"
            ],
            "text/plain": [
              "            _unit_id  ...                                                url\n",
              "source                ...                                                   \n",
              "Overstock  711160815  ...  ,http://www.overstock.com/search?keywords=macb...\n",
              "Shop.com   711165202  ...  http://www.shop.com/search/16 gb memory card?k...\n",
              "Target     711171190  ...  http://www.target.com/s?searchTerm=16%20gb%20m...\n",
              "eBay       711158459  ...  http://www.ebay.com/sch/i.html?_from=R40&_trks...\n",
              "walmart    711174219  ...  http://www.walmart.com/search/?query=16%20gb%2...\n",
              "\n",
              "[5 rows x 10 columns]"
            ]
          },
          "metadata": {
            "tags": []
          },
          "execution_count": 304
        }
      ]
    },
    {
      "cell_type": "markdown",
      "metadata": {
        "id": "2dCg8zZy6Hnv"
      },
      "source": [
        "Contar los elementos del dataframe agrupados por tienda (**Source**)"
      ]
    },
    {
      "cell_type": "code",
      "metadata": {
        "id": "exLpUgf-3CK1"
      },
      "source": [
        "# ESCRIBA SU CODIGO AQUI PARA NO BORRAR EL RESULTADO ESPERADO\n"
      ],
      "execution_count": null,
      "outputs": []
    },
    {
      "cell_type": "code",
      "metadata": {
        "colab": {
          "base_uri": "https://localhost:8080/",
          "height": 255
        },
        "id": "7gb3i-FI6R25",
        "outputId": "856ce7aa-8e2b-47e5-f505-3c82a3ce35c7"
      },
      "source": [
        "# NO USAR ESTA CELDA\n"
      ],
      "execution_count": null,
      "outputs": [
        {
          "output_type": "execute_result",
          "data": {
            "text/html": [
              "<div>\n",
              "<style scoped>\n",
              "    .dataframe tbody tr th:only-of-type {\n",
              "        vertical-align: middle;\n",
              "    }\n",
              "\n",
              "    .dataframe tbody tr th {\n",
              "        vertical-align: top;\n",
              "    }\n",
              "\n",
              "    .dataframe thead th {\n",
              "        text-align: right;\n",
              "    }\n",
              "</style>\n",
              "<table border=\"1\" class=\"dataframe\">\n",
              "  <thead>\n",
              "    <tr style=\"text-align: right;\">\n",
              "      <th></th>\n",
              "      <th>_unit_id</th>\n",
              "      <th>relevance</th>\n",
              "      <th>relevance:variance</th>\n",
              "      <th>product_image</th>\n",
              "      <th>product_link</th>\n",
              "      <th>product_price</th>\n",
              "      <th>product_title</th>\n",
              "      <th>query</th>\n",
              "      <th>rank</th>\n",
              "      <th>url</th>\n",
              "    </tr>\n",
              "    <tr>\n",
              "      <th>source</th>\n",
              "      <th></th>\n",
              "      <th></th>\n",
              "      <th></th>\n",
              "      <th></th>\n",
              "      <th></th>\n",
              "      <th></th>\n",
              "      <th></th>\n",
              "      <th></th>\n",
              "      <th></th>\n",
              "      <th></th>\n",
              "    </tr>\n",
              "  </thead>\n",
              "  <tbody>\n",
              "    <tr>\n",
              "      <th>Overstock</th>\n",
              "      <td>7536</td>\n",
              "      <td>4383</td>\n",
              "      <td>4383</td>\n",
              "      <td>7536</td>\n",
              "      <td>7536</td>\n",
              "      <td>7536</td>\n",
              "      <td>7536</td>\n",
              "      <td>7536</td>\n",
              "      <td>7536</td>\n",
              "      <td>7536</td>\n",
              "    </tr>\n",
              "    <tr>\n",
              "      <th>Shop.com</th>\n",
              "      <td>13015</td>\n",
              "      <td>5939</td>\n",
              "      <td>5939</td>\n",
              "      <td>13015</td>\n",
              "      <td>13015</td>\n",
              "      <td>13015</td>\n",
              "      <td>13015</td>\n",
              "      <td>13015</td>\n",
              "      <td>13015</td>\n",
              "      <td>13015</td>\n",
              "    </tr>\n",
              "    <tr>\n",
              "      <th>Target</th>\n",
              "      <td>3022</td>\n",
              "      <td>3022</td>\n",
              "      <td>3022</td>\n",
              "      <td>3022</td>\n",
              "      <td>3022</td>\n",
              "      <td>3022</td>\n",
              "      <td>3022</td>\n",
              "      <td>3022</td>\n",
              "      <td>3022</td>\n",
              "      <td>3022</td>\n",
              "    </tr>\n",
              "    <tr>\n",
              "      <th>eBay</th>\n",
              "      <td>4179</td>\n",
              "      <td>2353</td>\n",
              "      <td>2353</td>\n",
              "      <td>4179</td>\n",
              "      <td>4179</td>\n",
              "      <td>4179</td>\n",
              "      <td>4179</td>\n",
              "      <td>4179</td>\n",
              "      <td>4179</td>\n",
              "      <td>4179</td>\n",
              "    </tr>\n",
              "    <tr>\n",
              "      <th>walmart</th>\n",
              "      <td>4824</td>\n",
              "      <td>4824</td>\n",
              "      <td>4824</td>\n",
              "      <td>4824</td>\n",
              "      <td>4824</td>\n",
              "      <td>4824</td>\n",
              "      <td>4824</td>\n",
              "      <td>4824</td>\n",
              "      <td>4824</td>\n",
              "      <td>4824</td>\n",
              "    </tr>\n",
              "  </tbody>\n",
              "</table>\n",
              "</div>"
            ],
            "text/plain": [
              "           _unit_id  relevance  relevance:variance  ...  query   rank    url\n",
              "source                                              ...                     \n",
              "Overstock      7536       4383                4383  ...   7536   7536   7536\n",
              "Shop.com      13015       5939                5939  ...  13015  13015  13015\n",
              "Target         3022       3022                3022  ...   3022   3022   3022\n",
              "eBay           4179       2353                2353  ...   4179   4179   4179\n",
              "walmart        4824       4824                4824  ...   4824   4824   4824\n",
              "\n",
              "[5 rows x 10 columns]"
            ]
          },
          "metadata": {
            "tags": []
          },
          "execution_count": 306
        }
      ]
    },
    {
      "cell_type": "markdown",
      "metadata": {
        "id": "wJTfzE8f6gCQ"
      },
      "source": [
        "Describir los datos de acuerdo a cada variable de los datos agrupados por tienda (**source**)"
      ]
    },
    {
      "cell_type": "code",
      "metadata": {
        "id": "-ckVJ48p3LDA"
      },
      "source": [
        "# ESCRIBA SU CODIGO AQUI PARA NO BORRAR EL RESULTADO ESPERADO\n"
      ],
      "execution_count": null,
      "outputs": []
    },
    {
      "cell_type": "code",
      "metadata": {
        "colab": {
          "base_uri": "https://localhost:8080/",
          "height": 1000
        },
        "id": "z8KegVXb3ocG",
        "outputId": "2bdb869f-95d5-48d4-f778-5bf90b3823b8"
      },
      "source": [
        "# NO USAR ESTA CELDA\n"
      ],
      "execution_count": null,
      "outputs": [
        {
          "output_type": "execute_result",
          "data": {
            "text/html": [
              "<div>\n",
              "<style scoped>\n",
              "    .dataframe tbody tr th:only-of-type {\n",
              "        vertical-align: middle;\n",
              "    }\n",
              "\n",
              "    .dataframe tbody tr th {\n",
              "        vertical-align: top;\n",
              "    }\n",
              "\n",
              "    .dataframe thead th {\n",
              "        text-align: right;\n",
              "    }\n",
              "</style>\n",
              "<table border=\"1\" class=\"dataframe\">\n",
              "  <thead>\n",
              "    <tr style=\"text-align: right;\">\n",
              "      <th></th>\n",
              "      <th>source</th>\n",
              "      <th>Overstock</th>\n",
              "      <th>Shop.com</th>\n",
              "      <th>Target</th>\n",
              "      <th>eBay</th>\n",
              "      <th>walmart</th>\n",
              "    </tr>\n",
              "  </thead>\n",
              "  <tbody>\n",
              "    <tr>\n",
              "      <th rowspan=\"8\" valign=\"top\">_unit_id</th>\n",
              "      <th>count</th>\n",
              "      <td>7.536000e+03</td>\n",
              "      <td>1.301500e+04</td>\n",
              "      <td>3.022000e+03</td>\n",
              "      <td>4.179000e+03</td>\n",
              "      <td>4.824000e+03</td>\n",
              "    </tr>\n",
              "    <tr>\n",
              "      <th>mean</th>\n",
              "      <td>7.120102e+08</td>\n",
              "      <td>7.122691e+08</td>\n",
              "      <td>7.111727e+08</td>\n",
              "      <td>7.120448e+08</td>\n",
              "      <td>7.111766e+08</td>\n",
              "    </tr>\n",
              "    <tr>\n",
              "      <th>std</th>\n",
              "      <td>9.989559e+05</td>\n",
              "      <td>1.008612e+06</td>\n",
              "      <td>8.746861e+02</td>\n",
              "      <td>1.004940e+06</td>\n",
              "      <td>1.402544e+03</td>\n",
              "    </tr>\n",
              "    <tr>\n",
              "      <th>min</th>\n",
              "      <td>7.111608e+08</td>\n",
              "      <td>7.111652e+08</td>\n",
              "      <td>7.111712e+08</td>\n",
              "      <td>7.111585e+08</td>\n",
              "      <td>7.111742e+08</td>\n",
              "    </tr>\n",
              "    <tr>\n",
              "      <th>25%</th>\n",
              "      <td>7.111627e+08</td>\n",
              "      <td>7.111685e+08</td>\n",
              "      <td>7.111719e+08</td>\n",
              "      <td>7.111595e+08</td>\n",
              "      <td>7.111754e+08</td>\n",
              "    </tr>\n",
              "    <tr>\n",
              "      <th>50%</th>\n",
              "      <td>7.111646e+08</td>\n",
              "      <td>7.131901e+08</td>\n",
              "      <td>7.111727e+08</td>\n",
              "      <td>7.111606e+08</td>\n",
              "      <td>7.111766e+08</td>\n",
              "    </tr>\n",
              "    <tr>\n",
              "      <th>75%</th>\n",
              "      <td>7.131876e+08</td>\n",
              "      <td>7.131934e+08</td>\n",
              "      <td>7.111735e+08</td>\n",
              "      <td>7.131853e+08</td>\n",
              "      <td>7.111779e+08</td>\n",
              "    </tr>\n",
              "    <tr>\n",
              "      <th>max</th>\n",
              "      <td>7.131895e+08</td>\n",
              "      <td>7.131966e+08</td>\n",
              "      <td>7.111742e+08</td>\n",
              "      <td>7.131864e+08</td>\n",
              "      <td>7.111791e+08</td>\n",
              "    </tr>\n",
              "    <tr>\n",
              "      <th rowspan=\"8\" valign=\"top\">relevance</th>\n",
              "      <th>count</th>\n",
              "      <td>4.383000e+03</td>\n",
              "      <td>5.939000e+03</td>\n",
              "      <td>3.022000e+03</td>\n",
              "      <td>2.353000e+03</td>\n",
              "      <td>4.824000e+03</td>\n",
              "    </tr>\n",
              "    <tr>\n",
              "      <th>mean</th>\n",
              "      <td>3.232523e+00</td>\n",
              "      <td>3.321620e+00</td>\n",
              "      <td>3.050695e+00</td>\n",
              "      <td>3.612592e+00</td>\n",
              "      <td>3.149075e+00</td>\n",
              "    </tr>\n",
              "    <tr>\n",
              "      <th>std</th>\n",
              "      <td>8.715009e-01</td>\n",
              "      <td>8.152119e-01</td>\n",
              "      <td>9.575330e-01</td>\n",
              "      <td>5.509369e-01</td>\n",
              "      <td>9.181968e-01</td>\n",
              "    </tr>\n",
              "    <tr>\n",
              "      <th>min</th>\n",
              "      <td>1.000000e+00</td>\n",
              "      <td>1.000000e+00</td>\n",
              "      <td>1.000000e+00</td>\n",
              "      <td>1.000000e+00</td>\n",
              "      <td>1.000000e+00</td>\n",
              "    </tr>\n",
              "    <tr>\n",
              "      <th>25%</th>\n",
              "      <td>2.670000e+00</td>\n",
              "      <td>2.800000e+00</td>\n",
              "      <td>2.330000e+00</td>\n",
              "      <td>3.330000e+00</td>\n",
              "      <td>2.600000e+00</td>\n",
              "    </tr>\n",
              "    <tr>\n",
              "      <th>50%</th>\n",
              "      <td>3.670000e+00</td>\n",
              "      <td>3.670000e+00</td>\n",
              "      <td>3.330000e+00</td>\n",
              "      <td>4.000000e+00</td>\n",
              "      <td>3.500000e+00</td>\n",
              "    </tr>\n",
              "    <tr>\n",
              "      <th>75%</th>\n",
              "      <td>4.000000e+00</td>\n",
              "      <td>4.000000e+00</td>\n",
              "      <td>4.000000e+00</td>\n",
              "      <td>4.000000e+00</td>\n",
              "      <td>4.000000e+00</td>\n",
              "    </tr>\n",
              "    <tr>\n",
              "      <th>max</th>\n",
              "      <td>4.000000e+00</td>\n",
              "      <td>4.000000e+00</td>\n",
              "      <td>4.000000e+00</td>\n",
              "      <td>4.000000e+00</td>\n",
              "      <td>4.000000e+00</td>\n",
              "    </tr>\n",
              "    <tr>\n",
              "      <th rowspan=\"8\" valign=\"top\">relevance:variance</th>\n",
              "      <th>count</th>\n",
              "      <td>4.383000e+03</td>\n",
              "      <td>5.939000e+03</td>\n",
              "      <td>3.022000e+03</td>\n",
              "      <td>2.353000e+03</td>\n",
              "      <td>4.824000e+03</td>\n",
              "    </tr>\n",
              "    <tr>\n",
              "      <th>mean</th>\n",
              "      <td>3.294664e+02</td>\n",
              "      <td>3.401653e+02</td>\n",
              "      <td>3.504594e+02</td>\n",
              "      <td>2.738380e+02</td>\n",
              "      <td>3.338264e+02</td>\n",
              "    </tr>\n",
              "    <tr>\n",
              "      <th>std</th>\n",
              "      <td>3.822406e+02</td>\n",
              "      <td>3.934107e+02</td>\n",
              "      <td>3.804392e+02</td>\n",
              "      <td>3.560110e+02</td>\n",
              "      <td>3.712792e+02</td>\n",
              "    </tr>\n",
              "    <tr>\n",
              "      <th>min</th>\n",
              "      <td>0.000000e+00</td>\n",
              "      <td>0.000000e+00</td>\n",
              "      <td>0.000000e+00</td>\n",
              "      <td>0.000000e+00</td>\n",
              "      <td>0.000000e+00</td>\n",
              "    </tr>\n",
              "    <tr>\n",
              "      <th>25%</th>\n",
              "      <td>0.000000e+00</td>\n",
              "      <td>0.000000e+00</td>\n",
              "      <td>0.000000e+00</td>\n",
              "      <td>0.000000e+00</td>\n",
              "      <td>0.000000e+00</td>\n",
              "    </tr>\n",
              "    <tr>\n",
              "      <th>50%</th>\n",
              "      <td>1.200000e+00</td>\n",
              "      <td>4.330000e+02</td>\n",
              "      <td>4.710000e+02</td>\n",
              "      <td>0.000000e+00</td>\n",
              "      <td>4.710000e+02</td>\n",
              "    </tr>\n",
              "    <tr>\n",
              "      <th>75%</th>\n",
              "      <td>4.710000e+02</td>\n",
              "      <td>4.710000e+02</td>\n",
              "      <td>4.710000e+02</td>\n",
              "      <td>4.710000e+02</td>\n",
              "      <td>4.710000e+02</td>\n",
              "    </tr>\n",
              "    <tr>\n",
              "      <th>max</th>\n",
              "      <td>1.414000e+03</td>\n",
              "      <td>1.414000e+03</td>\n",
              "      <td>1.414000e+03</td>\n",
              "      <td>1.414000e+03</td>\n",
              "      <td>1.414000e+03</td>\n",
              "    </tr>\n",
              "    <tr>\n",
              "      <th rowspan=\"8\" valign=\"top\">product_price</th>\n",
              "      <th>count</th>\n",
              "      <td>7.536000e+03</td>\n",
              "      <td>1.301500e+04</td>\n",
              "      <td>3.022000e+03</td>\n",
              "      <td>4.179000e+03</td>\n",
              "      <td>4.824000e+03</td>\n",
              "    </tr>\n",
              "    <tr>\n",
              "      <th>mean</th>\n",
              "      <td>1.096016e+02</td>\n",
              "      <td>1.345679e+02</td>\n",
              "      <td>5.820645e+01</td>\n",
              "      <td>6.606877e+01</td>\n",
              "      <td>5.429530e+01</td>\n",
              "    </tr>\n",
              "    <tr>\n",
              "      <th>std</th>\n",
              "      <td>3.225503e+02</td>\n",
              "      <td>3.372338e+02</td>\n",
              "      <td>1.146101e+02</td>\n",
              "      <td>1.322800e+02</td>\n",
              "      <td>1.037313e+02</td>\n",
              "    </tr>\n",
              "    <tr>\n",
              "      <th>min</th>\n",
              "      <td>1.490000e+00</td>\n",
              "      <td>2.700000e-01</td>\n",
              "      <td>3.900000e-01</td>\n",
              "      <td>1.000000e-02</td>\n",
              "      <td>7.900000e-01</td>\n",
              "    </tr>\n",
              "    <tr>\n",
              "      <th>25%</th>\n",
              "      <td>2.680500e+01</td>\n",
              "      <td>4.699000e+01</td>\n",
              "      <td>1.299000e+01</td>\n",
              "      <td>9.990000e+00</td>\n",
              "      <td>1.239000e+01</td>\n",
              "    </tr>\n",
              "    <tr>\n",
              "      <th>50%</th>\n",
              "      <td>4.899000e+01</td>\n",
              "      <td>8.499000e+01</td>\n",
              "      <td>2.499000e+01</td>\n",
              "      <td>2.480000e+01</td>\n",
              "      <td>2.300000e+01</td>\n",
              "    </tr>\n",
              "    <tr>\n",
              "      <th>75%</th>\n",
              "      <td>8.599250e+01</td>\n",
              "      <td>1.899900e+02</td>\n",
              "      <td>6.999000e+01</td>\n",
              "      <td>6.500000e+01</td>\n",
              "      <td>5.900000e+01</td>\n",
              "    </tr>\n",
              "    <tr>\n",
              "      <th>max</th>\n",
              "      <td>9.616490e+03</td>\n",
              "      <td>1.890000e+04</td>\n",
              "      <td>3.249990e+03</td>\n",
              "      <td>3.395000e+03</td>\n",
              "      <td>1.889960e+03</td>\n",
              "    </tr>\n",
              "  </tbody>\n",
              "</table>\n",
              "</div>"
            ],
            "text/plain": [
              "source                       Overstock  ...       walmart\n",
              "_unit_id           count  7.536000e+03  ...  4.824000e+03\n",
              "                   mean   7.120102e+08  ...  7.111766e+08\n",
              "                   std    9.989559e+05  ...  1.402544e+03\n",
              "                   min    7.111608e+08  ...  7.111742e+08\n",
              "                   25%    7.111627e+08  ...  7.111754e+08\n",
              "                   50%    7.111646e+08  ...  7.111766e+08\n",
              "                   75%    7.131876e+08  ...  7.111779e+08\n",
              "                   max    7.131895e+08  ...  7.111791e+08\n",
              "relevance          count  4.383000e+03  ...  4.824000e+03\n",
              "                   mean   3.232523e+00  ...  3.149075e+00\n",
              "                   std    8.715009e-01  ...  9.181968e-01\n",
              "                   min    1.000000e+00  ...  1.000000e+00\n",
              "                   25%    2.670000e+00  ...  2.600000e+00\n",
              "                   50%    3.670000e+00  ...  3.500000e+00\n",
              "                   75%    4.000000e+00  ...  4.000000e+00\n",
              "                   max    4.000000e+00  ...  4.000000e+00\n",
              "relevance:variance count  4.383000e+03  ...  4.824000e+03\n",
              "                   mean   3.294664e+02  ...  3.338264e+02\n",
              "                   std    3.822406e+02  ...  3.712792e+02\n",
              "                   min    0.000000e+00  ...  0.000000e+00\n",
              "                   25%    0.000000e+00  ...  0.000000e+00\n",
              "                   50%    1.200000e+00  ...  4.710000e+02\n",
              "                   75%    4.710000e+02  ...  4.710000e+02\n",
              "                   max    1.414000e+03  ...  1.414000e+03\n",
              "product_price      count  7.536000e+03  ...  4.824000e+03\n",
              "                   mean   1.096016e+02  ...  5.429530e+01\n",
              "                   std    3.225503e+02  ...  1.037313e+02\n",
              "                   min    1.490000e+00  ...  7.900000e-01\n",
              "                   25%    2.680500e+01  ...  1.239000e+01\n",
              "                   50%    4.899000e+01  ...  2.300000e+01\n",
              "                   75%    8.599250e+01  ...  5.900000e+01\n",
              "                   max    9.616490e+03  ...  1.889960e+03\n",
              "\n",
              "[32 rows x 5 columns]"
            ]
          },
          "metadata": {
            "tags": []
          },
          "execution_count": 308
        }
      ]
    }
  ]
}