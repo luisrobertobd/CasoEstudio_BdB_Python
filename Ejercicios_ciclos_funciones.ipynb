{
  "nbformat": 4,
  "nbformat_minor": 5,
  "metadata": {
    "kernelspec": {
      "display_name": "Python 3 (ipykernel)",
      "language": "python",
      "name": "python3"
    },
    "language_info": {
      "codemirror_mode": {
        "name": "ipython",
        "version": 3
      },
      "file_extension": ".py",
      "mimetype": "text/x-python",
      "name": "python",
      "nbconvert_exporter": "python",
      "pygments_lexer": "ipython3",
      "version": "3.9.1"
    },
    "colab": {
      "name": "Ejercicios_ciclos_funciones.ipynb",
      "provenance": [],
      "include_colab_link": true
    }
  },
  "cells": [
    {
      "cell_type": "markdown",
      "metadata": {
        "id": "view-in-github",
        "colab_type": "text"
      },
      "source": [
        "<a href=\"https://colab.research.google.com/github/luisrobertobd/CasoEstudio_BdB_Python/blob/master/Ejercicios_ciclos_funciones.ipynb\" target=\"_parent\"><img src=\"https://colab.research.google.com/assets/colab-badge.svg\" alt=\"Open In Colab\"/></a>"
      ]
    },
    {
      "cell_type": "code",
      "metadata": {
        "id": "24d2f302",
        "outputId": "e35807b6-c1bf-48aa-fec9-a7713ccc2f12"
      },
      "source": [
        "##Cree una función llamada es_primo, que reciba como parámetro un número n y retorne True si el número es primo o False si el número no es primo \n",
        "##Un número primo es un número que solamente es divisible por él mismo y por 1 \n",
        "\n",
        " \n",
        "\n",
        "def es_primo(num):\n",
        "    for n in range(2, num):\n",
        "        if num % n == 0:\n",
        "            print(\"No es primo\", n, \"es divisor\")\n",
        "            return False\n",
        "    print(\"Es primo\")\n",
        "    return True\n",
        " \n",
        "\n",
        "\n",
        "\n",
        "print (es_primo (2000))\n"
      ],
      "id": "24d2f302",
      "execution_count": null,
      "outputs": [
        {
          "name": "stdout",
          "output_type": "stream",
          "text": [
            "No es primo 2 es divisor\n",
            "False\n"
          ]
        }
      ]
    },
    {
      "cell_type": "code",
      "metadata": {
        "id": "67b5cd68",
        "outputId": "5c8b63d3-aceb-483f-f2b4-978dad8dc370"
      },
      "source": [
        "###  crear  funcion  FACTORIAL  factorial de 3 =  1*2*3  = 6 \n",
        "\n",
        "def Factorial(num):\n",
        "    valor = 1\n",
        "    i = 2\n",
        "    while i <= num:\n",
        "        valor *= i\n",
        "        i+=1\n",
        "    return  valor \n",
        "\n",
        "print (Factorial(3))\n"
      ],
      "id": "67b5cd68",
      "execution_count": null,
      "outputs": [
        {
          "name": "stdout",
          "output_type": "stream",
          "text": [
            "6\n"
          ]
        }
      ]
    },
    {
      "cell_type": "markdown",
      "metadata": {
        "id": "7fadb3cc"
      },
      "source": [
        "sentencia CONTINUE-->  pasa a  la siguiente iteracion  sin ejecutar las demas sentencias"
      ],
      "id": "7fadb3cc"
    },
    {
      "cell_type": "code",
      "metadata": {
        "id": "7ab1b877",
        "outputId": "a2603d08-a137-4e8a-83ec-deec337ab0d8"
      },
      "source": [
        "for num in range (1,10):\n",
        "    if  num % 2 ==0:\n",
        "        print (\"numero par\",num)\n",
        "        continue\n",
        "    print (\"numero impar\",num)"
      ],
      "id": "7ab1b877",
      "execution_count": null,
      "outputs": [
        {
          "name": "stdout",
          "output_type": "stream",
          "text": [
            "numero impar 1\n",
            "numero par 2\n",
            "numero impar 3\n",
            "numero par 4\n",
            "numero impar 5\n",
            "numero par 6\n",
            "numero impar 7\n",
            "numero par 8\n",
            "numero impar 9\n"
          ]
        }
      ]
    },
    {
      "cell_type": "markdown",
      "metadata": {
        "id": "ede1884e"
      },
      "source": [
        "Funcion busca_numero_en \n",
        "-->busca un numero dentro de una lista\n",
        "-->la  sentencia  BREAK   detiene  el ciclo  FOR\n",
        "-->la sentencia   ELSE  se ejecuta cuando el ciclo FOR finaliza"
      ],
      "id": "ede1884e"
    },
    {
      "cell_type": "code",
      "metadata": {
        "id": "d0f9e741",
        "outputId": "53c0fcf1-d736-4668-c114-7c35ab01ca46"
      },
      "source": [
        "def buscar_numero_en (numero,lista):\n",
        "   \n",
        "    for i  , item in enumerate (lista) :\n",
        "        if  item == numero:\n",
        "            indice = i\n",
        "            break \n",
        "    else:\n",
        "        indice = -1\n",
        "        \n",
        "    return indice \n",
        "\n",
        "print (buscar_numero_en (1,[2,3,1,4,5,1])) \n",
        "print (buscar_numero_en (1,[2,3,6,4,5]) )\n"
      ],
      "id": "d0f9e741",
      "execution_count": null,
      "outputs": [
        {
          "name": "stdout",
          "output_type": "stream",
          "text": [
            "2\n",
            "-1\n"
          ]
        }
      ]
    },
    {
      "cell_type": "code",
      "metadata": {
        "id": "712336a2",
        "outputId": "47d153d7-13b7-4ab2-d2fe-36fcf8a5f4a2"
      },
      "source": [
        "##En la Isla X vive la tasa de poblacion crece el 40% mensual. \n",
        "## 7,000 horbres mueren  por muerte natural \n",
        "##Escribir un programa que reciba como datos de entrada un  número x de meses \n",
        "##y un número inicial n de pobladores  que hay en la isla. \n",
        "##Calcular y reportar el número de hombres que hay en la isla al final de cada mes \n",
        "## si ya no hay habitantes el programa debe terminar e indicar con un mensaje este hecho.\n",
        "\n",
        "def calcular(valor_ini,  periodos):\n",
        "    for i in range(0, periodos):\n",
        "        valor_fin = int (valor_ini  + (valor_ini * 0.4) - 7000)\n",
        "        valor_ini = valor_fin\n",
        "        if valor_fin >= 0 :\n",
        "            print(\"# hombres mes #\", i+1,valor_fin)\n",
        "            \n",
        "        else:\n",
        "            valor_fin=0\n",
        "            print(\"# hombres mes #\", i+1,valor_fin)\n",
        "            print(\"La isla se quedó sin habitantes\",valor_fin)\n",
        "            return \n",
        "        \n",
        "    \n",
        "\n",
        "print (\"ddd\",calcular(15000,10))\n"
      ],
      "id": "712336a2",
      "execution_count": null,
      "outputs": [
        {
          "name": "stdout",
          "output_type": "stream",
          "text": [
            "# hombres mes # 1 14000\n",
            "# hombres mes # 2 12600\n",
            "# hombres mes # 3 10640\n",
            "# hombres mes # 4 7896\n",
            "# hombres mes # 5 4054\n",
            "# hombres mes # 6 0\n",
            "La isla se quedó sin habitantes 0\n",
            "ddd None\n"
          ]
        }
      ]
    }
  ]
}