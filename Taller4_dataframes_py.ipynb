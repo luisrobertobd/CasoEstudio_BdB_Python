{
  "nbformat": 4,
  "nbformat_minor": 5,
  "metadata": {
    "kernelspec": {
      "display_name": "Python 3 (ipykernel)",
      "language": "python",
      "name": "python3"
    },
    "language_info": {
      "codemirror_mode": {
        "name": "ipython",
        "version": 3
      },
      "file_extension": ".py",
      "mimetype": "text/x-python",
      "name": "python",
      "nbconvert_exporter": "python",
      "pygments_lexer": "ipython3",
      "version": "3.9.1"
    },
    "colab": {
      "name": "dataframes_py.ipynb",
      "provenance": [],
      "include_colab_link": true
    }
  },
  "cells": [
    {
      "cell_type": "markdown",
      "metadata": {
        "id": "view-in-github",
        "colab_type": "text"
      },
      "source": [
        "<a href=\"https://colab.research.google.com/github/luisrobertobd/CasoEstudio_BdB_Python/blob/master/Taller4_dataframes_py.ipynb\" target=\"_parent\"><img src=\"https://colab.research.google.com/assets/colab-badge.svg\" alt=\"Open In Colab\"/></a>"
      ]
    },
    {
      "cell_type": "code",
      "metadata": {
        "id": "16a5954a-b979-4bf7-8089-3ccb5011aca7"
      },
      "source": [
        "import pandas as pd\n",
        "\n",
        "datos = {\n",
        "    'Manzanas': [3, 2, 0, 1, 6, 3, 1], \n",
        "    'Naranjas': [0, 3, 7, 2, 4, 2, 3],\n",
        "    'Peras': [4, 0, 0, 3, 8, 1, 3],\n",
        "    'Kiwi': [1, 2, 0, 3, 1, 1, 3]\n",
        "}\n",
        "\n",
        "compras = pd.DataFrame(datos)\n",
        "compras = pd.DataFrame(datos, index = ['June', 'Robert', 'Lily', 'David', 'Laura', 'Fabio', 'Ana']) \n"
      ],
      "id": "16a5954a-b979-4bf7-8089-3ccb5011aca7",
      "execution_count": null,
      "outputs": []
    },
    {
      "cell_type": "code",
      "metadata": {
        "id": "2533b09e-1e77-49e9-8f7a-0d6b2397afa5"
      },
      "source": [
        "compras\n",
        "#compras.head(2)\n"
      ],
      "id": "2533b09e-1e77-49e9-8f7a-0d6b2397afa5",
      "execution_count": null,
      "outputs": []
    },
    {
      "cell_type": "code",
      "metadata": {
        "id": "8ff649dc-361e-430b-b409-5f8c49d8656c"
      },
      "source": [
        "#compras.index\n",
        "#compras.columns\n",
        "#compras.describe()\n",
        "compras [compras['Manzanas'] > 1] "
      ],
      "id": "8ff649dc-361e-430b-b409-5f8c49d8656c",
      "execution_count": null,
      "outputs": []
    },
    {
      "cell_type": "code",
      "metadata": {
        "id": "b7074975-8a81-44e7-8376-6c655fd916a1"
      },
      "source": [
        "import pandas as pd\n",
        "print(\"Compras de manzanas: \\n\", compras['Manzanas'])\n",
        "\n",
        "print(\"Compras de manzanas y naranjas: \\n\", compras[['Manzanas', 'Naranjas']])\n",
        "\n",
        "print(\"Compras de Robert: \\n\", compras.loc['Robert'] )\n",
        "\n",
        "print(\"Compras de Robert en Peras y Kiwi: \\n\", compras.loc['Robert', ['Peras', 'Kiwi']])\n",
        "\n",
        "print(\"Compras de Robert y Fabio en peras y kiwi: \\n\", compras.loc[['Robert', 'Fabio'], ['Peras', 'Kiwi']])\n",
        "\n",
        "print(\"Compras de Lily en manzanas: \\n\", compras.iloc[2, 0])\n",
        "\n",
        "print(\"Compras de kiwis y manzanas por todos: \\n\", compras.iloc[:, [0, 3]])\n",
        "\n",
        "print(\"Compras de manzanas mayor a 1: \\n\", compras[compras['Manzanas'] > 1 ]) "
      ],
      "id": "b7074975-8a81-44e7-8376-6c655fd916a1",
      "execution_count": null,
      "outputs": []
    },
    {
      "cell_type": "markdown",
      "metadata": {
        "id": "1abd0e82-164b-43b8-877a-16cf536aa73a"
      },
      "source": [
        "Manejo de Strings  en dataframes"
      ],
      "id": "1abd0e82-164b-43b8-877a-16cf536aa73a"
    },
    {
      "cell_type": "code",
      "metadata": {
        "id": "2a483224-88bb-4e47-8b49-b41bee6af9b9",
        "outputId": "9c6703e7-5e4f-4117-b031-0fbfc71b0765",
        "colab": {
          "base_uri": "https://localhost:8080/"
        }
      },
      "source": [
        "import pandas as pd\n",
        "empresas= {'nombres':['banco Sudameris',\n",
        "                      'bAnColomBia',\n",
        "                      'BANIstmo',\n",
        "                      'banco popular',\n",
        "                      'Colpatria',\n",
        "                      'porVENIR']}\n",
        "\n",
        "\n",
        "\n",
        "df_empresas = pd.DataFrame(empresas)\n",
        "\n",
        "print (df_empresas)\n",
        "print(df_empresas['nombres'].str.lower())\n",
        " \n",
        "\n",
        "print(df_empresas['nombres'].str.upper())\n",
        "\n",
        "print(df_empresas['nombres'].str.capitalize())\n",
        "\n",
        "print(df_empresas['nombres'].str.len())\n",
        "\n",
        "print(df_empresas['nombres'].str.split(' '))\n",
        "\n",
        "print(df_empresas['nombres'].str[:3])\n",
        "\n",
        "print(df_empresas['nombres'].str.replace('popular', 'occidente'))\n",
        "\n",
        "print(df_empresas['nombres'].str.lower().str.findall('ban'))\n",
        "\n",
        "print(df_empresas['nombres'].str.lower().str.count('b'))"
      ],
      "id": "2a483224-88bb-4e47-8b49-b41bee6af9b9",
      "execution_count": 19,
      "outputs": [
        {
          "output_type": "stream",
          "name": "stdout",
          "text": [
            "           nombres\n",
            "0  banco Sudameris\n",
            "1      bAnColomBia\n",
            "2         BANIstmo\n",
            "3    banco popular\n",
            "4        Colpatria\n",
            "5         porVENIR\n",
            "0    banco sudameris\n",
            "1        bancolombia\n",
            "2           banistmo\n",
            "3      banco popular\n",
            "4          colpatria\n",
            "5           porvenir\n",
            "Name: nombres, dtype: object\n",
            "0    BANCO SUDAMERIS\n",
            "1        BANCOLOMBIA\n",
            "2           BANISTMO\n",
            "3      BANCO POPULAR\n",
            "4          COLPATRIA\n",
            "5           PORVENIR\n",
            "Name: nombres, dtype: object\n",
            "0    Banco sudameris\n",
            "1        Bancolombia\n",
            "2           Banistmo\n",
            "3      Banco popular\n",
            "4          Colpatria\n",
            "5           Porvenir\n",
            "Name: nombres, dtype: object\n",
            "0    15\n",
            "1    11\n",
            "2     8\n",
            "3    13\n",
            "4     9\n",
            "5     8\n",
            "Name: nombres, dtype: int64\n",
            "0    [banco, Sudameris]\n",
            "1         [bAnColomBia]\n",
            "2            [BANIstmo]\n",
            "3      [banco, popular]\n",
            "4           [Colpatria]\n",
            "5            [porVENIR]\n",
            "Name: nombres, dtype: object\n",
            "0    ban\n",
            "1    bAn\n",
            "2    BAN\n",
            "3    ban\n",
            "4    Col\n",
            "5    por\n",
            "Name: nombres, dtype: object\n",
            "0    banco Sudameris\n",
            "1        bAnColomBia\n",
            "2           BANIstmo\n",
            "3    banco occidente\n",
            "4          Colpatria\n",
            "5           porVENIR\n",
            "Name: nombres, dtype: object\n",
            "0    [ban]\n",
            "1    [ban]\n",
            "2    [ban]\n",
            "3    [ban]\n",
            "4       []\n",
            "5       []\n",
            "Name: nombres, dtype: object\n",
            "0    1\n",
            "1    2\n",
            "2    1\n",
            "3    1\n",
            "4    0\n",
            "5    0\n",
            "Name: nombres, dtype: int64\n"
          ]
        }
      ]
    },
    {
      "cell_type": "code",
      "metadata": {
        "id": "19871b84-dc69-41f7-934b-7f2b4bf92590"
      },
      "source": [
        "Agrupaciones"
      ],
      "id": "19871b84-dc69-41f7-934b-7f2b4bf92590",
      "execution_count": null,
      "outputs": []
    },
    {
      "cell_type": "code",
      "metadata": {
        "id": "023a8279-3e55-42cc-bc2f-01c6f284a959",
        "outputId": "01ae5c42-93cd-4a6c-a7c7-52a886028075",
        "colab": {
          "base_uri": "https://localhost:8080/"
        }
      },
      "source": [
        "ventas = pd.DataFrame({\n",
        "    \"Categoria\": [1, 2, 1, 1, 2, 1],\n",
        "    \"Producto\": [\"A\", \"B\", \"C\", \"B\", \"A\", \"A\"],\n",
        "    \"Ventas\": [6, 2, 1, 4, 5, 2],\n",
        "    \"Nombre\": [\"7a\", 8, 4, 4, 2, \"ab\"]\n",
        "    })\n",
        "\n",
        "print (ventas.columns)\n",
        "print(ventas.describe())\n",
        "print(ventas)\n",
        "print( ventas  [['Categoria' , 'Ventas']]  [ventas[\"Categoria\"]==1  ]   )\n",
        "print(ventas.groupby('Producto').mean())\n",
        "\n",
        "print(\"\\n\")\n",
        "\n",
        "print(ventas.groupby(['Categoria', 'Producto']).mean())\n",
        "\n",
        "print(ventas.groupby('Producto').sum() )\n",
        "print(    ventas.groupby(['Producto'])  ['Ventas'].sum() )\n",
        "print(ventas.groupby(['Producto' , 'Categoria']) ['Ventas'].sum()   )\n",
        "print(ventas.groupby(['Producto' , 'Categoria']) ['Ventas'].sum().unstack()[2]  )"
      ],
      "id": "023a8279-3e55-42cc-bc2f-01c6f284a959",
      "execution_count": 35,
      "outputs": [
        {
          "output_type": "stream",
          "name": "stdout",
          "text": [
            "Index(['Categoria', 'Producto', 'Ventas', 'Nombre'], dtype='object')\n",
            "       Categoria    Ventas\n",
            "count   6.000000  6.000000\n",
            "mean    1.333333  3.333333\n",
            "std     0.516398  1.966384\n",
            "min     1.000000  1.000000\n",
            "25%     1.000000  2.000000\n",
            "50%     1.000000  3.000000\n",
            "75%     1.750000  4.750000\n",
            "max     2.000000  6.000000\n",
            "   Categoria Producto  Ventas Nombre\n",
            "0          1        A       6     7a\n",
            "1          2        B       2      8\n",
            "2          1        C       1      4\n",
            "3          1        B       4      4\n",
            "4          2        A       5      2\n",
            "5          1        A       2     ab\n",
            "   Categoria  Ventas\n",
            "0          1       6\n",
            "2          1       1\n",
            "3          1       4\n",
            "5          1       2\n",
            "          Categoria    Ventas\n",
            "Producto                     \n",
            "A          1.333333  4.333333\n",
            "B          1.500000  3.000000\n",
            "C          1.000000  1.000000\n",
            "\n",
            "\n",
            "                    Ventas\n",
            "Categoria Producto        \n",
            "1         A              4\n",
            "          B              4\n",
            "          C              1\n",
            "2         A              5\n",
            "          B              2\n",
            "          Categoria  Ventas\n",
            "Producto                   \n",
            "A                 4      13\n",
            "B                 3       6\n",
            "C                 1       1\n",
            "Producto\n",
            "A    13\n",
            "B     6\n",
            "C     1\n",
            "Name: Ventas, dtype: int64\n",
            "Producto  Categoria\n",
            "A         1            8\n",
            "          2            5\n",
            "B         1            4\n",
            "          2            2\n",
            "C         1            1\n",
            "Name: Ventas, dtype: int64\n",
            "Producto\n",
            "A    5.0\n",
            "B    2.0\n",
            "C    NaN\n",
            "Name: 2, dtype: float64\n"
          ]
        }
      ]
    },
    {
      "cell_type": "markdown",
      "metadata": {
        "id": "8c7455bc-4c0c-4d2c-ae20-078cc35fe04c"
      },
      "source": [
        "Manejo de indices"
      ],
      "id": "8c7455bc-4c0c-4d2c-ae20-078cc35fe04c"
    },
    {
      "cell_type": "code",
      "metadata": {
        "id": "bZ70cdg0i1qp"
      },
      "source": [
        "from google.colab import files\n",
        "uploaded = files.upload()"
      ],
      "id": "bZ70cdg0i1qp",
      "execution_count": null,
      "outputs": []
    },
    {
      "cell_type": "code",
      "metadata": {
        "id": "9479be22-4f4a-4760-a926-5bae5984a272",
        "outputId": "722d2227-fa86-4d26-a2fa-a9dd57ba95d6",
        "colab": {
          "base_uri": "https://localhost:8080/"
        }
      },
      "source": [
        "\n",
        "\n",
        "df_poblacion = pd.read_csv('3.1.4-poblacion.csv')\n",
        "\n",
        "\n",
        "##field Country as  index  \n",
        "df_poblacion.set_index(['Country'])\n",
        "\n",
        "df_un_indice = df_poblacion.set_index(['Country'])\n",
        "print (df_poblacion)\n",
        "print (df_un_indice)\n",
        "##### fields country, years  as  index  \n",
        "#df_multi_indice = df_poblacion.set_index(['Country', 'year'])\n",
        "#print (df_multi_indice )   \n",
        "#df_multi_indice = df_multi_indice.sort_index()\n",
        "#df_multi_indice \n",
        "print(df_multi_indice)\n",
        "\n",
        "#print(df_multi_indice.xs(['Colombia']))\n",
        "#print(df_multi_indice.xs('Zimbabwe'))\n",
        "##print(df_multi_indice.loc[pd.IndexSlice['Chile': 'Cuba', '2015': '2017'], :].sort_index())\n",
        "\n",
        "print(df_multi_indice.sum(level = 'year'))\n",
        "\n",
        "print (df_multi_indice.groupby(level=1).sum())\n",
        "\n",
        "\n",
        "print(df_multi_indice.loc[pd.IndexSlice['Chile': 'Cuba', '2015': '2017'], :].sort_index())\n",
        "\n"
      ],
      "id": "9479be22-4f4a-4760-a926-5bae5984a272",
      "execution_count": 60,
      "outputs": [
        {
          "output_type": "stream",
          "name": "stdout",
          "text": [
            "                       Country  year           pop\n",
            "0                  Afghanistan  2015  3.441360e+07\n",
            "1                      Albania  2015  2.880703e+06\n",
            "2                      Algeria  2015  3.972802e+07\n",
            "3               American Samoa  2015  5.581200e+04\n",
            "4                      Andorra  2015  7.801100e+04\n",
            "...                        ...   ...           ...\n",
            "1035  Pre-demographic dividend  2018  9.194854e+08\n",
            "1036              Small states  2018  4.057532e+07\n",
            "1037                South Asia  2018  1.814389e+09\n",
            "1038   South Asia (IDA & IBRD)  2018  1.814389e+09\n",
            "1039        Sub-Saharan Africa  2018  1.078307e+09\n",
            "\n",
            "[1040 rows x 3 columns]\n",
            "                          year           pop\n",
            "Country                                     \n",
            "Afghanistan               2015  3.441360e+07\n",
            "Albania                   2015  2.880703e+06\n",
            "Algeria                   2015  3.972802e+07\n",
            "American Samoa            2015  5.581200e+04\n",
            "Andorra                   2015  7.801100e+04\n",
            "...                        ...           ...\n",
            "Pre-demographic dividend  2018  9.194854e+08\n",
            "Small states              2018  4.057532e+07\n",
            "South Asia                2018  1.814389e+09\n",
            "South Asia (IDA & IBRD)   2018  1.814389e+09\n",
            "Sub-Saharan Africa        2018  1.078307e+09\n",
            "\n",
            "[1040 rows x 2 columns]\n",
            "                         pop\n",
            "Country     year            \n",
            "Afghanistan 2015  34413603.0\n",
            "            2016  35383128.0\n",
            "            2017  36296400.0\n",
            "            2018  37172386.0\n",
            "Albania     2015   2880703.0\n",
            "...                      ...\n",
            "Zambia      2018  17351822.0\n",
            "Zimbabwe    2015  13814629.0\n",
            "            2016  14030390.0\n",
            "            2017  14236745.0\n",
            "            2018  14439018.0\n",
            "\n",
            "[1040 rows x 1 columns]\n",
            "               pop\n",
            "year              \n",
            "2015  6.567915e+10\n",
            "2016  6.648793e+10\n",
            "2017  6.729418e+10\n",
            "2018  6.808789e+10\n",
            "               pop\n",
            "year              \n",
            "2015  6.567915e+10\n",
            "2016  6.648793e+10\n",
            "2017  6.729418e+10\n",
            "2018  6.808789e+10\n",
            "                                pop\n",
            "Country          year              \n",
            "Chile            2015  1.796935e+07\n",
            "                 2016  1.820907e+07\n",
            "                 2017  1.847044e+07\n",
            "China            2015  1.371220e+09\n",
            "                 2016  1.378665e+09\n",
            "                 2017  1.386395e+09\n",
            "Colombia         2015  4.752067e+07\n",
            "                 2016  4.817139e+07\n",
            "                 2017  4.890107e+07\n",
            "Comoros          2015  7.774240e+05\n",
            "                 2016  7.955920e+05\n",
            "                 2017  8.138920e+05\n",
            "Congo, Dem. Rep. 2015  7.624454e+07\n",
            "                 2016  7.878913e+07\n",
            "                 2017  8.139876e+07\n",
            "Congo, Rep.      2015  4.856095e+06\n",
            "                 2016  4.980999e+06\n",
            "                 2017  5.110702e+06\n",
            "Costa Rica       2015  4.847804e+06\n",
            "                 2016  4.899345e+06\n",
            "                 2017  4.949954e+06\n",
            "Cote d'Ivoire    2015  2.322614e+07\n",
            "                 2016  2.382271e+07\n",
            "                 2017  2.443747e+07\n",
            "Croatia          2015  4.203604e+06\n",
            "                 2016  4.174349e+06\n",
            "                 2017  4.124531e+06\n",
            "Cuba             2015  1.132478e+07\n",
            "                 2016  1.133511e+07\n",
            "                 2017  1.133926e+07\n"
          ]
        }
      ]
    },
    {
      "cell_type": "markdown",
      "metadata": {
        "id": "b1ecfd64-e184-4378-8cae-e95df16da948"
      },
      "source": [
        "--->  NULOS"
      ],
      "id": "b1ecfd64-e184-4378-8cae-e95df16da948"
    },
    {
      "cell_type": "code",
      "metadata": {
        "id": "0af0953c-5565-4021-8a52-0836a1b86742"
      },
      "source": [
        "import numpy as np\n",
        "\n",
        "ventas = pd.DataFrame({\"A\":[3, np.nan, 1],\n",
        "                \"B\":[1, 5, np.nan],\n",
        "                \"C\":[3, 7, 2],\n",
        "                \"D\":[4, 2, np.nan]},\n",
        "                index = [\"Ene\", \"Feb\", \"Mar\"])\n",
        "\n",
        "print(ventas)\n",
        "\n",
        "print(ventas.isnull())\n",
        "\n",
        "print(ventas.dropna())\n",
        "\n",
        "print(ventas.fillna(0))\n",
        "\n",
        "\n",
        "print(ventas)\n",
        "\n",
        "ventas_depurado= ventas.fillna(0)\n",
        "\n",
        "print (ventas_depurado)"
      ],
      "id": "0af0953c-5565-4021-8a52-0836a1b86742",
      "execution_count": null,
      "outputs": []
    },
    {
      "cell_type": "markdown",
      "metadata": {
        "id": "879629a3-bc3f-4d18-ad73-af8322d5de85"
      },
      "source": [
        "5) VALORES REPETIDOS "
      ],
      "id": "879629a3-bc3f-4d18-ad73-af8322d5de85"
    },
    {
      "cell_type": "code",
      "metadata": {
        "id": "ad254931-ceb9-4059-b1c0-7bdf9fbd8d1f"
      },
      "source": [
        "estudiantes = [('jack', 34, 'Sydeny'),\n",
        "               ('Riti', 30, 'Delhi'),\n",
        "               ('Aadi', 16, 'New York'),\n",
        "               ('Riti', 30, 'Delhi'),\n",
        "               ('Riti', 30, 'Delhi'),\n",
        "               ('Riti', 30, 'Mumbai'),\n",
        "               ('Aadi', 40, 'London'),\n",
        "               ('Sachin', 30, 'Delhi')\n",
        "               ]\n",
        "print (estudiantes )\n",
        "df_estudiantes = pd.DataFrame(estudiantes, columns=['Nombre', 'Edad', 'Ciudad'])\n",
        "\n",
        "print (df_estudiantes )\n",
        "print(df_estudiantes.duplicated())\n",
        "\n",
        "print(\"\\n\")\n",
        "\n",
        "##print(df_estudiantes.duplicated(['Nombre']))\n",
        "#print(df_estudiantes.drop_duplicates())\n",
        "\n",
        "print(df_estudiantes.drop_duplicates('Nombre'))\n",
        "\n",
        "print (df_estudiantes )"
      ],
      "id": "ad254931-ceb9-4059-b1c0-7bdf9fbd8d1f",
      "execution_count": null,
      "outputs": []
    },
    {
      "cell_type": "markdown",
      "metadata": {
        "id": "675aac68-7703-4e05-b95f-67c7135a7381"
      },
      "source": [
        "8)   --->>>> FUSIONAR"
      ],
      "id": "675aac68-7703-4e05-b95f-67c7135a7381"
    },
    {
      "cell_type": "code",
      "metadata": {
        "id": "9ec013a8-d223-4fc1-bb3d-98b8806e6651"
      },
      "source": [
        "import pandas as pd\n",
        "\n",
        "df_ventas = pd.DataFrame({\n",
        "            \"Mes\": [\"ene\", \"feb\", \"mar\", \"may\"],\n",
        "            \"Ventas\": [14, 8, 12, 17]})\n",
        "\n",
        "df_costos = pd.DataFrame({\n",
        "            \"Mes\": [\"feb\", \"ene\", \"mar\", \"abr\"],\n",
        "            \"Costos\": [7, 6, 8, 5]})\n",
        "\n",
        "print(df_ventas) \n",
        "print(df_costos)\n",
        "\n",
        "print(pd.merge(df_ventas, df_costos))\n",
        "print(pd.merge(df_ventas, df_costos, how = \"outer\"))\n",
        "\n",
        "print(\"\\n\")"
      ],
      "id": "9ec013a8-d223-4fc1-bb3d-98b8806e6651",
      "execution_count": null,
      "outputs": []
    },
    {
      "cell_type": "markdown",
      "metadata": {
        "id": "ee908d3f-07af-4265-8e20-08efb0a2fc4a"
      },
      "source": [
        "9)   --->> CONCATENAR"
      ],
      "id": "ee908d3f-07af-4265-8e20-08efb0a2fc4a"
    },
    {
      "cell_type": "code",
      "metadata": {
        "id": "7cb5f85f-7951-4450-a58d-654488367caf"
      },
      "source": [
        "import pandas as pd\n",
        "\n",
        "datos_estudiante_uno = pd.DataFrame({\n",
        "                        'id': ['S1', 'S2', 'S3', 'S4', 'S5'],\n",
        "                        'nombre': ['Danniella Fenton', 'Ryder Storey', 'Bryce Jensen', 'Ed Bernal', 'Kwame Morin'], \n",
        "                        'notas': [5.0, 3.8, 1.9, 4.4, 4.1]})\n",
        "\n",
        "datos_estudiante_dos = pd.DataFrame({\n",
        "                        'id': ['S4', 'S5', 'S6', 'S7', 'S8'],\n",
        "                        'nombre': ['Scarlette Fisher', 'Carla Williamson', 'Dante Morse', 'Kaiser William', 'Madeeha Preston'], \n",
        "                        'notas': [2.9, 4.8, 4.2, 3.5, 4.0]})\n",
        "\n",
        "\n",
        "print (datos_estudiante_uno)\n",
        "print(datos_estudiante_dos)\n",
        "datos_concatenados = pd.concat([datos_estudiante_uno, datos_estudiante_dos])\n",
        "\n",
        "print(\"\\n\")\n",
        "\n",
        "print(datos_concatenados)"
      ],
      "id": "7cb5f85f-7951-4450-a58d-654488367caf",
      "execution_count": null,
      "outputs": []
    },
    {
      "cell_type": "markdown",
      "metadata": {
        "id": "bd8687ca-828c-4f1f-850d-db6369159ef6"
      },
      "source": [
        "TALLER  \n",
        "El   archivo   titanic.csv contiene información de los pasajeros del Titanic. Escriba un programa que realice lo siguiente: \n",
        "\n",
        "Generar un DataFrame con los datos del archivo Titanic.csv. \n",
        "\n",
        "0) Imprimir las dimensiones del DataFrame, el número de datos que contiene, los nombres de sus columnas y filas, los tipos de datos de las columnas, las 10 primeras filas y las 10 últimas filas. \n",
        "\n",
        "1) Imprimir los datos del pasajero con id 100. \n",
        "\n",
        "2) Imprimir las filas impares del DataFrame. \n",
        "\n",
        "3) Imprimir los nombres de las personas que iban en segunda clase ordenadas alfabéticamente. \n",
        "\n",
        "4) Imprimir el porcentaje de personas que sobrevivieron y murieron. \n",
        "\n",
        "5) Imprimir el porcentaje de personas que murieron en cada clase. \n",
        "\n",
        "6) Eliminar del DataFrame los pasajeros con edad desconocida. \n",
        "\n",
        "7) Imprimir la edad media de los hombres que viajaban en cada clase. \n",
        "\n",
        "8) Añadir una nueva columna para determinar si el pasajero era menor de edad o no. \n",
        "\n",
        "9) Imprimir el porcentaje de menores y mayores de edad que sobrevivieron en cada clase. "
      ],
      "id": "bd8687ca-828c-4f1f-850d-db6369159ef6"
    }
  ]
}