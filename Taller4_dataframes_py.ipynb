{
  "nbformat": 4,
  "nbformat_minor": 5,
  "metadata": {
    "kernelspec": {
      "display_name": "Python 3 (ipykernel)",
      "language": "python",
      "name": "python3"
    },
    "language_info": {
      "codemirror_mode": {
        "name": "ipython",
        "version": 3
      },
      "file_extension": ".py",
      "mimetype": "text/x-python",
      "name": "python",
      "nbconvert_exporter": "python",
      "pygments_lexer": "ipython3",
      "version": "3.9.1"
    },
    "colab": {
      "name": "dataframes_py.ipynb",
      "provenance": [],
      "include_colab_link": true
    }
  },
  "cells": [
    {
      "cell_type": "markdown",
      "metadata": {
        "id": "view-in-github",
        "colab_type": "text"
      },
      "source": [
        "<a href=\"https://colab.research.google.com/github/luisrobertobd/CasoEstudio_BdB_Python/blob/master/Taller4_dataframes_py.ipynb\" target=\"_parent\"><img src=\"https://colab.research.google.com/assets/colab-badge.svg\" alt=\"Open In Colab\"/></a>"
      ]
    },
    {
      "cell_type": "code",
      "metadata": {
        "id": "16a5954a-b979-4bf7-8089-3ccb5011aca7"
      },
      "source": [
        "import pandas as pd\n",
        "\n",
        "datos = {\n",
        "    'Manzanas': [3, 2, 0, 1, 6, 3, 1], \n",
        "    'Naranjas': [0, 3, 7, 2, 4, 2, 3],\n",
        "    'Peras': [4, 0, 0, 3, 8, 1, 3],\n",
        "    'Kiwi': [1, 2, 0, 3, 1, 1, 3]\n",
        "}\n",
        "\n",
        "compras = pd.DataFrame(datos)\n",
        "compras = pd.DataFrame(datos, index = ['June', 'Robert', 'Lily', 'David', 'Laura', 'Fabio', 'Ana']) \n"
      ],
      "id": "16a5954a-b979-4bf7-8089-3ccb5011aca7",
      "execution_count": null,
      "outputs": []
    },
    {
      "cell_type": "code",
      "metadata": {
        "id": "2533b09e-1e77-49e9-8f7a-0d6b2397afa5"
      },
      "source": [
        "compras\n",
        "#compras.head(2)\n"
      ],
      "id": "2533b09e-1e77-49e9-8f7a-0d6b2397afa5",
      "execution_count": null,
      "outputs": []
    },
    {
      "cell_type": "code",
      "metadata": {
        "id": "8ff649dc-361e-430b-b409-5f8c49d8656c"
      },
      "source": [
        "#compras.index\n",
        "#compras.columns\n",
        "#compras.describe()\n",
        "compras [compras['Manzanas'] > 1] "
      ],
      "id": "8ff649dc-361e-430b-b409-5f8c49d8656c",
      "execution_count": null,
      "outputs": []
    },
    {
      "cell_type": "code",
      "metadata": {
        "id": "b7074975-8a81-44e7-8376-6c655fd916a1"
      },
      "source": [
        "import pandas as pd\n",
        "print(\"Compras de manzanas: \\n\", compras['Manzanas'])\n",
        "\n",
        "print(\"Compras de manzanas y naranjas: \\n\", compras[['Manzanas', 'Naranjas']])\n",
        "\n",
        "print(\"Compras de Robert: \\n\", compras.loc['Robert'] )\n",
        "\n",
        "print(\"Compras de Robert en Peras y Kiwi: \\n\", compras.loc['Robert', ['Peras', 'Kiwi']])\n",
        "\n",
        "print(\"Compras de Robert y Fabio en peras y kiwi: \\n\", compras.loc[['Robert', 'Fabio'], ['Peras', 'Kiwi']])\n",
        "\n",
        "print(\"Compras de Lily en manzanas: \\n\", compras.iloc[2, 0])\n",
        "\n",
        "print(\"Compras de kiwis y manzanas por todos: \\n\", compras.iloc[:, [0, 3]])\n",
        "\n",
        "print(\"Compras de manzanas mayor a 1: \\n\", compras[compras['Manzanas'] > 1 ]) "
      ],
      "id": "b7074975-8a81-44e7-8376-6c655fd916a1",
      "execution_count": null,
      "outputs": []
    },
    {
      "cell_type": "markdown",
      "metadata": {
        "id": "1abd0e82-164b-43b8-877a-16cf536aa73a"
      },
      "source": [
        "Manejo de Strings  en dataframes"
      ],
      "id": "1abd0e82-164b-43b8-877a-16cf536aa73a"
    },
    {
      "cell_type": "code",
      "metadata": {
        "id": "2a483224-88bb-4e47-8b49-b41bee6af9b9",
        "colab": {
          "base_uri": "https://localhost:8080/"
        },
        "outputId": "9c6703e7-5e4f-4117-b031-0fbfc71b0765"
      },
      "source": [
        "import pandas as pd\n",
        "empresas= {'nombres':['banco Sudameris',\n",
        "                      'bAnColomBia',\n",
        "                      'BANIstmo',\n",
        "                      'banco popular',\n",
        "                      'Colpatria',\n",
        "                      'porVENIR']}\n",
        "\n",
        "\n",
        "\n",
        "df_empresas = pd.DataFrame(empresas)\n",
        "\n",
        "print (df_empresas)\n",
        "print(df_empresas['nombres'].str.lower())\n",
        " \n",
        "\n",
        "print(df_empresas['nombres'].str.upper())\n",
        "\n",
        "print(df_empresas['nombres'].str.capitalize())\n",
        "\n",
        "print(df_empresas['nombres'].str.len())\n",
        "\n",
        "print(df_empresas['nombres'].str.split(' '))\n",
        "\n",
        "print(df_empresas['nombres'].str[:3])\n",
        "\n",
        "print(df_empresas['nombres'].str.replace('popular', 'occidente'))\n",
        "\n",
        "print(df_empresas['nombres'].str.lower().str.findall('ban'))\n",
        "\n",
        "print(df_empresas['nombres'].str.lower().str.count('b'))"
      ],
      "id": "2a483224-88bb-4e47-8b49-b41bee6af9b9",
      "execution_count": null,
      "outputs": [
        {
          "output_type": "stream",
          "name": "stdout",
          "text": [
            "           nombres\n",
            "0  banco Sudameris\n",
            "1      bAnColomBia\n",
            "2         BANIstmo\n",
            "3    banco popular\n",
            "4        Colpatria\n",
            "5         porVENIR\n",
            "0    banco sudameris\n",
            "1        bancolombia\n",
            "2           banistmo\n",
            "3      banco popular\n",
            "4          colpatria\n",
            "5           porvenir\n",
            "Name: nombres, dtype: object\n",
            "0    BANCO SUDAMERIS\n",
            "1        BANCOLOMBIA\n",
            "2           BANISTMO\n",
            "3      BANCO POPULAR\n",
            "4          COLPATRIA\n",
            "5           PORVENIR\n",
            "Name: nombres, dtype: object\n",
            "0    Banco sudameris\n",
            "1        Bancolombia\n",
            "2           Banistmo\n",
            "3      Banco popular\n",
            "4          Colpatria\n",
            "5           Porvenir\n",
            "Name: nombres, dtype: object\n",
            "0    15\n",
            "1    11\n",
            "2     8\n",
            "3    13\n",
            "4     9\n",
            "5     8\n",
            "Name: nombres, dtype: int64\n",
            "0    [banco, Sudameris]\n",
            "1         [bAnColomBia]\n",
            "2            [BANIstmo]\n",
            "3      [banco, popular]\n",
            "4           [Colpatria]\n",
            "5            [porVENIR]\n",
            "Name: nombres, dtype: object\n",
            "0    ban\n",
            "1    bAn\n",
            "2    BAN\n",
            "3    ban\n",
            "4    Col\n",
            "5    por\n",
            "Name: nombres, dtype: object\n",
            "0    banco Sudameris\n",
            "1        bAnColomBia\n",
            "2           BANIstmo\n",
            "3    banco occidente\n",
            "4          Colpatria\n",
            "5           porVENIR\n",
            "Name: nombres, dtype: object\n",
            "0    [ban]\n",
            "1    [ban]\n",
            "2    [ban]\n",
            "3    [ban]\n",
            "4       []\n",
            "5       []\n",
            "Name: nombres, dtype: object\n",
            "0    1\n",
            "1    2\n",
            "2    1\n",
            "3    1\n",
            "4    0\n",
            "5    0\n",
            "Name: nombres, dtype: int64\n"
          ]
        }
      ]
    },
    {
      "cell_type": "code",
      "metadata": {
        "id": "19871b84-dc69-41f7-934b-7f2b4bf92590"
      },
      "source": [
        "Agrupaciones"
      ],
      "id": "19871b84-dc69-41f7-934b-7f2b4bf92590",
      "execution_count": null,
      "outputs": []
    },
    {
      "cell_type": "code",
      "metadata": {
        "id": "023a8279-3e55-42cc-bc2f-01c6f284a959",
        "colab": {
          "base_uri": "https://localhost:8080/"
        },
        "outputId": "01ae5c42-93cd-4a6c-a7c7-52a886028075"
      },
      "source": [
        "ventas = pd.DataFrame({\n",
        "    \"Categoria\": [1, 2, 1, 1, 2, 1],\n",
        "    \"Producto\": [\"A\", \"B\", \"C\", \"B\", \"A\", \"A\"],\n",
        "    \"Ventas\": [6, 2, 1, 4, 5, 2],\n",
        "    \"Nombre\": [\"7a\", 8, 4, 4, 2, \"ab\"]\n",
        "    })\n",
        "\n",
        "print (ventas.columns)\n",
        "print(ventas.describe())\n",
        "print(ventas)\n",
        "print( ventas  [['Categoria' , 'Ventas']]  [ventas[\"Categoria\"]==1  ]   )\n",
        "print(ventas.groupby('Producto').mean())\n",
        "\n",
        "print(\"\\n\")\n",
        "\n",
        "print(ventas.groupby(['Categoria', 'Producto']).mean())\n",
        "\n",
        "print(ventas.groupby('Producto').sum() )\n",
        "print(    ventas.groupby(['Producto'])  ['Ventas'].sum() )\n",
        "print(ventas.groupby(['Producto' , 'Categoria']) ['Ventas'].sum()   )\n",
        "print(ventas.groupby(['Producto' , 'Categoria']) ['Ventas'].sum().unstack()[2]  )"
      ],
      "id": "023a8279-3e55-42cc-bc2f-01c6f284a959",
      "execution_count": null,
      "outputs": [
        {
          "output_type": "stream",
          "name": "stdout",
          "text": [
            "Index(['Categoria', 'Producto', 'Ventas', 'Nombre'], dtype='object')\n",
            "       Categoria    Ventas\n",
            "count   6.000000  6.000000\n",
            "mean    1.333333  3.333333\n",
            "std     0.516398  1.966384\n",
            "min     1.000000  1.000000\n",
            "25%     1.000000  2.000000\n",
            "50%     1.000000  3.000000\n",
            "75%     1.750000  4.750000\n",
            "max     2.000000  6.000000\n",
            "   Categoria Producto  Ventas Nombre\n",
            "0          1        A       6     7a\n",
            "1          2        B       2      8\n",
            "2          1        C       1      4\n",
            "3          1        B       4      4\n",
            "4          2        A       5      2\n",
            "5          1        A       2     ab\n",
            "   Categoria  Ventas\n",
            "0          1       6\n",
            "2          1       1\n",
            "3          1       4\n",
            "5          1       2\n",
            "          Categoria    Ventas\n",
            "Producto                     \n",
            "A          1.333333  4.333333\n",
            "B          1.500000  3.000000\n",
            "C          1.000000  1.000000\n",
            "\n",
            "\n",
            "                    Ventas\n",
            "Categoria Producto        \n",
            "1         A              4\n",
            "          B              4\n",
            "          C              1\n",
            "2         A              5\n",
            "          B              2\n",
            "          Categoria  Ventas\n",
            "Producto                   \n",
            "A                 4      13\n",
            "B                 3       6\n",
            "C                 1       1\n",
            "Producto\n",
            "A    13\n",
            "B     6\n",
            "C     1\n",
            "Name: Ventas, dtype: int64\n",
            "Producto  Categoria\n",
            "A         1            8\n",
            "          2            5\n",
            "B         1            4\n",
            "          2            2\n",
            "C         1            1\n",
            "Name: Ventas, dtype: int64\n",
            "Producto\n",
            "A    5.0\n",
            "B    2.0\n",
            "C    NaN\n",
            "Name: 2, dtype: float64\n"
          ]
        }
      ]
    },
    {
      "cell_type": "markdown",
      "metadata": {
        "id": "8c7455bc-4c0c-4d2c-ae20-078cc35fe04c"
      },
      "source": [
        "Manejo de indices"
      ],
      "id": "8c7455bc-4c0c-4d2c-ae20-078cc35fe04c"
    },
    {
      "cell_type": "code",
      "metadata": {
        "id": "bZ70cdg0i1qp",
        "colab": {
          "resources": {
            "http://localhost:8080/nbextensions/google.colab/files.js": {
              "data": "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",
              "ok": true,
              "headers": [
                [
                  "content-type",
                  "application/javascript"
                ]
              ],
              "status": 200,
              "status_text": ""
            }
          },
          "base_uri": "https://localhost:8080/",
          "height": 72
        },
        "outputId": "5eb3fb61-e962-4227-ecf8-7b431dc8cb28"
      },
      "source": [
        "from google.colab import files\n",
        "uploaded = files.upload()"
      ],
      "id": "bZ70cdg0i1qp",
      "execution_count": null,
      "outputs": [
        {
          "output_type": "display_data",
          "data": {
            "text/html": [
              "\n",
              "     <input type=\"file\" id=\"files-5f1d4f1e-7e1f-47f5-8ace-61ad033692c5\" name=\"files[]\" multiple disabled\n",
              "        style=\"border:none\" />\n",
              "     <output id=\"result-5f1d4f1e-7e1f-47f5-8ace-61ad033692c5\">\n",
              "      Upload widget is only available when the cell has been executed in the\n",
              "      current browser session. Please rerun this cell to enable.\n",
              "      </output>\n",
              "      <script src=\"/nbextensions/google.colab/files.js\"></script> "
            ],
            "text/plain": [
              "<IPython.core.display.HTML object>"
            ]
          },
          "metadata": {}
        },
        {
          "output_type": "stream",
          "name": "stdout",
          "text": [
            "Saving 3.1.4-poblacion.csv to 3.1.4-poblacion.csv\n"
          ]
        }
      ]
    },
    {
      "cell_type": "code",
      "metadata": {
        "id": "9479be22-4f4a-4760-a926-5bae5984a272",
        "colab": {
          "base_uri": "https://localhost:8080/"
        },
        "outputId": "074a0ef5-2c6b-4a2a-a5f1-9e28a9cb3f3e"
      },
      "source": [
        "\n",
        "\n",
        "df_poblacion = pd.read_csv('3.1.4-poblacion.csv')\n",
        "\n",
        "\n",
        "##field Country as  index  \n",
        "df_poblacion.set_index(['Country'])\n",
        "\n",
        "df_un_indice = df_poblacion.set_index(['Country'])\n",
        "print (df_poblacion)\n",
        "print (df_un_indice)\n",
        "##### fields country, years  as  index  \n",
        "#df_multi_indice = df_poblacion.set_index(['Country', 'year'])\n",
        "#print (df_multi_indice )   \n",
        "#df_multi_indice = df_multi_indice.sort_index()\n",
        "#df_multi_indice \n",
        "##print(df_multi_indice)\n",
        "\n",
        "#print(df_multi_indice.xs(['Colombia']))\n",
        "#print(df_multi_indice.xs('Zimbabwe'))\n",
        "##print(df_multi_indice.loc[pd.IndexSlice['Chile': 'Cuba', '2015': '2017'], :].sort_index())\n",
        "\n",
        "##print(df_multi_indice.sum(level = 'year'))\n",
        "\n",
        "##print (df_multi_indice.groupby(level=1).sum())\n",
        "\n",
        "\n",
        "##print(df_multi_indice.loc[pd.IndexSlice['Chile': 'Cuba', '2015': '2017'], :].sort_index())\n",
        "\n"
      ],
      "id": "9479be22-4f4a-4760-a926-5bae5984a272",
      "execution_count": null,
      "outputs": [
        {
          "output_type": "stream",
          "name": "stdout",
          "text": [
            "                       Country  year           pop\n",
            "0                  Afghanistan  2015           NaN\n",
            "1                      Albania  2015           NaN\n",
            "2                      Algeria  2015           NaN\n",
            "3               American Samoa  2015  5.581200e+04\n",
            "4                      Andorra  2015  7.801100e+04\n",
            "...                        ...   ...           ...\n",
            "1035  Pre-demographic dividend  2018  9.194854e+08\n",
            "1036              Small states  2018  4.057532e+07\n",
            "1037                South Asia  2018  1.814389e+09\n",
            "1038   South Asia (IDA & IBRD)  2018  1.814389e+09\n",
            "1039        Sub-Saharan Africa  2018  1.078307e+09\n",
            "\n",
            "[1040 rows x 3 columns]\n",
            "                          year           pop\n",
            "Country                                     \n",
            "Afghanistan               2015           NaN\n",
            "Albania                   2015           NaN\n",
            "Algeria                   2015           NaN\n",
            "American Samoa            2015  5.581200e+04\n",
            "Andorra                   2015  7.801100e+04\n",
            "...                        ...           ...\n",
            "Pre-demographic dividend  2018  9.194854e+08\n",
            "Small states              2018  4.057532e+07\n",
            "South Asia                2018  1.814389e+09\n",
            "South Asia (IDA & IBRD)   2018  1.814389e+09\n",
            "Sub-Saharan Africa        2018  1.078307e+09\n",
            "\n",
            "[1040 rows x 2 columns]\n"
          ]
        }
      ]
    },
    {
      "cell_type": "markdown",
      "metadata": {
        "id": "b1ecfd64-e184-4378-8cae-e95df16da948"
      },
      "source": [
        "--->  NULOS"
      ],
      "id": "b1ecfd64-e184-4378-8cae-e95df16da948"
    },
    {
      "cell_type": "code",
      "metadata": {
        "id": "t5nw7mhqiUsT",
        "colab": {
          "base_uri": "https://localhost:8080/"
        },
        "outputId": "f41edbdd-70da-405c-ac06-33e6a286b40b"
      },
      "source": [
        "import numpy as np\n",
        "import pandas as pd\n",
        "\n",
        "ventas = pd.DataFrame({\"A\":[3, np.nan , 1],\n",
        "                \"B\":[1, 5, np.nan ],\n",
        "                \"C\":[3, 7, 2],\n",
        "                \"D\":[4, 2,np.nan ]} )\n",
        "                #index = [\"Ene\", \"Feb\", \"Mar\"])\n",
        "print (ventas)\n",
        "\n",
        "ventas.set_index(['A'])\n",
        "\n",
        "print(ventas.dropna(1))"
      ],
      "id": "t5nw7mhqiUsT",
      "execution_count": null,
      "outputs": [
        {
          "output_type": "stream",
          "name": "stdout",
          "text": [
            "     A    B  C    D\n",
            "0  3.0  1.0  3  4.0\n",
            "1  NaN  5.0  7  2.0\n",
            "2  1.0  NaN  2  NaN\n",
            "   C\n",
            "0  3\n",
            "1  7\n",
            "2  2\n"
          ]
        }
      ]
    },
    {
      "cell_type": "code",
      "metadata": {
        "id": "0af0953c-5565-4021-8a52-0836a1b86742",
        "colab": {
          "base_uri": "https://localhost:8080/"
        },
        "outputId": "bd9b1e9e-9eeb-4de3-8835-de7e85aa36b5"
      },
      "source": [
        "import numpy as np\n",
        "import pandas as pd\n",
        "\n",
        "ventas = pd.DataFrame({\"A\":[3, np.nan , 1],\n",
        "                \"B\":[1, 5, np.nan ],\n",
        "                \"C\":[3, 7, 2],\n",
        "                \"D\":[4, 2,np.nan ]} )\n",
        "                #index = [\"Ene\", \"Feb\", \"Mar\"])\n",
        "\n",
        "df_poblacion.set_index(['A'])\n",
        "\n",
        "print(ventas)\n",
        "\n",
        "print(ventas.isnull())\n",
        "\n",
        "print(ventas.dropna())\n",
        "\n",
        "print(ventas.fillna(0))\n",
        "\n",
        "\n",
        "print(ventas)\n",
        "\n",
        "ventas_depurado= ventas.fillna(0)\n",
        "\n",
        "print (ventas_depurado)"
      ],
      "id": "0af0953c-5565-4021-8a52-0836a1b86742",
      "execution_count": null,
      "outputs": [
        {
          "output_type": "stream",
          "name": "stdout",
          "text": [
            "       A    B  C    D\n",
            "Ene  3.0  1.0  3  4.0\n",
            "Feb  NaN  5.0  7  2.0\n",
            "Mar  1.0  NaN  2  NaN\n",
            "         A      B      C      D\n",
            "Ene  False  False  False  False\n",
            "Feb   True  False  False  False\n",
            "Mar  False   True  False   True\n",
            "       A    B  C    D\n",
            "Ene  3.0  1.0  3  4.0\n",
            "       A    B  C    D\n",
            "Ene  3.0  1.0  3  4.0\n",
            "Feb  0.0  5.0  7  2.0\n",
            "Mar  1.0  0.0  2  0.0\n",
            "       A    B  C    D\n",
            "Ene  3.0  1.0  3  4.0\n",
            "Feb  NaN  5.0  7  2.0\n",
            "Mar  1.0  NaN  2  NaN\n",
            "       A    B  C    D\n",
            "Ene  3.0  1.0  3  4.0\n",
            "Feb  0.0  5.0  7  2.0\n",
            "Mar  1.0  0.0  2  0.0\n"
          ]
        }
      ]
    },
    {
      "cell_type": "markdown",
      "metadata": {
        "id": "879629a3-bc3f-4d18-ad73-af8322d5de85"
      },
      "source": [
        "5) VALORES REPETIDOS "
      ],
      "id": "879629a3-bc3f-4d18-ad73-af8322d5de85"
    },
    {
      "cell_type": "code",
      "metadata": {
        "id": "ad254931-ceb9-4059-b1c0-7bdf9fbd8d1f",
        "colab": {
          "base_uri": "https://localhost:8080/"
        },
        "outputId": "d9c44c6a-72ab-4f3f-d351-1234fe4e7fd6"
      },
      "source": [
        "estudiantes = [('jack', 34, 'Sydeny'),\n",
        "               ('Riti', 30, 'Delhi'),\n",
        "               ('Aadi', 16, 'New York'),\n",
        "               ('Riti', 30, 'Delhi'),\n",
        "               ('Riti', 30, 'Delhi'),\n",
        "               ('Riti', 30, 'Mumbai'),\n",
        "               ('Aadi', 40, 'London'),\n",
        "               ('Sachin', 30, 'Delhi')\n",
        "               ]\n",
        "print (estudiantes )\n",
        "df_estudiantes = pd.DataFrame(estudiantes, columns=['Nombre', 'Edad', 'Ciudad'])\n",
        "\n",
        "print (df_estudiantes )\n",
        "##print(df_estudiantes.duplicated())\n",
        "\n",
        "###print(\"\\n\")\n",
        "\n",
        "##print(df_estudiantes.duplicated(['Nombre']))\n",
        "print(df_estudiantes.drop_duplicates(['Nombre']))\n",
        "\n",
        "print(df_estudiantes.drop_duplicates('Nombre'))\n",
        "\n",
        "print (df_estudiantes )"
      ],
      "id": "ad254931-ceb9-4059-b1c0-7bdf9fbd8d1f",
      "execution_count": null,
      "outputs": [
        {
          "output_type": "stream",
          "name": "stdout",
          "text": [
            "[('jack', 34, 'Sydeny'), ('Riti', 30, 'Delhi'), ('Aadi', 16, 'New York'), ('Riti', 30, 'Delhi'), ('Riti', 30, 'Delhi'), ('Riti', 30, 'Mumbai'), ('Aadi', 40, 'London'), ('Sachin', 30, 'Delhi')]\n",
            "   Nombre  Edad    Ciudad\n",
            "0    jack    34    Sydeny\n",
            "1    Riti    30     Delhi\n",
            "2    Aadi    16  New York\n",
            "3    Riti    30     Delhi\n",
            "4    Riti    30     Delhi\n",
            "5    Riti    30    Mumbai\n",
            "6    Aadi    40    London\n",
            "7  Sachin    30     Delhi\n",
            "   Nombre  Edad    Ciudad\n",
            "0    jack    34    Sydeny\n",
            "1    Riti    30     Delhi\n",
            "2    Aadi    16  New York\n",
            "7  Sachin    30     Delhi\n",
            "   Nombre  Edad    Ciudad\n",
            "0    jack    34    Sydeny\n",
            "1    Riti    30     Delhi\n",
            "2    Aadi    16  New York\n",
            "7  Sachin    30     Delhi\n",
            "   Nombre  Edad    Ciudad\n",
            "0    jack    34    Sydeny\n",
            "1    Riti    30     Delhi\n",
            "2    Aadi    16  New York\n",
            "3    Riti    30     Delhi\n",
            "4    Riti    30     Delhi\n",
            "5    Riti    30    Mumbai\n",
            "6    Aadi    40    London\n",
            "7  Sachin    30     Delhi\n"
          ]
        }
      ]
    },
    {
      "cell_type": "markdown",
      "metadata": {
        "id": "675aac68-7703-4e05-b95f-67c7135a7381"
      },
      "source": [
        "8)   --->>>> FUSIONAR"
      ],
      "id": "675aac68-7703-4e05-b95f-67c7135a7381"
    },
    {
      "cell_type": "code",
      "metadata": {
        "id": "9ec013a8-d223-4fc1-bb3d-98b8806e6651",
        "colab": {
          "base_uri": "https://localhost:8080/"
        },
        "outputId": "3d93a48a-de8b-42b2-9a54-9a73468824cb"
      },
      "source": [
        "import pandas as pd\n",
        "\n",
        "df_ventas = pd.DataFrame({\n",
        "            \"Mes\": [\"ene\", \"feb\", \"mar\", \"may\"],\n",
        "            \"Ventas\": [14, 8, 12, 17]})\n",
        "\n",
        "df_costos = pd.DataFrame({\n",
        "            \"Mes\": [\"feb\", \"ene\", \"mar\", \"abr\"],\n",
        "            \"Costos\": [7, 6, 8, 5]})\n",
        "\n",
        "print(df_ventas) \n",
        "print(df_costos)\n",
        "\n",
        "print(pd.merge(df_ventas, df_costos))\n",
        "print(pd.merge(df_ventas, df_costos, how = \"right\"))\n",
        "\n",
        "print(\"\\n\")"
      ],
      "id": "9ec013a8-d223-4fc1-bb3d-98b8806e6651",
      "execution_count": null,
      "outputs": [
        {
          "output_type": "stream",
          "name": "stdout",
          "text": [
            "   Mes  Ventas\n",
            "0  ene      14\n",
            "1  feb       8\n",
            "2  mar      12\n",
            "3  may      17\n",
            "   Mes  Costos\n",
            "0  feb       7\n",
            "1  ene       6\n",
            "2  mar       8\n",
            "3  abr       5\n",
            "   Mes  Ventas  Costos\n",
            "0  ene      14       6\n",
            "1  feb       8       7\n",
            "2  mar      12       8\n",
            "   Mes  Ventas  Costos\n",
            "0  feb     8.0       7\n",
            "1  ene    14.0       6\n",
            "2  mar    12.0       8\n",
            "3  abr     NaN       5\n",
            "\n",
            "\n"
          ]
        }
      ]
    },
    {
      "cell_type": "markdown",
      "metadata": {
        "id": "ee908d3f-07af-4265-8e20-08efb0a2fc4a"
      },
      "source": [
        "9)   --->> CONCATENAR"
      ],
      "id": "ee908d3f-07af-4265-8e20-08efb0a2fc4a"
    },
    {
      "cell_type": "code",
      "metadata": {
        "id": "7cb5f85f-7951-4450-a58d-654488367caf",
        "colab": {
          "base_uri": "https://localhost:8080/"
        },
        "outputId": "3ff77166-13d8-4020-e610-613d3d434f9b"
      },
      "source": [
        "import pandas as pd\n",
        "\n",
        "datos_estudiante_uno = pd.DataFrame({\n",
        "                        'id': ['S1', 'S2', 'S3', 'S4', 'S5'],\n",
        "                        'nombre': ['Danniella Fenton', 'Ryder Storey', 'Bryce Jensen', 'Ed Bernal', 'Kwame Morin'], \n",
        "                        'notas': [5.0, 3.8, 1.9, 4.4, 4.1]})\n",
        "\n",
        "datos_estudiante_dos = pd.DataFrame({\n",
        "                        'id': ['S4', 'S5', 'S6', 'S7', 'S8'],\n",
        "                        'nombre': ['Scarlette Fisher', 'Carla Williamson', 'Dante Morse', 'Kaiser William', 'Madeeha Preston'], \n",
        "                        'notas': [2.9, 4.8, 4.2, 3.5, 4.0],\n",
        "                        'valor': [2.9, 4.8, 4.2, 3.5, 4.0]})\n",
        "\n",
        "\n",
        "print (datos_estudiante_uno + datos_estudiante_dos )\n",
        "print(\"\\n\")\n",
        "#print(datos_estudiante_dos)\n",
        "datos_concatenados = pd.concat([datos_estudiante_uno, datos_estudiante_dos])\n",
        "\n",
        "print(\"\\n\")\n",
        "\n",
        "print(datos_concatenados)"
      ],
      "id": "7cb5f85f-7951-4450-a58d-654488367caf",
      "execution_count": null,
      "outputs": [
        {
          "output_type": "stream",
          "name": "stdout",
          "text": [
            "     id                            nombre  notas  valor\n",
            "0  S1S4  Danniella FentonScarlette Fisher    7.9    NaN\n",
            "1  S2S5      Ryder StoreyCarla Williamson    8.6    NaN\n",
            "2  S3S6           Bryce JensenDante Morse    6.1    NaN\n",
            "3  S4S7           Ed BernalKaiser William    7.9    NaN\n",
            "4  S5S8        Kwame MorinMadeeha Preston    8.1    NaN\n",
            "\n",
            "\n",
            "\n",
            "\n",
            "   id            nombre  notas  valor\n",
            "0  S1  Danniella Fenton    5.0    NaN\n",
            "1  S2      Ryder Storey    3.8    NaN\n",
            "2  S3      Bryce Jensen    1.9    NaN\n",
            "3  S4         Ed Bernal    4.4    NaN\n",
            "4  S5       Kwame Morin    4.1    NaN\n",
            "0  S4  Scarlette Fisher    2.9    2.9\n",
            "1  S5  Carla Williamson    4.8    4.8\n",
            "2  S6       Dante Morse    4.2    4.2\n",
            "3  S7    Kaiser William    3.5    3.5\n",
            "4  S8   Madeeha Preston    4.0    4.0\n"
          ]
        }
      ]
    },
    {
      "cell_type": "markdown",
      "metadata": {
        "id": "bd8687ca-828c-4f1f-850d-db6369159ef6"
      },
      "source": [
        "TALLER  \n",
        "El   archivo   titanic.csv contiene información de los pasajeros del Titanic. Escriba un programa que realice lo siguiente: \n",
        "\n",
        "Generar un DataFrame con los datos del archivo Titanic.csv. \n",
        "\n",
        "0) Imprimir las dimensiones del DataFrame, el número de datos que contiene, los nombres de sus columnas y filas, los tipos de datos de las columnas, las 10 primeras filas y las 10 últimas filas. \n",
        "\n",
        "1) Imprimir los datos del pasajero con id 100. \n",
        "\n",
        "2) Imprimir las filas impares del DataFrame. \n",
        "\n",
        "3) Imprimir los nombres de las personas que iban en segunda clase ordenadas alfabéticamente. \n",
        "\n",
        "4) Imprimir el porcentaje de personas que sobrevivieron y murieron. \n",
        "\n",
        "5) Imprimir el porcentaje de personas que murieron en cada clase. \n",
        "\n",
        "6) Eliminar del DataFrame los pasajeros con edad desconocida. \n",
        "\n",
        "7) Imprimir la edad media de los hombres que viajaban en cada clase. \n",
        "\n",
        "8) Añadir una nueva columna para determinar si el pasajero era menor de edad o no. \n",
        "\n",
        "9) Imprimir el porcentaje de menores y mayores de edad que sobrevivieron en cada clase. "
      ],
      "id": "bd8687ca-828c-4f1f-850d-db6369159ef6"
    },
    {
      "cell_type": "code",
      "metadata": {
        "id": "9m52W8SPkxjD"
      },
      "source": [
        ""
      ],
      "id": "9m52W8SPkxjD",
      "execution_count": null,
      "outputs": []
    },
    {
      "cell_type": "code",
      "metadata": {
        "id": "ATM5zDJog0M-"
      },
      "source": [
        ""
      ],
      "id": "ATM5zDJog0M-",
      "execution_count": null,
      "outputs": []
    },
    {
      "cell_type": "code",
      "metadata": {
        "colab": {
          "resources": {
            "http://localhost:8080/nbextensions/google.colab/files.js": {
              "data": "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",
              "ok": true,
              "headers": [
                [
                  "content-type",
                  "application/javascript"
                ]
              ],
              "status": 200,
              "status_text": ""
            }
          },
          "base_uri": "https://localhost:8080/",
          "height": 72
        },
        "id": "QWhW8JcZg5Xm",
        "outputId": "04263b0a-1f2c-4588-b064-8a170213b91b"
      },
      "source": [
        "import pandas as pd\n",
        "\n",
        "from google.colab import files\n",
        "uploaded = files.upload()\n"
      ],
      "id": "QWhW8JcZg5Xm",
      "execution_count": 1,
      "outputs": [
        {
          "output_type": "display_data",
          "data": {
            "text/html": [
              "\n",
              "     <input type=\"file\" id=\"files-8fffffd3-ccd9-4d1b-8b6b-547045b441a3\" name=\"files[]\" multiple disabled\n",
              "        style=\"border:none\" />\n",
              "     <output id=\"result-8fffffd3-ccd9-4d1b-8b6b-547045b441a3\">\n",
              "      Upload widget is only available when the cell has been executed in the\n",
              "      current browser session. Please rerun this cell to enable.\n",
              "      </output>\n",
              "      <script src=\"/nbextensions/google.colab/files.js\"></script> "
            ],
            "text/plain": [
              "<IPython.core.display.HTML object>"
            ]
          },
          "metadata": {}
        },
        {
          "output_type": "stream",
          "name": "stdout",
          "text": [
            "Saving 3.1.16-titanic.csv to 3.1.16-titanic.csv\n"
          ]
        }
      ]
    },
    {
      "cell_type": "code",
      "metadata": {
        "id": "29hX0XGNhT7U",
        "colab": {
          "base_uri": "https://localhost:8080/"
        },
        "outputId": "e0e921ce-5ef9-4a03-9def-3217daa4b103"
      },
      "source": [
        "df_titanic = pd.read_csv('3.1.16-titanic.csv')\n",
        "#df_titanic\n",
        "print(df_titanic.head(10))\n",
        "print(df_titanic.tail(10))\n",
        "df_titanic.shape\n",
        "print(df_titanic.index)\n",
        "print(df_titanic.columns)\n",
        "print(df_titanic.dtypes)\n",
        "#df_titanic.describe()"
      ],
      "id": "29hX0XGNhT7U",
      "execution_count": 2,
      "outputs": [
        {
          "output_type": "stream",
          "name": "stdout",
          "text": [
            "   PassengerId  Survived  Pclass  ...     Fare Cabin  Embarked\n",
            "0            1         0       3  ...   7.2500   NaN         S\n",
            "1            2         1       1  ...  71.2833   C85         C\n",
            "2            3         1       3  ...   7.9250   NaN         S\n",
            "3            4         1       1  ...  53.1000  C123         S\n",
            "4            5         0       3  ...   8.0500   NaN         S\n",
            "5            6         0       3  ...   8.4583   NaN         Q\n",
            "6            7         0       1  ...  51.8625   E46         S\n",
            "7            8         0       3  ...  21.0750   NaN         S\n",
            "8            9         1       3  ...  11.1333   NaN         S\n",
            "9           10         1       2  ...  30.0708   NaN         C\n",
            "\n",
            "[10 rows x 12 columns]\n",
            "     PassengerId  Survived  Pclass  ...     Fare Cabin  Embarked\n",
            "881          882         0       3  ...   7.8958   NaN         S\n",
            "882          883         0       3  ...  10.5167   NaN         S\n",
            "883          884         0       2  ...  10.5000   NaN         S\n",
            "884          885         0       3  ...   7.0500   NaN         S\n",
            "885          886         0       3  ...  29.1250   NaN         Q\n",
            "886          887         0       2  ...  13.0000   NaN         S\n",
            "887          888         1       1  ...  30.0000   B42         S\n",
            "888          889         0       3  ...  23.4500   NaN         S\n",
            "889          890         1       1  ...  30.0000  C148         C\n",
            "890          891         0       3  ...   7.7500   NaN         Q\n",
            "\n",
            "[10 rows x 12 columns]\n",
            "RangeIndex(start=0, stop=891, step=1)\n",
            "Index(['PassengerId', 'Survived', 'Pclass', 'Name', 'Sex', 'Age', 'SibSp',\n",
            "       'Parch', 'Ticket', 'Fare', 'Cabin', 'Embarked'],\n",
            "      dtype='object')\n",
            "PassengerId      int64\n",
            "Survived         int64\n",
            "Pclass           int64\n",
            "Name            object\n",
            "Sex             object\n",
            "Age            float64\n",
            "SibSp            int64\n",
            "Parch            int64\n",
            "Ticket          object\n",
            "Fare           float64\n",
            "Cabin           object\n",
            "Embarked        object\n",
            "dtype: object\n"
          ]
        }
      ]
    },
    {
      "cell_type": "code",
      "metadata": {
        "id": "T2Cos5EZqSjN"
      },
      "source": [
        ""
      ],
      "id": "T2Cos5EZqSjN",
      "execution_count": null,
      "outputs": []
    },
    {
      "cell_type": "code",
      "metadata": {
        "id": "vsW48fGsj3OP",
        "colab": {
          "base_uri": "https://localhost:8080/"
        },
        "outputId": "598a0615-d9ae-4a71-e134-bb2cd6fd0f6e"
      },
      "source": [
        "print(df_titanic [['Name' , 'Sex','PassengerId']] [df_titanic[\"PassengerId\"]==100])\n",
        "print(df_titanic.loc[99])\n"
      ],
      "id": "vsW48fGsj3OP",
      "execution_count": null,
      "outputs": [
        {
          "output_type": "stream",
          "name": "stdout",
          "text": [
            "                 Name   Sex  PassengerId\n",
            "99  Kantor, Mr. Sinai  male          100\n",
            "PassengerId                  100\n",
            "Survived                       0\n",
            "Pclass                         2\n",
            "Name           Kantor, Mr. Sinai\n",
            "Sex                         male\n",
            "Age                           34\n",
            "SibSp                          1\n",
            "Parch                          0\n",
            "Ticket                    244367\n",
            "Fare                          26\n",
            "Cabin                        NaN\n",
            "Embarked                       S\n",
            "Name: 99, dtype: object\n"
          ]
        }
      ]
    },
    {
      "cell_type": "code",
      "metadata": {
        "id": "aQwdOTKQnRgQ",
        "colab": {
          "base_uri": "https://localhost:8080/"
        },
        "outputId": "9c699036-4e7c-435a-a7c9-9d1087b9ecdf"
      },
      "source": [
        "#df_titanic.iloc[0:5]\n",
        "#print(df_titanic.shape[0])\n",
        "print(df_titanic.iloc[range(1,df_titanic.shape[0],2)] )\n"
      ],
      "id": "aQwdOTKQnRgQ",
      "execution_count": null,
      "outputs": [
        {
          "output_type": "stream",
          "name": "stdout",
          "text": [
            "     PassengerId  Survived  Pclass  ...     Fare Cabin  Embarked\n",
            "1              2         1       1  ...  71.2833   C85         C\n",
            "3              4         1       1  ...  53.1000  C123         S\n",
            "5              6         0       3  ...   8.4583   NaN         Q\n",
            "7              8         0       3  ...  21.0750   NaN         S\n",
            "9             10         1       2  ...  30.0708   NaN         C\n",
            "..           ...       ...     ...  ...      ...   ...       ...\n",
            "881          882         0       3  ...   7.8958   NaN         S\n",
            "883          884         0       2  ...  10.5000   NaN         S\n",
            "885          886         0       3  ...  29.1250   NaN         Q\n",
            "887          888         1       1  ...  30.0000   B42         S\n",
            "889          890         1       1  ...  30.0000  C148         C\n",
            "\n",
            "[445 rows x 12 columns]\n"
          ]
        }
      ]
    },
    {
      "cell_type": "code",
      "metadata": {
        "id": "NOnd7e7YqVJ7",
        "colab": {
          "base_uri": "https://localhost:8080/"
        },
        "outputId": "5dbdb921-44ad-4bac-82fd-779a6623a127"
      },
      "source": [
        "print(df_titanic [['Name' , 'Sex','Pclass']] [df_titanic[\"Pclass\"]==2].sort_values('Name',ascending=True))"
      ],
      "id": "NOnd7e7YqVJ7",
      "execution_count": null,
      "outputs": [
        {
          "output_type": "stream",
          "name": "stdout",
          "text": [
            "                                                  Name     Sex  Pclass\n",
            "308                                Abelson, Mr. Samuel    male       2\n",
            "874              Abelson, Mrs. Samuel (Hannah Wizosky)  female       2\n",
            "144                         Andrew, Mr. Edgardo Samuel    male       2\n",
            "518  Angle, Mrs. William A (Florence \"Mary\" Agnes H...  female       2\n",
            "757                           Bailey, Mr. Percy Andrew    male       2\n",
            "..                                                 ...     ...     ...\n",
            "33                               Wheadon, Mr. Edward H    male       2\n",
            "673                              Wilhelms, Mr. Charles    male       2\n",
            "17                        Williams, Mr. Charles Eugene    male       2\n",
            "199             Yrois, Miss. Henriette (\"Mrs Harbeck\")  female       2\n",
            "361                          del Carlo, Mr. Sebastiano    male       2\n",
            "\n",
            "[184 rows x 3 columns]\n"
          ]
        }
      ]
    },
    {
      "cell_type": "code",
      "metadata": {
        "id": "KO_ke6Psro-N",
        "colab": {
          "base_uri": "https://localhost:8080/"
        },
        "outputId": "1b6bee4e-dd70-46fe-c555-28b81e588a88"
      },
      "source": [
        "print(df_titanic['Survived'].value_counts(normalize=True)*100)"
      ],
      "id": "KO_ke6Psro-N",
      "execution_count": null,
      "outputs": [
        {
          "output_type": "stream",
          "name": "stdout",
          "text": [
            "0    61.616162\n",
            "1    38.383838\n",
            "Name: Survived, dtype: float64\n"
          ]
        }
      ]
    },
    {
      "cell_type": "code",
      "metadata": {
        "colab": {
          "base_uri": "https://localhost:8080/"
        },
        "id": "FnDTRL5Cs3Yb",
        "outputId": "cdbb28bd-fe0b-4205-f6cd-c2a30381de1a"
      },
      "source": [
        "#print(df_titanic['Survived'].value_counts(normalize=True)*100)\n",
        "print(df_titanic.groupby('Pclass')['Survived'].value_counts(normalize=True) * 100)\n"
      ],
      "id": "FnDTRL5Cs3Yb",
      "execution_count": null,
      "outputs": [
        {
          "output_type": "stream",
          "name": "stdout",
          "text": [
            "Pclass  Survived\n",
            "1       1           62.962963\n",
            "        0           37.037037\n",
            "2       0           52.717391\n",
            "        1           47.282609\n",
            "3       0           75.763747\n",
            "        1           24.236253\n",
            "Name: Survived, dtype: float64\n"
          ]
        }
      ]
    },
    {
      "cell_type": "code",
      "metadata": {
        "id": "7JmBRm-tuWlb",
        "colab": {
          "base_uri": "https://localhost:8080/"
        },
        "outputId": "5f1d194e-9111-4dc1-8f6c-5a76b51968f2"
      },
      "source": [
        "print(df_titanic['Age'].dropna())\n",
        "print(df_titanic.dropna(subset=['Age']))"
      ],
      "id": "7JmBRm-tuWlb",
      "execution_count": null,
      "outputs": [
        {
          "output_type": "stream",
          "name": "stdout",
          "text": [
            "1      38.0\n",
            "2      26.0\n",
            "3      35.0\n",
            "4      35.0\n",
            "6      54.0\n",
            "       ... \n",
            "885    39.0\n",
            "886    27.0\n",
            "887    19.0\n",
            "889    26.0\n",
            "890    32.0\n",
            "Name: Age, Length: 713, dtype: float64\n",
            "     PassengerId  Survived  Pclass  ...     Fare Cabin  Embarked\n",
            "1              2         1       1  ...  71.2833   C85         C\n",
            "2              3         1       3  ...   7.9250   NaN         S\n",
            "3              4         1       1  ...  53.1000  C123         S\n",
            "4              5         0       3  ...   8.0500   NaN         S\n",
            "6              7         0       1  ...  51.8625   E46         S\n",
            "..           ...       ...     ...  ...      ...   ...       ...\n",
            "885          886         0       3  ...  29.1250   NaN         Q\n",
            "886          887         0       2  ...  13.0000   NaN         S\n",
            "887          888         1       1  ...  30.0000   B42         S\n",
            "889          890         1       1  ...  30.0000  C148         C\n",
            "890          891         0       3  ...   7.7500   NaN         Q\n",
            "\n",
            "[713 rows x 12 columns]\n"
          ]
        }
      ]
    },
    {
      "cell_type": "code",
      "metadata": {
        "id": "4_bX-VDKwOt-"
      },
      "source": [
        ""
      ],
      "id": "4_bX-VDKwOt-",
      "execution_count": null,
      "outputs": []
    },
    {
      "cell_type": "code",
      "metadata": {
        "colab": {
          "base_uri": "https://localhost:8080/",
          "height": 419
        },
        "id": "5A1P-oKRwa4M",
        "outputId": "df6ee67b-5627-4356-ccf1-4b8c7157593f"
      },
      "source": [
        "#print(df_titanic['Survived'].value_counts(normalize=True)*100)\n",
        "#print(df_titanic.groupby('Pclass')['Survived'].value_counts(normalize=True) * 100)\n",
        "values= [ 'female']\n",
        "df_titanic[~df_titanic.Sex.isin(values)]\n",
        "##df_titanic_hombres = df_titanic [df_titanic[\"Sex\"]=='male']\n",
        "##print(df_titanic_hombres.groupby(['Pclass', 'Survived'])['Age'].mean())"
      ],
      "id": "5A1P-oKRwa4M",
      "execution_count": 5,
      "outputs": [
        {
          "output_type": "execute_result",
          "data": {
            "text/html": [
              "<div>\n",
              "<style scoped>\n",
              "    .dataframe tbody tr th:only-of-type {\n",
              "        vertical-align: middle;\n",
              "    }\n",
              "\n",
              "    .dataframe tbody tr th {\n",
              "        vertical-align: top;\n",
              "    }\n",
              "\n",
              "    .dataframe thead th {\n",
              "        text-align: right;\n",
              "    }\n",
              "</style>\n",
              "<table border=\"1\" class=\"dataframe\">\n",
              "  <thead>\n",
              "    <tr style=\"text-align: right;\">\n",
              "      <th></th>\n",
              "      <th>PassengerId</th>\n",
              "      <th>Survived</th>\n",
              "      <th>Pclass</th>\n",
              "      <th>Name</th>\n",
              "      <th>Sex</th>\n",
              "      <th>Age</th>\n",
              "      <th>SibSp</th>\n",
              "      <th>Parch</th>\n",
              "      <th>Ticket</th>\n",
              "      <th>Fare</th>\n",
              "      <th>Cabin</th>\n",
              "      <th>Embarked</th>\n",
              "    </tr>\n",
              "  </thead>\n",
              "  <tbody>\n",
              "    <tr>\n",
              "      <th>0</th>\n",
              "      <td>1</td>\n",
              "      <td>0</td>\n",
              "      <td>3</td>\n",
              "      <td>Braund, Mr. Owen Harris</td>\n",
              "      <td>male</td>\n",
              "      <td>NaN</td>\n",
              "      <td>1</td>\n",
              "      <td>0</td>\n",
              "      <td>A/5 21171</td>\n",
              "      <td>7.2500</td>\n",
              "      <td>NaN</td>\n",
              "      <td>S</td>\n",
              "    </tr>\n",
              "    <tr>\n",
              "      <th>4</th>\n",
              "      <td>5</td>\n",
              "      <td>0</td>\n",
              "      <td>3</td>\n",
              "      <td>Allen, Mr. William Henry</td>\n",
              "      <td>male</td>\n",
              "      <td>35.0</td>\n",
              "      <td>0</td>\n",
              "      <td>0</td>\n",
              "      <td>373450</td>\n",
              "      <td>8.0500</td>\n",
              "      <td>NaN</td>\n",
              "      <td>S</td>\n",
              "    </tr>\n",
              "    <tr>\n",
              "      <th>5</th>\n",
              "      <td>6</td>\n",
              "      <td>0</td>\n",
              "      <td>3</td>\n",
              "      <td>Moran, Mr. James</td>\n",
              "      <td>male</td>\n",
              "      <td>NaN</td>\n",
              "      <td>0</td>\n",
              "      <td>0</td>\n",
              "      <td>330877</td>\n",
              "      <td>8.4583</td>\n",
              "      <td>NaN</td>\n",
              "      <td>Q</td>\n",
              "    </tr>\n",
              "    <tr>\n",
              "      <th>6</th>\n",
              "      <td>7</td>\n",
              "      <td>0</td>\n",
              "      <td>1</td>\n",
              "      <td>McCarthy, Mr. Timothy J</td>\n",
              "      <td>male</td>\n",
              "      <td>54.0</td>\n",
              "      <td>0</td>\n",
              "      <td>0</td>\n",
              "      <td>17463</td>\n",
              "      <td>51.8625</td>\n",
              "      <td>E46</td>\n",
              "      <td>S</td>\n",
              "    </tr>\n",
              "    <tr>\n",
              "      <th>7</th>\n",
              "      <td>8</td>\n",
              "      <td>0</td>\n",
              "      <td>3</td>\n",
              "      <td>Palsson, Master. Gosta Leonard</td>\n",
              "      <td>male</td>\n",
              "      <td>2.0</td>\n",
              "      <td>3</td>\n",
              "      <td>1</td>\n",
              "      <td>349909</td>\n",
              "      <td>21.0750</td>\n",
              "      <td>NaN</td>\n",
              "      <td>S</td>\n",
              "    </tr>\n",
              "    <tr>\n",
              "      <th>...</th>\n",
              "      <td>...</td>\n",
              "      <td>...</td>\n",
              "      <td>...</td>\n",
              "      <td>...</td>\n",
              "      <td>...</td>\n",
              "      <td>...</td>\n",
              "      <td>...</td>\n",
              "      <td>...</td>\n",
              "      <td>...</td>\n",
              "      <td>...</td>\n",
              "      <td>...</td>\n",
              "      <td>...</td>\n",
              "    </tr>\n",
              "    <tr>\n",
              "      <th>883</th>\n",
              "      <td>884</td>\n",
              "      <td>0</td>\n",
              "      <td>2</td>\n",
              "      <td>Banfield, Mr. Frederick James</td>\n",
              "      <td>male</td>\n",
              "      <td>28.0</td>\n",
              "      <td>0</td>\n",
              "      <td>0</td>\n",
              "      <td>C.A./SOTON 34068</td>\n",
              "      <td>10.5000</td>\n",
              "      <td>NaN</td>\n",
              "      <td>S</td>\n",
              "    </tr>\n",
              "    <tr>\n",
              "      <th>884</th>\n",
              "      <td>885</td>\n",
              "      <td>0</td>\n",
              "      <td>3</td>\n",
              "      <td>Sutehall, Mr. Henry Jr</td>\n",
              "      <td>male</td>\n",
              "      <td>25.0</td>\n",
              "      <td>0</td>\n",
              "      <td>0</td>\n",
              "      <td>SOTON/OQ 392076</td>\n",
              "      <td>7.0500</td>\n",
              "      <td>NaN</td>\n",
              "      <td>S</td>\n",
              "    </tr>\n",
              "    <tr>\n",
              "      <th>886</th>\n",
              "      <td>887</td>\n",
              "      <td>0</td>\n",
              "      <td>2</td>\n",
              "      <td>Montvila, Rev. Juozas</td>\n",
              "      <td>male</td>\n",
              "      <td>27.0</td>\n",
              "      <td>0</td>\n",
              "      <td>0</td>\n",
              "      <td>211536</td>\n",
              "      <td>13.0000</td>\n",
              "      <td>NaN</td>\n",
              "      <td>S</td>\n",
              "    </tr>\n",
              "    <tr>\n",
              "      <th>889</th>\n",
              "      <td>890</td>\n",
              "      <td>1</td>\n",
              "      <td>1</td>\n",
              "      <td>Behr, Mr. Karl Howell</td>\n",
              "      <td>male</td>\n",
              "      <td>26.0</td>\n",
              "      <td>0</td>\n",
              "      <td>0</td>\n",
              "      <td>111369</td>\n",
              "      <td>30.0000</td>\n",
              "      <td>C148</td>\n",
              "      <td>C</td>\n",
              "    </tr>\n",
              "    <tr>\n",
              "      <th>890</th>\n",
              "      <td>891</td>\n",
              "      <td>0</td>\n",
              "      <td>3</td>\n",
              "      <td>Dooley, Mr. Patrick</td>\n",
              "      <td>male</td>\n",
              "      <td>32.0</td>\n",
              "      <td>0</td>\n",
              "      <td>0</td>\n",
              "      <td>370376</td>\n",
              "      <td>7.7500</td>\n",
              "      <td>NaN</td>\n",
              "      <td>Q</td>\n",
              "    </tr>\n",
              "  </tbody>\n",
              "</table>\n",
              "<p>577 rows × 12 columns</p>\n",
              "</div>"
            ],
            "text/plain": [
              "     PassengerId  Survived  Pclass  ...     Fare Cabin  Embarked\n",
              "0              1         0       3  ...   7.2500   NaN         S\n",
              "4              5         0       3  ...   8.0500   NaN         S\n",
              "5              6         0       3  ...   8.4583   NaN         Q\n",
              "6              7         0       1  ...  51.8625   E46         S\n",
              "7              8         0       3  ...  21.0750   NaN         S\n",
              "..           ...       ...     ...  ...      ...   ...       ...\n",
              "883          884         0       2  ...  10.5000   NaN         S\n",
              "884          885         0       3  ...   7.0500   NaN         S\n",
              "886          887         0       2  ...  13.0000   NaN         S\n",
              "889          890         1       1  ...  30.0000  C148         C\n",
              "890          891         0       3  ...   7.7500   NaN         Q\n",
              "\n",
              "[577 rows x 12 columns]"
            ]
          },
          "metadata": {},
          "execution_count": 5
        }
      ]
    },
    {
      "cell_type": "code",
      "metadata": {
        "id": "bCQol-hxk1Qc",
        "colab": {
          "base_uri": "https://localhost:8080/"
        },
        "outputId": "7e405701-2585-44b6-b2da-8afb9a84493a"
      },
      "source": [
        "print (df_titanic['Age'] )\n",
        "df_titanic['Age'] <18\n",
        "df_titanic ['mayorEdad'] = df_titanic ['Age'] < 18\n",
        "\n",
        "print (df_titanic[['Age' , 'mayorEdad']]  [ df_titanic['Age'] < 18]  )\n",
        "\n",
        "#print(df_titanic.max())\n",
        "df_titanic['Age'].max() \n",
        "df_titanic.max()\n",
        "## 9) Imprimir el porcentaje de menores y mayores de edad que sobrevivieron en cada clase.\n",
        "print(df_titanic.groupby(['Pclass', 'mayorEdad'])['Survived'].value_counts(normalize=True) * 100)\n",
        "\n",
        "print(df_titanic.groupby(['Pclass', 'mayorEdad'])['Survived'].value_counts(normalize=True).unstack()[1] * 100  )\n",
        "\n",
        "print(df_titanic.groupby(['Pclass', 'Survived'])['mayorEdad'].value_counts(normalize=True) * 100  )\n",
        "print(df_titanic.groupby(['Pclass', 'Survived'])['mayorEdad'].value_counts(normalize=True).unstack()[1] * 100  )\n",
        "print(df_titanic.groupby(['Pclass', 'Survived'])['mayorEdad'].value_counts(normalize=True).unstack()[0] * 100  )"
      ],
      "id": "bCQol-hxk1Qc",
      "execution_count": null,
      "outputs": [
        {
          "output_type": "stream",
          "name": "stdout",
          "text": [
            "0       NaN\n",
            "1      38.0\n",
            "2      26.0\n",
            "3      35.0\n",
            "4      35.0\n",
            "       ... \n",
            "886    27.0\n",
            "887    19.0\n",
            "888     NaN\n",
            "889    26.0\n",
            "890    32.0\n",
            "Name: Age, Length: 891, dtype: float64\n",
            "      Age  mayorEdad\n",
            "7     2.0       True\n",
            "9    14.0       True\n",
            "10    4.0       True\n",
            "14   14.0       True\n",
            "16    2.0       True\n",
            "..    ...        ...\n",
            "850   4.0       True\n",
            "852   9.0       True\n",
            "853  16.0       True\n",
            "869   4.0       True\n",
            "875  15.0       True\n",
            "\n",
            "[113 rows x 2 columns]\n",
            "Pclass  mayorEdad  Survived\n",
            "1       False      1           61.274510\n",
            "                   0           38.725490\n",
            "        True       1           91.666667\n",
            "                   0            8.333333\n",
            "2       False      0           59.006211\n",
            "                   1           40.993789\n",
            "        True       1           91.304348\n",
            "                   0            8.695652\n",
            "3       False      0           78.208232\n",
            "                   1           21.791768\n",
            "        True       0           62.820513\n",
            "                   1           37.179487\n",
            "Name: Survived, dtype: float64\n",
            "Pclass  mayorEdad\n",
            "1       False        61.274510\n",
            "        True         91.666667\n",
            "2       False        40.993789\n",
            "        True         91.304348\n",
            "3       False        21.791768\n",
            "        True         37.179487\n",
            "Name: 1, dtype: float64\n",
            "Pclass  Survived  mayorEdad\n",
            "1       0         False        98.750000\n",
            "                  True          1.250000\n",
            "        1         False        91.911765\n",
            "                  True          8.088235\n",
            "2       0         False        97.938144\n",
            "                  True          2.061856\n",
            "        1         False        75.862069\n",
            "                  True         24.137931\n",
            "3       0         False        86.827957\n",
            "                  True         13.172043\n",
            "        1         False        75.630252\n",
            "                  True         24.369748\n",
            "Name: mayorEdad, dtype: float64\n",
            "Pclass  Survived\n",
            "1       0            1.250000\n",
            "        1            8.088235\n",
            "2       0            2.061856\n",
            "        1           24.137931\n",
            "3       0           13.172043\n",
            "        1           24.369748\n",
            "Name: True, dtype: float64\n",
            "Pclass  Survived\n",
            "1       0           98.750000\n",
            "        1           91.911765\n",
            "2       0           97.938144\n",
            "        1           75.862069\n",
            "3       0           86.827957\n",
            "        1           75.630252\n",
            "dtype: float64\n"
          ]
        }
      ]
    }
  ]
}