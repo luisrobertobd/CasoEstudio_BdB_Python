{
  "nbformat": 4,
  "nbformat_minor": 0,
  "metadata": {
    "colab": {
      "name": "Untitled17.ipynb",
      "provenance": [],
      "authorship_tag": "ABX9TyNPfQTJ8m9suDlLK98R+3AZ",
      "include_colab_link": true
    },
    "kernelspec": {
      "name": "python3",
      "display_name": "Python 3"
    },
    "language_info": {
      "name": "python"
    }
  },
  "cells": [
    {
      "cell_type": "markdown",
      "metadata": {
        "id": "view-in-github",
        "colab_type": "text"
      },
      "source": [
        "<a href=\"https://colab.research.google.com/github/luisrobertobd/CasoEstudio_BdB_Python/blob/main/Pandas_carga_files.ipynb\" target=\"_parent\"><img src=\"https://colab.research.google.com/assets/colab-badge.svg\" alt=\"Open In Colab\"/></a>"
      ]
    },
    {
      "cell_type": "code",
      "metadata": {
        "colab": {
          "base_uri": "https://localhost:8080/"
        },
        "id": "tIJqYuhMb188",
        "outputId": "2409a01f-37ab-426c-9a9c-d9986958f872"
      },
      "source": [
        "from google.colab import drive\n",
        "drive.mount('/content/drive')"
      ],
      "execution_count": 11,
      "outputs": [
        {
          "output_type": "stream",
          "name": "stdout",
          "text": [
            "Drive already mounted at /content/drive; to attempt to forcibly remount, call drive.mount(\"/content/drive\", force_remount=True).\n"
          ]
        }
      ]
    },
    {
      "cell_type": "code",
      "metadata": {
        "id": "Olv8T2vLcucT"
      },
      "source": [
        "import pandas as pd\n",
        "iris_df = pd.read_csv(\"/content/drive/MyDrive/LABORAL/PHYTON_WEB/PANDAS/Pandas+Full+Material/Pandas Full-Material/1. Reading Files using Pandas/1. Reading Files using Pandas/Iris.csv\")"
      ],
      "execution_count": 13,
      "outputs": []
    },
    {
      "cell_type": "code",
      "metadata": {
        "colab": {
          "base_uri": "https://localhost:8080/"
        },
        "id": "eFo0IbhCf35w",
        "outputId": "c0cf9ac4-a482-4318-a9f1-faa649c3fd3c"
      },
      "source": [
        "iris_df.shape"
      ],
      "execution_count": 14,
      "outputs": [
        {
          "output_type": "execute_result",
          "data": {
            "text/plain": [
              "(150, 6)"
            ]
          },
          "metadata": {},
          "execution_count": 14
        }
      ]
    },
    {
      "cell_type": "code",
      "metadata": {
        "colab": {
          "base_uri": "https://localhost:8080/"
        },
        "id": "0Sur6v6_hX1N",
        "outputId": "da1eaa0e-10b9-4d7e-bed3-56ac2731667e"
      },
      "source": [
        "from google.colab import drive\n",
        "drive.mount('/content/drive_ed')"
      ],
      "execution_count": 15,
      "outputs": [
        {
          "output_type": "stream",
          "name": "stdout",
          "text": [
            "Mounted at /content/drive_ed\n"
          ]
        }
      ]
    }
  ]
}